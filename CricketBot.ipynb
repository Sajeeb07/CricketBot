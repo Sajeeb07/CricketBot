{
  "nbformat": 4,
  "nbformat_minor": 0,
  "metadata": {
    "colab": {
      "provenance": [],
      "gpuType": "T4",
      "authorship_tag": "ABX9TyNNGkpw+g3LDm0mK/QfbvAc",
      "include_colab_link": true
    },
    "kernelspec": {
      "name": "python3",
      "display_name": "Python 3"
    },
    "language_info": {
      "name": "python"
    },
    "accelerator": "GPU",
    "widgets": {
      "application/vnd.jupyter.widget-state+json": {
        "0bc4e3deb714418bb8e387d224e02d45": {
          "model_module": "@jupyter-widgets/controls",
          "model_name": "HBoxModel",
          "model_module_version": "1.5.0",
          "state": {
            "_dom_classes": [],
            "_model_module": "@jupyter-widgets/controls",
            "_model_module_version": "1.5.0",
            "_model_name": "HBoxModel",
            "_view_count": null,
            "_view_module": "@jupyter-widgets/controls",
            "_view_module_version": "1.5.0",
            "_view_name": "HBoxView",
            "box_style": "",
            "children": [
              "IPY_MODEL_5b730a724e1a4346a16142d7c197c255",
              "IPY_MODEL_c35027e0a79c41e997ec66db412ab408",
              "IPY_MODEL_164bab3b8a874d33b10aa4b38d11f8f3"
            ],
            "layout": "IPY_MODEL_5a2a5d9e28a04fe794c3976b87eb96d6"
          }
        },
        "5b730a724e1a4346a16142d7c197c255": {
          "model_module": "@jupyter-widgets/controls",
          "model_name": "HTMLModel",
          "model_module_version": "1.5.0",
          "state": {
            "_dom_classes": [],
            "_model_module": "@jupyter-widgets/controls",
            "_model_module_version": "1.5.0",
            "_model_name": "HTMLModel",
            "_view_count": null,
            "_view_module": "@jupyter-widgets/controls",
            "_view_module_version": "1.5.0",
            "_view_name": "HTMLView",
            "description": "",
            "description_tooltip": null,
            "layout": "IPY_MODEL_912d0e5eb478442c85bd6effd21f58bf",
            "placeholder": "​",
            "style": "IPY_MODEL_0073d981b06846fd88f12f4a6982901b",
            "value": "modules.json: 100%"
          }
        },
        "c35027e0a79c41e997ec66db412ab408": {
          "model_module": "@jupyter-widgets/controls",
          "model_name": "FloatProgressModel",
          "model_module_version": "1.5.0",
          "state": {
            "_dom_classes": [],
            "_model_module": "@jupyter-widgets/controls",
            "_model_module_version": "1.5.0",
            "_model_name": "FloatProgressModel",
            "_view_count": null,
            "_view_module": "@jupyter-widgets/controls",
            "_view_module_version": "1.5.0",
            "_view_name": "ProgressView",
            "bar_style": "success",
            "description": "",
            "description_tooltip": null,
            "layout": "IPY_MODEL_2b0d06bc8b674320a39f514275f4cf6a",
            "max": 349,
            "min": 0,
            "orientation": "horizontal",
            "style": "IPY_MODEL_52d7e3559db54a479d7d7a8aaa9f4b08",
            "value": 349
          }
        },
        "164bab3b8a874d33b10aa4b38d11f8f3": {
          "model_module": "@jupyter-widgets/controls",
          "model_name": "HTMLModel",
          "model_module_version": "1.5.0",
          "state": {
            "_dom_classes": [],
            "_model_module": "@jupyter-widgets/controls",
            "_model_module_version": "1.5.0",
            "_model_name": "HTMLModel",
            "_view_count": null,
            "_view_module": "@jupyter-widgets/controls",
            "_view_module_version": "1.5.0",
            "_view_name": "HTMLView",
            "description": "",
            "description_tooltip": null,
            "layout": "IPY_MODEL_06179a00e608400f9e3f5578de67a031",
            "placeholder": "​",
            "style": "IPY_MODEL_18a169deb1b14d389d9386662266120d",
            "value": " 349/349 [00:00&lt;00:00, 10.9kB/s]"
          }
        },
        "5a2a5d9e28a04fe794c3976b87eb96d6": {
          "model_module": "@jupyter-widgets/base",
          "model_name": "LayoutModel",
          "model_module_version": "1.2.0",
          "state": {
            "_model_module": "@jupyter-widgets/base",
            "_model_module_version": "1.2.0",
            "_model_name": "LayoutModel",
            "_view_count": null,
            "_view_module": "@jupyter-widgets/base",
            "_view_module_version": "1.2.0",
            "_view_name": "LayoutView",
            "align_content": null,
            "align_items": null,
            "align_self": null,
            "border": null,
            "bottom": null,
            "display": null,
            "flex": null,
            "flex_flow": null,
            "grid_area": null,
            "grid_auto_columns": null,
            "grid_auto_flow": null,
            "grid_auto_rows": null,
            "grid_column": null,
            "grid_gap": null,
            "grid_row": null,
            "grid_template_areas": null,
            "grid_template_columns": null,
            "grid_template_rows": null,
            "height": null,
            "justify_content": null,
            "justify_items": null,
            "left": null,
            "margin": null,
            "max_height": null,
            "max_width": null,
            "min_height": null,
            "min_width": null,
            "object_fit": null,
            "object_position": null,
            "order": null,
            "overflow": null,
            "overflow_x": null,
            "overflow_y": null,
            "padding": null,
            "right": null,
            "top": null,
            "visibility": null,
            "width": null
          }
        },
        "912d0e5eb478442c85bd6effd21f58bf": {
          "model_module": "@jupyter-widgets/base",
          "model_name": "LayoutModel",
          "model_module_version": "1.2.0",
          "state": {
            "_model_module": "@jupyter-widgets/base",
            "_model_module_version": "1.2.0",
            "_model_name": "LayoutModel",
            "_view_count": null,
            "_view_module": "@jupyter-widgets/base",
            "_view_module_version": "1.2.0",
            "_view_name": "LayoutView",
            "align_content": null,
            "align_items": null,
            "align_self": null,
            "border": null,
            "bottom": null,
            "display": null,
            "flex": null,
            "flex_flow": null,
            "grid_area": null,
            "grid_auto_columns": null,
            "grid_auto_flow": null,
            "grid_auto_rows": null,
            "grid_column": null,
            "grid_gap": null,
            "grid_row": null,
            "grid_template_areas": null,
            "grid_template_columns": null,
            "grid_template_rows": null,
            "height": null,
            "justify_content": null,
            "justify_items": null,
            "left": null,
            "margin": null,
            "max_height": null,
            "max_width": null,
            "min_height": null,
            "min_width": null,
            "object_fit": null,
            "object_position": null,
            "order": null,
            "overflow": null,
            "overflow_x": null,
            "overflow_y": null,
            "padding": null,
            "right": null,
            "top": null,
            "visibility": null,
            "width": null
          }
        },
        "0073d981b06846fd88f12f4a6982901b": {
          "model_module": "@jupyter-widgets/controls",
          "model_name": "DescriptionStyleModel",
          "model_module_version": "1.5.0",
          "state": {
            "_model_module": "@jupyter-widgets/controls",
            "_model_module_version": "1.5.0",
            "_model_name": "DescriptionStyleModel",
            "_view_count": null,
            "_view_module": "@jupyter-widgets/base",
            "_view_module_version": "1.2.0",
            "_view_name": "StyleView",
            "description_width": ""
          }
        },
        "2b0d06bc8b674320a39f514275f4cf6a": {
          "model_module": "@jupyter-widgets/base",
          "model_name": "LayoutModel",
          "model_module_version": "1.2.0",
          "state": {
            "_model_module": "@jupyter-widgets/base",
            "_model_module_version": "1.2.0",
            "_model_name": "LayoutModel",
            "_view_count": null,
            "_view_module": "@jupyter-widgets/base",
            "_view_module_version": "1.2.0",
            "_view_name": "LayoutView",
            "align_content": null,
            "align_items": null,
            "align_self": null,
            "border": null,
            "bottom": null,
            "display": null,
            "flex": null,
            "flex_flow": null,
            "grid_area": null,
            "grid_auto_columns": null,
            "grid_auto_flow": null,
            "grid_auto_rows": null,
            "grid_column": null,
            "grid_gap": null,
            "grid_row": null,
            "grid_template_areas": null,
            "grid_template_columns": null,
            "grid_template_rows": null,
            "height": null,
            "justify_content": null,
            "justify_items": null,
            "left": null,
            "margin": null,
            "max_height": null,
            "max_width": null,
            "min_height": null,
            "min_width": null,
            "object_fit": null,
            "object_position": null,
            "order": null,
            "overflow": null,
            "overflow_x": null,
            "overflow_y": null,
            "padding": null,
            "right": null,
            "top": null,
            "visibility": null,
            "width": null
          }
        },
        "52d7e3559db54a479d7d7a8aaa9f4b08": {
          "model_module": "@jupyter-widgets/controls",
          "model_name": "ProgressStyleModel",
          "model_module_version": "1.5.0",
          "state": {
            "_model_module": "@jupyter-widgets/controls",
            "_model_module_version": "1.5.0",
            "_model_name": "ProgressStyleModel",
            "_view_count": null,
            "_view_module": "@jupyter-widgets/base",
            "_view_module_version": "1.2.0",
            "_view_name": "StyleView",
            "bar_color": null,
            "description_width": ""
          }
        },
        "06179a00e608400f9e3f5578de67a031": {
          "model_module": "@jupyter-widgets/base",
          "model_name": "LayoutModel",
          "model_module_version": "1.2.0",
          "state": {
            "_model_module": "@jupyter-widgets/base",
            "_model_module_version": "1.2.0",
            "_model_name": "LayoutModel",
            "_view_count": null,
            "_view_module": "@jupyter-widgets/base",
            "_view_module_version": "1.2.0",
            "_view_name": "LayoutView",
            "align_content": null,
            "align_items": null,
            "align_self": null,
            "border": null,
            "bottom": null,
            "display": null,
            "flex": null,
            "flex_flow": null,
            "grid_area": null,
            "grid_auto_columns": null,
            "grid_auto_flow": null,
            "grid_auto_rows": null,
            "grid_column": null,
            "grid_gap": null,
            "grid_row": null,
            "grid_template_areas": null,
            "grid_template_columns": null,
            "grid_template_rows": null,
            "height": null,
            "justify_content": null,
            "justify_items": null,
            "left": null,
            "margin": null,
            "max_height": null,
            "max_width": null,
            "min_height": null,
            "min_width": null,
            "object_fit": null,
            "object_position": null,
            "order": null,
            "overflow": null,
            "overflow_x": null,
            "overflow_y": null,
            "padding": null,
            "right": null,
            "top": null,
            "visibility": null,
            "width": null
          }
        },
        "18a169deb1b14d389d9386662266120d": {
          "model_module": "@jupyter-widgets/controls",
          "model_name": "DescriptionStyleModel",
          "model_module_version": "1.5.0",
          "state": {
            "_model_module": "@jupyter-widgets/controls",
            "_model_module_version": "1.5.0",
            "_model_name": "DescriptionStyleModel",
            "_view_count": null,
            "_view_module": "@jupyter-widgets/base",
            "_view_module_version": "1.2.0",
            "_view_name": "StyleView",
            "description_width": ""
          }
        },
        "4e71d55e63c2444f87d6e880ef04f5b5": {
          "model_module": "@jupyter-widgets/controls",
          "model_name": "HBoxModel",
          "model_module_version": "1.5.0",
          "state": {
            "_dom_classes": [],
            "_model_module": "@jupyter-widgets/controls",
            "_model_module_version": "1.5.0",
            "_model_name": "HBoxModel",
            "_view_count": null,
            "_view_module": "@jupyter-widgets/controls",
            "_view_module_version": "1.5.0",
            "_view_name": "HBoxView",
            "box_style": "",
            "children": [
              "IPY_MODEL_4b13ff49c9b14d8f8ed6b3604ea9e430",
              "IPY_MODEL_0650b75cb0904c9eb40590d6ab2852f6",
              "IPY_MODEL_6127fe1d0c9b42b38496282207a4e36c"
            ],
            "layout": "IPY_MODEL_774ca63e83384c56a6eb9c8363670761"
          }
        },
        "4b13ff49c9b14d8f8ed6b3604ea9e430": {
          "model_module": "@jupyter-widgets/controls",
          "model_name": "HTMLModel",
          "model_module_version": "1.5.0",
          "state": {
            "_dom_classes": [],
            "_model_module": "@jupyter-widgets/controls",
            "_model_module_version": "1.5.0",
            "_model_name": "HTMLModel",
            "_view_count": null,
            "_view_module": "@jupyter-widgets/controls",
            "_view_module_version": "1.5.0",
            "_view_name": "HTMLView",
            "description": "",
            "description_tooltip": null,
            "layout": "IPY_MODEL_06f6a1e34aea4bd59fa3458a7d6bacec",
            "placeholder": "​",
            "style": "IPY_MODEL_d33b96a69b5146618e34f726cf6052a7",
            "value": "config_sentence_transformers.json: 100%"
          }
        },
        "0650b75cb0904c9eb40590d6ab2852f6": {
          "model_module": "@jupyter-widgets/controls",
          "model_name": "FloatProgressModel",
          "model_module_version": "1.5.0",
          "state": {
            "_dom_classes": [],
            "_model_module": "@jupyter-widgets/controls",
            "_model_module_version": "1.5.0",
            "_model_name": "FloatProgressModel",
            "_view_count": null,
            "_view_module": "@jupyter-widgets/controls",
            "_view_module_version": "1.5.0",
            "_view_name": "ProgressView",
            "bar_style": "success",
            "description": "",
            "description_tooltip": null,
            "layout": "IPY_MODEL_fdb0b6fdf6ca492fab35fec67942515c",
            "max": 124,
            "min": 0,
            "orientation": "horizontal",
            "style": "IPY_MODEL_27c23df2b52c45c985b975ef6afab0d0",
            "value": 124
          }
        },
        "6127fe1d0c9b42b38496282207a4e36c": {
          "model_module": "@jupyter-widgets/controls",
          "model_name": "HTMLModel",
          "model_module_version": "1.5.0",
          "state": {
            "_dom_classes": [],
            "_model_module": "@jupyter-widgets/controls",
            "_model_module_version": "1.5.0",
            "_model_name": "HTMLModel",
            "_view_count": null,
            "_view_module": "@jupyter-widgets/controls",
            "_view_module_version": "1.5.0",
            "_view_name": "HTMLView",
            "description": "",
            "description_tooltip": null,
            "layout": "IPY_MODEL_82b05ba337e74ff39a7ee4dcbc6f5d95",
            "placeholder": "​",
            "style": "IPY_MODEL_c257626c6895438f85ade4df3e699937",
            "value": " 124/124 [00:00&lt;00:00, 4.96kB/s]"
          }
        },
        "774ca63e83384c56a6eb9c8363670761": {
          "model_module": "@jupyter-widgets/base",
          "model_name": "LayoutModel",
          "model_module_version": "1.2.0",
          "state": {
            "_model_module": "@jupyter-widgets/base",
            "_model_module_version": "1.2.0",
            "_model_name": "LayoutModel",
            "_view_count": null,
            "_view_module": "@jupyter-widgets/base",
            "_view_module_version": "1.2.0",
            "_view_name": "LayoutView",
            "align_content": null,
            "align_items": null,
            "align_self": null,
            "border": null,
            "bottom": null,
            "display": null,
            "flex": null,
            "flex_flow": null,
            "grid_area": null,
            "grid_auto_columns": null,
            "grid_auto_flow": null,
            "grid_auto_rows": null,
            "grid_column": null,
            "grid_gap": null,
            "grid_row": null,
            "grid_template_areas": null,
            "grid_template_columns": null,
            "grid_template_rows": null,
            "height": null,
            "justify_content": null,
            "justify_items": null,
            "left": null,
            "margin": null,
            "max_height": null,
            "max_width": null,
            "min_height": null,
            "min_width": null,
            "object_fit": null,
            "object_position": null,
            "order": null,
            "overflow": null,
            "overflow_x": null,
            "overflow_y": null,
            "padding": null,
            "right": null,
            "top": null,
            "visibility": null,
            "width": null
          }
        },
        "06f6a1e34aea4bd59fa3458a7d6bacec": {
          "model_module": "@jupyter-widgets/base",
          "model_name": "LayoutModel",
          "model_module_version": "1.2.0",
          "state": {
            "_model_module": "@jupyter-widgets/base",
            "_model_module_version": "1.2.0",
            "_model_name": "LayoutModel",
            "_view_count": null,
            "_view_module": "@jupyter-widgets/base",
            "_view_module_version": "1.2.0",
            "_view_name": "LayoutView",
            "align_content": null,
            "align_items": null,
            "align_self": null,
            "border": null,
            "bottom": null,
            "display": null,
            "flex": null,
            "flex_flow": null,
            "grid_area": null,
            "grid_auto_columns": null,
            "grid_auto_flow": null,
            "grid_auto_rows": null,
            "grid_column": null,
            "grid_gap": null,
            "grid_row": null,
            "grid_template_areas": null,
            "grid_template_columns": null,
            "grid_template_rows": null,
            "height": null,
            "justify_content": null,
            "justify_items": null,
            "left": null,
            "margin": null,
            "max_height": null,
            "max_width": null,
            "min_height": null,
            "min_width": null,
            "object_fit": null,
            "object_position": null,
            "order": null,
            "overflow": null,
            "overflow_x": null,
            "overflow_y": null,
            "padding": null,
            "right": null,
            "top": null,
            "visibility": null,
            "width": null
          }
        },
        "d33b96a69b5146618e34f726cf6052a7": {
          "model_module": "@jupyter-widgets/controls",
          "model_name": "DescriptionStyleModel",
          "model_module_version": "1.5.0",
          "state": {
            "_model_module": "@jupyter-widgets/controls",
            "_model_module_version": "1.5.0",
            "_model_name": "DescriptionStyleModel",
            "_view_count": null,
            "_view_module": "@jupyter-widgets/base",
            "_view_module_version": "1.2.0",
            "_view_name": "StyleView",
            "description_width": ""
          }
        },
        "fdb0b6fdf6ca492fab35fec67942515c": {
          "model_module": "@jupyter-widgets/base",
          "model_name": "LayoutModel",
          "model_module_version": "1.2.0",
          "state": {
            "_model_module": "@jupyter-widgets/base",
            "_model_module_version": "1.2.0",
            "_model_name": "LayoutModel",
            "_view_count": null,
            "_view_module": "@jupyter-widgets/base",
            "_view_module_version": "1.2.0",
            "_view_name": "LayoutView",
            "align_content": null,
            "align_items": null,
            "align_self": null,
            "border": null,
            "bottom": null,
            "display": null,
            "flex": null,
            "flex_flow": null,
            "grid_area": null,
            "grid_auto_columns": null,
            "grid_auto_flow": null,
            "grid_auto_rows": null,
            "grid_column": null,
            "grid_gap": null,
            "grid_row": null,
            "grid_template_areas": null,
            "grid_template_columns": null,
            "grid_template_rows": null,
            "height": null,
            "justify_content": null,
            "justify_items": null,
            "left": null,
            "margin": null,
            "max_height": null,
            "max_width": null,
            "min_height": null,
            "min_width": null,
            "object_fit": null,
            "object_position": null,
            "order": null,
            "overflow": null,
            "overflow_x": null,
            "overflow_y": null,
            "padding": null,
            "right": null,
            "top": null,
            "visibility": null,
            "width": null
          }
        },
        "27c23df2b52c45c985b975ef6afab0d0": {
          "model_module": "@jupyter-widgets/controls",
          "model_name": "ProgressStyleModel",
          "model_module_version": "1.5.0",
          "state": {
            "_model_module": "@jupyter-widgets/controls",
            "_model_module_version": "1.5.0",
            "_model_name": "ProgressStyleModel",
            "_view_count": null,
            "_view_module": "@jupyter-widgets/base",
            "_view_module_version": "1.2.0",
            "_view_name": "StyleView",
            "bar_color": null,
            "description_width": ""
          }
        },
        "82b05ba337e74ff39a7ee4dcbc6f5d95": {
          "model_module": "@jupyter-widgets/base",
          "model_name": "LayoutModel",
          "model_module_version": "1.2.0",
          "state": {
            "_model_module": "@jupyter-widgets/base",
            "_model_module_version": "1.2.0",
            "_model_name": "LayoutModel",
            "_view_count": null,
            "_view_module": "@jupyter-widgets/base",
            "_view_module_version": "1.2.0",
            "_view_name": "LayoutView",
            "align_content": null,
            "align_items": null,
            "align_self": null,
            "border": null,
            "bottom": null,
            "display": null,
            "flex": null,
            "flex_flow": null,
            "grid_area": null,
            "grid_auto_columns": null,
            "grid_auto_flow": null,
            "grid_auto_rows": null,
            "grid_column": null,
            "grid_gap": null,
            "grid_row": null,
            "grid_template_areas": null,
            "grid_template_columns": null,
            "grid_template_rows": null,
            "height": null,
            "justify_content": null,
            "justify_items": null,
            "left": null,
            "margin": null,
            "max_height": null,
            "max_width": null,
            "min_height": null,
            "min_width": null,
            "object_fit": null,
            "object_position": null,
            "order": null,
            "overflow": null,
            "overflow_x": null,
            "overflow_y": null,
            "padding": null,
            "right": null,
            "top": null,
            "visibility": null,
            "width": null
          }
        },
        "c257626c6895438f85ade4df3e699937": {
          "model_module": "@jupyter-widgets/controls",
          "model_name": "DescriptionStyleModel",
          "model_module_version": "1.5.0",
          "state": {
            "_model_module": "@jupyter-widgets/controls",
            "_model_module_version": "1.5.0",
            "_model_name": "DescriptionStyleModel",
            "_view_count": null,
            "_view_module": "@jupyter-widgets/base",
            "_view_module_version": "1.2.0",
            "_view_name": "StyleView",
            "description_width": ""
          }
        },
        "98d99ae42eac4487a19d1d326c7faf38": {
          "model_module": "@jupyter-widgets/controls",
          "model_name": "HBoxModel",
          "model_module_version": "1.5.0",
          "state": {
            "_dom_classes": [],
            "_model_module": "@jupyter-widgets/controls",
            "_model_module_version": "1.5.0",
            "_model_name": "HBoxModel",
            "_view_count": null,
            "_view_module": "@jupyter-widgets/controls",
            "_view_module_version": "1.5.0",
            "_view_name": "HBoxView",
            "box_style": "",
            "children": [
              "IPY_MODEL_a4cfbb8e1e89437dad7793f92eb6c713",
              "IPY_MODEL_e6d09b57d54d4406b54c2e35a44f567a",
              "IPY_MODEL_8f208651337742b8aeb8e07a836a7f13"
            ],
            "layout": "IPY_MODEL_7d070c8c9a944848af534b00be2d4d48"
          }
        },
        "a4cfbb8e1e89437dad7793f92eb6c713": {
          "model_module": "@jupyter-widgets/controls",
          "model_name": "HTMLModel",
          "model_module_version": "1.5.0",
          "state": {
            "_dom_classes": [],
            "_model_module": "@jupyter-widgets/controls",
            "_model_module_version": "1.5.0",
            "_model_name": "HTMLModel",
            "_view_count": null,
            "_view_module": "@jupyter-widgets/controls",
            "_view_module_version": "1.5.0",
            "_view_name": "HTMLView",
            "description": "",
            "description_tooltip": null,
            "layout": "IPY_MODEL_1421abdbcc3d4a218d3171e7e196e43c",
            "placeholder": "​",
            "style": "IPY_MODEL_04ff9af8da1b4153889113f99063e366",
            "value": "README.md: 100%"
          }
        },
        "e6d09b57d54d4406b54c2e35a44f567a": {
          "model_module": "@jupyter-widgets/controls",
          "model_name": "FloatProgressModel",
          "model_module_version": "1.5.0",
          "state": {
            "_dom_classes": [],
            "_model_module": "@jupyter-widgets/controls",
            "_model_module_version": "1.5.0",
            "_model_name": "FloatProgressModel",
            "_view_count": null,
            "_view_module": "@jupyter-widgets/controls",
            "_view_module_version": "1.5.0",
            "_view_name": "ProgressView",
            "bar_style": "success",
            "description": "",
            "description_tooltip": null,
            "layout": "IPY_MODEL_ea3257090dc645c68ced61feaa6c1504",
            "max": 94551,
            "min": 0,
            "orientation": "horizontal",
            "style": "IPY_MODEL_59e5e1f55cc74d7991856922e584ee19",
            "value": 94551
          }
        },
        "8f208651337742b8aeb8e07a836a7f13": {
          "model_module": "@jupyter-widgets/controls",
          "model_name": "HTMLModel",
          "model_module_version": "1.5.0",
          "state": {
            "_dom_classes": [],
            "_model_module": "@jupyter-widgets/controls",
            "_model_module_version": "1.5.0",
            "_model_name": "HTMLModel",
            "_view_count": null,
            "_view_module": "@jupyter-widgets/controls",
            "_view_module_version": "1.5.0",
            "_view_name": "HTMLView",
            "description": "",
            "description_tooltip": null,
            "layout": "IPY_MODEL_97fb60f64132402484124f3889d995f6",
            "placeholder": "​",
            "style": "IPY_MODEL_59c36c676a07432182203eb719fb08a0",
            "value": " 94.6k/94.6k [00:00&lt;00:00, 1.31MB/s]"
          }
        },
        "7d070c8c9a944848af534b00be2d4d48": {
          "model_module": "@jupyter-widgets/base",
          "model_name": "LayoutModel",
          "model_module_version": "1.2.0",
          "state": {
            "_model_module": "@jupyter-widgets/base",
            "_model_module_version": "1.2.0",
            "_model_name": "LayoutModel",
            "_view_count": null,
            "_view_module": "@jupyter-widgets/base",
            "_view_module_version": "1.2.0",
            "_view_name": "LayoutView",
            "align_content": null,
            "align_items": null,
            "align_self": null,
            "border": null,
            "bottom": null,
            "display": null,
            "flex": null,
            "flex_flow": null,
            "grid_area": null,
            "grid_auto_columns": null,
            "grid_auto_flow": null,
            "grid_auto_rows": null,
            "grid_column": null,
            "grid_gap": null,
            "grid_row": null,
            "grid_template_areas": null,
            "grid_template_columns": null,
            "grid_template_rows": null,
            "height": null,
            "justify_content": null,
            "justify_items": null,
            "left": null,
            "margin": null,
            "max_height": null,
            "max_width": null,
            "min_height": null,
            "min_width": null,
            "object_fit": null,
            "object_position": null,
            "order": null,
            "overflow": null,
            "overflow_x": null,
            "overflow_y": null,
            "padding": null,
            "right": null,
            "top": null,
            "visibility": null,
            "width": null
          }
        },
        "1421abdbcc3d4a218d3171e7e196e43c": {
          "model_module": "@jupyter-widgets/base",
          "model_name": "LayoutModel",
          "model_module_version": "1.2.0",
          "state": {
            "_model_module": "@jupyter-widgets/base",
            "_model_module_version": "1.2.0",
            "_model_name": "LayoutModel",
            "_view_count": null,
            "_view_module": "@jupyter-widgets/base",
            "_view_module_version": "1.2.0",
            "_view_name": "LayoutView",
            "align_content": null,
            "align_items": null,
            "align_self": null,
            "border": null,
            "bottom": null,
            "display": null,
            "flex": null,
            "flex_flow": null,
            "grid_area": null,
            "grid_auto_columns": null,
            "grid_auto_flow": null,
            "grid_auto_rows": null,
            "grid_column": null,
            "grid_gap": null,
            "grid_row": null,
            "grid_template_areas": null,
            "grid_template_columns": null,
            "grid_template_rows": null,
            "height": null,
            "justify_content": null,
            "justify_items": null,
            "left": null,
            "margin": null,
            "max_height": null,
            "max_width": null,
            "min_height": null,
            "min_width": null,
            "object_fit": null,
            "object_position": null,
            "order": null,
            "overflow": null,
            "overflow_x": null,
            "overflow_y": null,
            "padding": null,
            "right": null,
            "top": null,
            "visibility": null,
            "width": null
          }
        },
        "04ff9af8da1b4153889113f99063e366": {
          "model_module": "@jupyter-widgets/controls",
          "model_name": "DescriptionStyleModel",
          "model_module_version": "1.5.0",
          "state": {
            "_model_module": "@jupyter-widgets/controls",
            "_model_module_version": "1.5.0",
            "_model_name": "DescriptionStyleModel",
            "_view_count": null,
            "_view_module": "@jupyter-widgets/base",
            "_view_module_version": "1.2.0",
            "_view_name": "StyleView",
            "description_width": ""
          }
        },
        "ea3257090dc645c68ced61feaa6c1504": {
          "model_module": "@jupyter-widgets/base",
          "model_name": "LayoutModel",
          "model_module_version": "1.2.0",
          "state": {
            "_model_module": "@jupyter-widgets/base",
            "_model_module_version": "1.2.0",
            "_model_name": "LayoutModel",
            "_view_count": null,
            "_view_module": "@jupyter-widgets/base",
            "_view_module_version": "1.2.0",
            "_view_name": "LayoutView",
            "align_content": null,
            "align_items": null,
            "align_self": null,
            "border": null,
            "bottom": null,
            "display": null,
            "flex": null,
            "flex_flow": null,
            "grid_area": null,
            "grid_auto_columns": null,
            "grid_auto_flow": null,
            "grid_auto_rows": null,
            "grid_column": null,
            "grid_gap": null,
            "grid_row": null,
            "grid_template_areas": null,
            "grid_template_columns": null,
            "grid_template_rows": null,
            "height": null,
            "justify_content": null,
            "justify_items": null,
            "left": null,
            "margin": null,
            "max_height": null,
            "max_width": null,
            "min_height": null,
            "min_width": null,
            "object_fit": null,
            "object_position": null,
            "order": null,
            "overflow": null,
            "overflow_x": null,
            "overflow_y": null,
            "padding": null,
            "right": null,
            "top": null,
            "visibility": null,
            "width": null
          }
        },
        "59e5e1f55cc74d7991856922e584ee19": {
          "model_module": "@jupyter-widgets/controls",
          "model_name": "ProgressStyleModel",
          "model_module_version": "1.5.0",
          "state": {
            "_model_module": "@jupyter-widgets/controls",
            "_model_module_version": "1.5.0",
            "_model_name": "ProgressStyleModel",
            "_view_count": null,
            "_view_module": "@jupyter-widgets/base",
            "_view_module_version": "1.2.0",
            "_view_name": "StyleView",
            "bar_color": null,
            "description_width": ""
          }
        },
        "97fb60f64132402484124f3889d995f6": {
          "model_module": "@jupyter-widgets/base",
          "model_name": "LayoutModel",
          "model_module_version": "1.2.0",
          "state": {
            "_model_module": "@jupyter-widgets/base",
            "_model_module_version": "1.2.0",
            "_model_name": "LayoutModel",
            "_view_count": null,
            "_view_module": "@jupyter-widgets/base",
            "_view_module_version": "1.2.0",
            "_view_name": "LayoutView",
            "align_content": null,
            "align_items": null,
            "align_self": null,
            "border": null,
            "bottom": null,
            "display": null,
            "flex": null,
            "flex_flow": null,
            "grid_area": null,
            "grid_auto_columns": null,
            "grid_auto_flow": null,
            "grid_auto_rows": null,
            "grid_column": null,
            "grid_gap": null,
            "grid_row": null,
            "grid_template_areas": null,
            "grid_template_columns": null,
            "grid_template_rows": null,
            "height": null,
            "justify_content": null,
            "justify_items": null,
            "left": null,
            "margin": null,
            "max_height": null,
            "max_width": null,
            "min_height": null,
            "min_width": null,
            "object_fit": null,
            "object_position": null,
            "order": null,
            "overflow": null,
            "overflow_x": null,
            "overflow_y": null,
            "padding": null,
            "right": null,
            "top": null,
            "visibility": null,
            "width": null
          }
        },
        "59c36c676a07432182203eb719fb08a0": {
          "model_module": "@jupyter-widgets/controls",
          "model_name": "DescriptionStyleModel",
          "model_module_version": "1.5.0",
          "state": {
            "_model_module": "@jupyter-widgets/controls",
            "_model_module_version": "1.5.0",
            "_model_name": "DescriptionStyleModel",
            "_view_count": null,
            "_view_module": "@jupyter-widgets/base",
            "_view_module_version": "1.2.0",
            "_view_name": "StyleView",
            "description_width": ""
          }
        },
        "1f2fe29b026347cca4a7bc8032b283b5": {
          "model_module": "@jupyter-widgets/controls",
          "model_name": "HBoxModel",
          "model_module_version": "1.5.0",
          "state": {
            "_dom_classes": [],
            "_model_module": "@jupyter-widgets/controls",
            "_model_module_version": "1.5.0",
            "_model_name": "HBoxModel",
            "_view_count": null,
            "_view_module": "@jupyter-widgets/controls",
            "_view_module_version": "1.5.0",
            "_view_name": "HBoxView",
            "box_style": "",
            "children": [
              "IPY_MODEL_afb4ff0c405941bf98e5df6e24953597",
              "IPY_MODEL_eecabbb299fb4713909b581d40e020cc",
              "IPY_MODEL_625f7e9ac2184da8ac0def8d45278cb5"
            ],
            "layout": "IPY_MODEL_d21071a83cf642cdbf074ae183b488f2"
          }
        },
        "afb4ff0c405941bf98e5df6e24953597": {
          "model_module": "@jupyter-widgets/controls",
          "model_name": "HTMLModel",
          "model_module_version": "1.5.0",
          "state": {
            "_dom_classes": [],
            "_model_module": "@jupyter-widgets/controls",
            "_model_module_version": "1.5.0",
            "_model_name": "HTMLModel",
            "_view_count": null,
            "_view_module": "@jupyter-widgets/controls",
            "_view_module_version": "1.5.0",
            "_view_name": "HTMLView",
            "description": "",
            "description_tooltip": null,
            "layout": "IPY_MODEL_38d56174cb534c5896afd147164a05e8",
            "placeholder": "​",
            "style": "IPY_MODEL_50e47accd1da45cd8c1b0a6fc20ddf23",
            "value": "sentence_bert_config.json: 100%"
          }
        },
        "eecabbb299fb4713909b581d40e020cc": {
          "model_module": "@jupyter-widgets/controls",
          "model_name": "FloatProgressModel",
          "model_module_version": "1.5.0",
          "state": {
            "_dom_classes": [],
            "_model_module": "@jupyter-widgets/controls",
            "_model_module_version": "1.5.0",
            "_model_name": "FloatProgressModel",
            "_view_count": null,
            "_view_module": "@jupyter-widgets/controls",
            "_view_module_version": "1.5.0",
            "_view_name": "ProgressView",
            "bar_style": "success",
            "description": "",
            "description_tooltip": null,
            "layout": "IPY_MODEL_3183938570a148b69f5455efc5d68c47",
            "max": 52,
            "min": 0,
            "orientation": "horizontal",
            "style": "IPY_MODEL_423cfc8be2534e1ebc6256ec34a6e47b",
            "value": 52
          }
        },
        "625f7e9ac2184da8ac0def8d45278cb5": {
          "model_module": "@jupyter-widgets/controls",
          "model_name": "HTMLModel",
          "model_module_version": "1.5.0",
          "state": {
            "_dom_classes": [],
            "_model_module": "@jupyter-widgets/controls",
            "_model_module_version": "1.5.0",
            "_model_name": "HTMLModel",
            "_view_count": null,
            "_view_module": "@jupyter-widgets/controls",
            "_view_module_version": "1.5.0",
            "_view_name": "HTMLView",
            "description": "",
            "description_tooltip": null,
            "layout": "IPY_MODEL_e3825fbce63f40549b69d22f0562d181",
            "placeholder": "​",
            "style": "IPY_MODEL_c68ce75c126d454790dfd490e2edf16e",
            "value": " 52.0/52.0 [00:00&lt;00:00, 1.65kB/s]"
          }
        },
        "d21071a83cf642cdbf074ae183b488f2": {
          "model_module": "@jupyter-widgets/base",
          "model_name": "LayoutModel",
          "model_module_version": "1.2.0",
          "state": {
            "_model_module": "@jupyter-widgets/base",
            "_model_module_version": "1.2.0",
            "_model_name": "LayoutModel",
            "_view_count": null,
            "_view_module": "@jupyter-widgets/base",
            "_view_module_version": "1.2.0",
            "_view_name": "LayoutView",
            "align_content": null,
            "align_items": null,
            "align_self": null,
            "border": null,
            "bottom": null,
            "display": null,
            "flex": null,
            "flex_flow": null,
            "grid_area": null,
            "grid_auto_columns": null,
            "grid_auto_flow": null,
            "grid_auto_rows": null,
            "grid_column": null,
            "grid_gap": null,
            "grid_row": null,
            "grid_template_areas": null,
            "grid_template_columns": null,
            "grid_template_rows": null,
            "height": null,
            "justify_content": null,
            "justify_items": null,
            "left": null,
            "margin": null,
            "max_height": null,
            "max_width": null,
            "min_height": null,
            "min_width": null,
            "object_fit": null,
            "object_position": null,
            "order": null,
            "overflow": null,
            "overflow_x": null,
            "overflow_y": null,
            "padding": null,
            "right": null,
            "top": null,
            "visibility": null,
            "width": null
          }
        },
        "38d56174cb534c5896afd147164a05e8": {
          "model_module": "@jupyter-widgets/base",
          "model_name": "LayoutModel",
          "model_module_version": "1.2.0",
          "state": {
            "_model_module": "@jupyter-widgets/base",
            "_model_module_version": "1.2.0",
            "_model_name": "LayoutModel",
            "_view_count": null,
            "_view_module": "@jupyter-widgets/base",
            "_view_module_version": "1.2.0",
            "_view_name": "LayoutView",
            "align_content": null,
            "align_items": null,
            "align_self": null,
            "border": null,
            "bottom": null,
            "display": null,
            "flex": null,
            "flex_flow": null,
            "grid_area": null,
            "grid_auto_columns": null,
            "grid_auto_flow": null,
            "grid_auto_rows": null,
            "grid_column": null,
            "grid_gap": null,
            "grid_row": null,
            "grid_template_areas": null,
            "grid_template_columns": null,
            "grid_template_rows": null,
            "height": null,
            "justify_content": null,
            "justify_items": null,
            "left": null,
            "margin": null,
            "max_height": null,
            "max_width": null,
            "min_height": null,
            "min_width": null,
            "object_fit": null,
            "object_position": null,
            "order": null,
            "overflow": null,
            "overflow_x": null,
            "overflow_y": null,
            "padding": null,
            "right": null,
            "top": null,
            "visibility": null,
            "width": null
          }
        },
        "50e47accd1da45cd8c1b0a6fc20ddf23": {
          "model_module": "@jupyter-widgets/controls",
          "model_name": "DescriptionStyleModel",
          "model_module_version": "1.5.0",
          "state": {
            "_model_module": "@jupyter-widgets/controls",
            "_model_module_version": "1.5.0",
            "_model_name": "DescriptionStyleModel",
            "_view_count": null,
            "_view_module": "@jupyter-widgets/base",
            "_view_module_version": "1.2.0",
            "_view_name": "StyleView",
            "description_width": ""
          }
        },
        "3183938570a148b69f5455efc5d68c47": {
          "model_module": "@jupyter-widgets/base",
          "model_name": "LayoutModel",
          "model_module_version": "1.2.0",
          "state": {
            "_model_module": "@jupyter-widgets/base",
            "_model_module_version": "1.2.0",
            "_model_name": "LayoutModel",
            "_view_count": null,
            "_view_module": "@jupyter-widgets/base",
            "_view_module_version": "1.2.0",
            "_view_name": "LayoutView",
            "align_content": null,
            "align_items": null,
            "align_self": null,
            "border": null,
            "bottom": null,
            "display": null,
            "flex": null,
            "flex_flow": null,
            "grid_area": null,
            "grid_auto_columns": null,
            "grid_auto_flow": null,
            "grid_auto_rows": null,
            "grid_column": null,
            "grid_gap": null,
            "grid_row": null,
            "grid_template_areas": null,
            "grid_template_columns": null,
            "grid_template_rows": null,
            "height": null,
            "justify_content": null,
            "justify_items": null,
            "left": null,
            "margin": null,
            "max_height": null,
            "max_width": null,
            "min_height": null,
            "min_width": null,
            "object_fit": null,
            "object_position": null,
            "order": null,
            "overflow": null,
            "overflow_x": null,
            "overflow_y": null,
            "padding": null,
            "right": null,
            "top": null,
            "visibility": null,
            "width": null
          }
        },
        "423cfc8be2534e1ebc6256ec34a6e47b": {
          "model_module": "@jupyter-widgets/controls",
          "model_name": "ProgressStyleModel",
          "model_module_version": "1.5.0",
          "state": {
            "_model_module": "@jupyter-widgets/controls",
            "_model_module_version": "1.5.0",
            "_model_name": "ProgressStyleModel",
            "_view_count": null,
            "_view_module": "@jupyter-widgets/base",
            "_view_module_version": "1.2.0",
            "_view_name": "StyleView",
            "bar_color": null,
            "description_width": ""
          }
        },
        "e3825fbce63f40549b69d22f0562d181": {
          "model_module": "@jupyter-widgets/base",
          "model_name": "LayoutModel",
          "model_module_version": "1.2.0",
          "state": {
            "_model_module": "@jupyter-widgets/base",
            "_model_module_version": "1.2.0",
            "_model_name": "LayoutModel",
            "_view_count": null,
            "_view_module": "@jupyter-widgets/base",
            "_view_module_version": "1.2.0",
            "_view_name": "LayoutView",
            "align_content": null,
            "align_items": null,
            "align_self": null,
            "border": null,
            "bottom": null,
            "display": null,
            "flex": null,
            "flex_flow": null,
            "grid_area": null,
            "grid_auto_columns": null,
            "grid_auto_flow": null,
            "grid_auto_rows": null,
            "grid_column": null,
            "grid_gap": null,
            "grid_row": null,
            "grid_template_areas": null,
            "grid_template_columns": null,
            "grid_template_rows": null,
            "height": null,
            "justify_content": null,
            "justify_items": null,
            "left": null,
            "margin": null,
            "max_height": null,
            "max_width": null,
            "min_height": null,
            "min_width": null,
            "object_fit": null,
            "object_position": null,
            "order": null,
            "overflow": null,
            "overflow_x": null,
            "overflow_y": null,
            "padding": null,
            "right": null,
            "top": null,
            "visibility": null,
            "width": null
          }
        },
        "c68ce75c126d454790dfd490e2edf16e": {
          "model_module": "@jupyter-widgets/controls",
          "model_name": "DescriptionStyleModel",
          "model_module_version": "1.5.0",
          "state": {
            "_model_module": "@jupyter-widgets/controls",
            "_model_module_version": "1.5.0",
            "_model_name": "DescriptionStyleModel",
            "_view_count": null,
            "_view_module": "@jupyter-widgets/base",
            "_view_module_version": "1.2.0",
            "_view_name": "StyleView",
            "description_width": ""
          }
        },
        "5ab001bf1f7542a0a49cacd4fd1aa796": {
          "model_module": "@jupyter-widgets/controls",
          "model_name": "HBoxModel",
          "model_module_version": "1.5.0",
          "state": {
            "_dom_classes": [],
            "_model_module": "@jupyter-widgets/controls",
            "_model_module_version": "1.5.0",
            "_model_name": "HBoxModel",
            "_view_count": null,
            "_view_module": "@jupyter-widgets/controls",
            "_view_module_version": "1.5.0",
            "_view_name": "HBoxView",
            "box_style": "",
            "children": [
              "IPY_MODEL_3523201e3ecc4903b656f3876cb20f3b",
              "IPY_MODEL_4ff71de716184cd29733f752e22a2765",
              "IPY_MODEL_8b5a4f3001574c8fb130e90fd69ef849"
            ],
            "layout": "IPY_MODEL_c80dc36441cb4ecd800b9ee944f7ba35"
          }
        },
        "3523201e3ecc4903b656f3876cb20f3b": {
          "model_module": "@jupyter-widgets/controls",
          "model_name": "HTMLModel",
          "model_module_version": "1.5.0",
          "state": {
            "_dom_classes": [],
            "_model_module": "@jupyter-widgets/controls",
            "_model_module_version": "1.5.0",
            "_model_name": "HTMLModel",
            "_view_count": null,
            "_view_module": "@jupyter-widgets/controls",
            "_view_module_version": "1.5.0",
            "_view_name": "HTMLView",
            "description": "",
            "description_tooltip": null,
            "layout": "IPY_MODEL_d967c0dddfdb460087f98753679ad98f",
            "placeholder": "​",
            "style": "IPY_MODEL_00ea3ea8b5624d1597623ba25cb7be79",
            "value": "config.json: 100%"
          }
        },
        "4ff71de716184cd29733f752e22a2765": {
          "model_module": "@jupyter-widgets/controls",
          "model_name": "FloatProgressModel",
          "model_module_version": "1.5.0",
          "state": {
            "_dom_classes": [],
            "_model_module": "@jupyter-widgets/controls",
            "_model_module_version": "1.5.0",
            "_model_name": "FloatProgressModel",
            "_view_count": null,
            "_view_module": "@jupyter-widgets/controls",
            "_view_module_version": "1.5.0",
            "_view_name": "ProgressView",
            "bar_style": "success",
            "description": "",
            "description_tooltip": null,
            "layout": "IPY_MODEL_9a38d271a54740968674b0ec0a06479e",
            "max": 777,
            "min": 0,
            "orientation": "horizontal",
            "style": "IPY_MODEL_74df7931185549729ec7687e7702ecc4",
            "value": 777
          }
        },
        "8b5a4f3001574c8fb130e90fd69ef849": {
          "model_module": "@jupyter-widgets/controls",
          "model_name": "HTMLModel",
          "model_module_version": "1.5.0",
          "state": {
            "_dom_classes": [],
            "_model_module": "@jupyter-widgets/controls",
            "_model_module_version": "1.5.0",
            "_model_name": "HTMLModel",
            "_view_count": null,
            "_view_module": "@jupyter-widgets/controls",
            "_view_module_version": "1.5.0",
            "_view_name": "HTMLView",
            "description": "",
            "description_tooltip": null,
            "layout": "IPY_MODEL_623f146490f94b6880f61885de04d96b",
            "placeholder": "​",
            "style": "IPY_MODEL_7724dd958d13479ea86cbc0d16568192",
            "value": " 777/777 [00:00&lt;00:00, 37.3kB/s]"
          }
        },
        "c80dc36441cb4ecd800b9ee944f7ba35": {
          "model_module": "@jupyter-widgets/base",
          "model_name": "LayoutModel",
          "model_module_version": "1.2.0",
          "state": {
            "_model_module": "@jupyter-widgets/base",
            "_model_module_version": "1.2.0",
            "_model_name": "LayoutModel",
            "_view_count": null,
            "_view_module": "@jupyter-widgets/base",
            "_view_module_version": "1.2.0",
            "_view_name": "LayoutView",
            "align_content": null,
            "align_items": null,
            "align_self": null,
            "border": null,
            "bottom": null,
            "display": null,
            "flex": null,
            "flex_flow": null,
            "grid_area": null,
            "grid_auto_columns": null,
            "grid_auto_flow": null,
            "grid_auto_rows": null,
            "grid_column": null,
            "grid_gap": null,
            "grid_row": null,
            "grid_template_areas": null,
            "grid_template_columns": null,
            "grid_template_rows": null,
            "height": null,
            "justify_content": null,
            "justify_items": null,
            "left": null,
            "margin": null,
            "max_height": null,
            "max_width": null,
            "min_height": null,
            "min_width": null,
            "object_fit": null,
            "object_position": null,
            "order": null,
            "overflow": null,
            "overflow_x": null,
            "overflow_y": null,
            "padding": null,
            "right": null,
            "top": null,
            "visibility": null,
            "width": null
          }
        },
        "d967c0dddfdb460087f98753679ad98f": {
          "model_module": "@jupyter-widgets/base",
          "model_name": "LayoutModel",
          "model_module_version": "1.2.0",
          "state": {
            "_model_module": "@jupyter-widgets/base",
            "_model_module_version": "1.2.0",
            "_model_name": "LayoutModel",
            "_view_count": null,
            "_view_module": "@jupyter-widgets/base",
            "_view_module_version": "1.2.0",
            "_view_name": "LayoutView",
            "align_content": null,
            "align_items": null,
            "align_self": null,
            "border": null,
            "bottom": null,
            "display": null,
            "flex": null,
            "flex_flow": null,
            "grid_area": null,
            "grid_auto_columns": null,
            "grid_auto_flow": null,
            "grid_auto_rows": null,
            "grid_column": null,
            "grid_gap": null,
            "grid_row": null,
            "grid_template_areas": null,
            "grid_template_columns": null,
            "grid_template_rows": null,
            "height": null,
            "justify_content": null,
            "justify_items": null,
            "left": null,
            "margin": null,
            "max_height": null,
            "max_width": null,
            "min_height": null,
            "min_width": null,
            "object_fit": null,
            "object_position": null,
            "order": null,
            "overflow": null,
            "overflow_x": null,
            "overflow_y": null,
            "padding": null,
            "right": null,
            "top": null,
            "visibility": null,
            "width": null
          }
        },
        "00ea3ea8b5624d1597623ba25cb7be79": {
          "model_module": "@jupyter-widgets/controls",
          "model_name": "DescriptionStyleModel",
          "model_module_version": "1.5.0",
          "state": {
            "_model_module": "@jupyter-widgets/controls",
            "_model_module_version": "1.5.0",
            "_model_name": "DescriptionStyleModel",
            "_view_count": null,
            "_view_module": "@jupyter-widgets/base",
            "_view_module_version": "1.2.0",
            "_view_name": "StyleView",
            "description_width": ""
          }
        },
        "9a38d271a54740968674b0ec0a06479e": {
          "model_module": "@jupyter-widgets/base",
          "model_name": "LayoutModel",
          "model_module_version": "1.2.0",
          "state": {
            "_model_module": "@jupyter-widgets/base",
            "_model_module_version": "1.2.0",
            "_model_name": "LayoutModel",
            "_view_count": null,
            "_view_module": "@jupyter-widgets/base",
            "_view_module_version": "1.2.0",
            "_view_name": "LayoutView",
            "align_content": null,
            "align_items": null,
            "align_self": null,
            "border": null,
            "bottom": null,
            "display": null,
            "flex": null,
            "flex_flow": null,
            "grid_area": null,
            "grid_auto_columns": null,
            "grid_auto_flow": null,
            "grid_auto_rows": null,
            "grid_column": null,
            "grid_gap": null,
            "grid_row": null,
            "grid_template_areas": null,
            "grid_template_columns": null,
            "grid_template_rows": null,
            "height": null,
            "justify_content": null,
            "justify_items": null,
            "left": null,
            "margin": null,
            "max_height": null,
            "max_width": null,
            "min_height": null,
            "min_width": null,
            "object_fit": null,
            "object_position": null,
            "order": null,
            "overflow": null,
            "overflow_x": null,
            "overflow_y": null,
            "padding": null,
            "right": null,
            "top": null,
            "visibility": null,
            "width": null
          }
        },
        "74df7931185549729ec7687e7702ecc4": {
          "model_module": "@jupyter-widgets/controls",
          "model_name": "ProgressStyleModel",
          "model_module_version": "1.5.0",
          "state": {
            "_model_module": "@jupyter-widgets/controls",
            "_model_module_version": "1.5.0",
            "_model_name": "ProgressStyleModel",
            "_view_count": null,
            "_view_module": "@jupyter-widgets/base",
            "_view_module_version": "1.2.0",
            "_view_name": "StyleView",
            "bar_color": null,
            "description_width": ""
          }
        },
        "623f146490f94b6880f61885de04d96b": {
          "model_module": "@jupyter-widgets/base",
          "model_name": "LayoutModel",
          "model_module_version": "1.2.0",
          "state": {
            "_model_module": "@jupyter-widgets/base",
            "_model_module_version": "1.2.0",
            "_model_name": "LayoutModel",
            "_view_count": null,
            "_view_module": "@jupyter-widgets/base",
            "_view_module_version": "1.2.0",
            "_view_name": "LayoutView",
            "align_content": null,
            "align_items": null,
            "align_self": null,
            "border": null,
            "bottom": null,
            "display": null,
            "flex": null,
            "flex_flow": null,
            "grid_area": null,
            "grid_auto_columns": null,
            "grid_auto_flow": null,
            "grid_auto_rows": null,
            "grid_column": null,
            "grid_gap": null,
            "grid_row": null,
            "grid_template_areas": null,
            "grid_template_columns": null,
            "grid_template_rows": null,
            "height": null,
            "justify_content": null,
            "justify_items": null,
            "left": null,
            "margin": null,
            "max_height": null,
            "max_width": null,
            "min_height": null,
            "min_width": null,
            "object_fit": null,
            "object_position": null,
            "order": null,
            "overflow": null,
            "overflow_x": null,
            "overflow_y": null,
            "padding": null,
            "right": null,
            "top": null,
            "visibility": null,
            "width": null
          }
        },
        "7724dd958d13479ea86cbc0d16568192": {
          "model_module": "@jupyter-widgets/controls",
          "model_name": "DescriptionStyleModel",
          "model_module_version": "1.5.0",
          "state": {
            "_model_module": "@jupyter-widgets/controls",
            "_model_module_version": "1.5.0",
            "_model_name": "DescriptionStyleModel",
            "_view_count": null,
            "_view_module": "@jupyter-widgets/base",
            "_view_module_version": "1.2.0",
            "_view_name": "StyleView",
            "description_width": ""
          }
        },
        "344ee68f15f34c7c89600ba0c82a1163": {
          "model_module": "@jupyter-widgets/controls",
          "model_name": "HBoxModel",
          "model_module_version": "1.5.0",
          "state": {
            "_dom_classes": [],
            "_model_module": "@jupyter-widgets/controls",
            "_model_module_version": "1.5.0",
            "_model_name": "HBoxModel",
            "_view_count": null,
            "_view_module": "@jupyter-widgets/controls",
            "_view_module_version": "1.5.0",
            "_view_name": "HBoxView",
            "box_style": "",
            "children": [
              "IPY_MODEL_5937f9835c264c988afed95d043ad794",
              "IPY_MODEL_7b1861b99d1c46e5be88f1538f7c2e4b",
              "IPY_MODEL_5b49bebc9c7849f6a1e54a74d8c8493a"
            ],
            "layout": "IPY_MODEL_0c353396bf574dfd9a8f8d5ce5f2c925"
          }
        },
        "5937f9835c264c988afed95d043ad794": {
          "model_module": "@jupyter-widgets/controls",
          "model_name": "HTMLModel",
          "model_module_version": "1.5.0",
          "state": {
            "_dom_classes": [],
            "_model_module": "@jupyter-widgets/controls",
            "_model_module_version": "1.5.0",
            "_model_name": "HTMLModel",
            "_view_count": null,
            "_view_module": "@jupyter-widgets/controls",
            "_view_module_version": "1.5.0",
            "_view_name": "HTMLView",
            "description": "",
            "description_tooltip": null,
            "layout": "IPY_MODEL_789cd274f79b41a69f45c566544edd6d",
            "placeholder": "​",
            "style": "IPY_MODEL_d11e408ddbab4eb58fc833493031bcad",
            "value": "model.safetensors: 100%"
          }
        },
        "7b1861b99d1c46e5be88f1538f7c2e4b": {
          "model_module": "@jupyter-widgets/controls",
          "model_name": "FloatProgressModel",
          "model_module_version": "1.5.0",
          "state": {
            "_dom_classes": [],
            "_model_module": "@jupyter-widgets/controls",
            "_model_module_version": "1.5.0",
            "_model_name": "FloatProgressModel",
            "_view_count": null,
            "_view_module": "@jupyter-widgets/controls",
            "_view_module_version": "1.5.0",
            "_view_name": "ProgressView",
            "bar_style": "success",
            "description": "",
            "description_tooltip": null,
            "layout": "IPY_MODEL_600d012c210444428964ff25ea131a6c",
            "max": 437955512,
            "min": 0,
            "orientation": "horizontal",
            "style": "IPY_MODEL_acdd40a843b344ffa18e4dc4588fe138",
            "value": 437955512
          }
        },
        "5b49bebc9c7849f6a1e54a74d8c8493a": {
          "model_module": "@jupyter-widgets/controls",
          "model_name": "HTMLModel",
          "model_module_version": "1.5.0",
          "state": {
            "_dom_classes": [],
            "_model_module": "@jupyter-widgets/controls",
            "_model_module_version": "1.5.0",
            "_model_name": "HTMLModel",
            "_view_count": null,
            "_view_module": "@jupyter-widgets/controls",
            "_view_module_version": "1.5.0",
            "_view_name": "HTMLView",
            "description": "",
            "description_tooltip": null,
            "layout": "IPY_MODEL_164809dfe85d419baf47cb9876fb5f2e",
            "placeholder": "​",
            "style": "IPY_MODEL_bcde95b1ca534239ba59682d5cd510b9",
            "value": " 438M/438M [00:04&lt;00:00, 178MB/s]"
          }
        },
        "0c353396bf574dfd9a8f8d5ce5f2c925": {
          "model_module": "@jupyter-widgets/base",
          "model_name": "LayoutModel",
          "model_module_version": "1.2.0",
          "state": {
            "_model_module": "@jupyter-widgets/base",
            "_model_module_version": "1.2.0",
            "_model_name": "LayoutModel",
            "_view_count": null,
            "_view_module": "@jupyter-widgets/base",
            "_view_module_version": "1.2.0",
            "_view_name": "LayoutView",
            "align_content": null,
            "align_items": null,
            "align_self": null,
            "border": null,
            "bottom": null,
            "display": null,
            "flex": null,
            "flex_flow": null,
            "grid_area": null,
            "grid_auto_columns": null,
            "grid_auto_flow": null,
            "grid_auto_rows": null,
            "grid_column": null,
            "grid_gap": null,
            "grid_row": null,
            "grid_template_areas": null,
            "grid_template_columns": null,
            "grid_template_rows": null,
            "height": null,
            "justify_content": null,
            "justify_items": null,
            "left": null,
            "margin": null,
            "max_height": null,
            "max_width": null,
            "min_height": null,
            "min_width": null,
            "object_fit": null,
            "object_position": null,
            "order": null,
            "overflow": null,
            "overflow_x": null,
            "overflow_y": null,
            "padding": null,
            "right": null,
            "top": null,
            "visibility": null,
            "width": null
          }
        },
        "789cd274f79b41a69f45c566544edd6d": {
          "model_module": "@jupyter-widgets/base",
          "model_name": "LayoutModel",
          "model_module_version": "1.2.0",
          "state": {
            "_model_module": "@jupyter-widgets/base",
            "_model_module_version": "1.2.0",
            "_model_name": "LayoutModel",
            "_view_count": null,
            "_view_module": "@jupyter-widgets/base",
            "_view_module_version": "1.2.0",
            "_view_name": "LayoutView",
            "align_content": null,
            "align_items": null,
            "align_self": null,
            "border": null,
            "bottom": null,
            "display": null,
            "flex": null,
            "flex_flow": null,
            "grid_area": null,
            "grid_auto_columns": null,
            "grid_auto_flow": null,
            "grid_auto_rows": null,
            "grid_column": null,
            "grid_gap": null,
            "grid_row": null,
            "grid_template_areas": null,
            "grid_template_columns": null,
            "grid_template_rows": null,
            "height": null,
            "justify_content": null,
            "justify_items": null,
            "left": null,
            "margin": null,
            "max_height": null,
            "max_width": null,
            "min_height": null,
            "min_width": null,
            "object_fit": null,
            "object_position": null,
            "order": null,
            "overflow": null,
            "overflow_x": null,
            "overflow_y": null,
            "padding": null,
            "right": null,
            "top": null,
            "visibility": null,
            "width": null
          }
        },
        "d11e408ddbab4eb58fc833493031bcad": {
          "model_module": "@jupyter-widgets/controls",
          "model_name": "DescriptionStyleModel",
          "model_module_version": "1.5.0",
          "state": {
            "_model_module": "@jupyter-widgets/controls",
            "_model_module_version": "1.5.0",
            "_model_name": "DescriptionStyleModel",
            "_view_count": null,
            "_view_module": "@jupyter-widgets/base",
            "_view_module_version": "1.2.0",
            "_view_name": "StyleView",
            "description_width": ""
          }
        },
        "600d012c210444428964ff25ea131a6c": {
          "model_module": "@jupyter-widgets/base",
          "model_name": "LayoutModel",
          "model_module_version": "1.2.0",
          "state": {
            "_model_module": "@jupyter-widgets/base",
            "_model_module_version": "1.2.0",
            "_model_name": "LayoutModel",
            "_view_count": null,
            "_view_module": "@jupyter-widgets/base",
            "_view_module_version": "1.2.0",
            "_view_name": "LayoutView",
            "align_content": null,
            "align_items": null,
            "align_self": null,
            "border": null,
            "bottom": null,
            "display": null,
            "flex": null,
            "flex_flow": null,
            "grid_area": null,
            "grid_auto_columns": null,
            "grid_auto_flow": null,
            "grid_auto_rows": null,
            "grid_column": null,
            "grid_gap": null,
            "grid_row": null,
            "grid_template_areas": null,
            "grid_template_columns": null,
            "grid_template_rows": null,
            "height": null,
            "justify_content": null,
            "justify_items": null,
            "left": null,
            "margin": null,
            "max_height": null,
            "max_width": null,
            "min_height": null,
            "min_width": null,
            "object_fit": null,
            "object_position": null,
            "order": null,
            "overflow": null,
            "overflow_x": null,
            "overflow_y": null,
            "padding": null,
            "right": null,
            "top": null,
            "visibility": null,
            "width": null
          }
        },
        "acdd40a843b344ffa18e4dc4588fe138": {
          "model_module": "@jupyter-widgets/controls",
          "model_name": "ProgressStyleModel",
          "model_module_version": "1.5.0",
          "state": {
            "_model_module": "@jupyter-widgets/controls",
            "_model_module_version": "1.5.0",
            "_model_name": "ProgressStyleModel",
            "_view_count": null,
            "_view_module": "@jupyter-widgets/base",
            "_view_module_version": "1.2.0",
            "_view_name": "StyleView",
            "bar_color": null,
            "description_width": ""
          }
        },
        "164809dfe85d419baf47cb9876fb5f2e": {
          "model_module": "@jupyter-widgets/base",
          "model_name": "LayoutModel",
          "model_module_version": "1.2.0",
          "state": {
            "_model_module": "@jupyter-widgets/base",
            "_model_module_version": "1.2.0",
            "_model_name": "LayoutModel",
            "_view_count": null,
            "_view_module": "@jupyter-widgets/base",
            "_view_module_version": "1.2.0",
            "_view_name": "LayoutView",
            "align_content": null,
            "align_items": null,
            "align_self": null,
            "border": null,
            "bottom": null,
            "display": null,
            "flex": null,
            "flex_flow": null,
            "grid_area": null,
            "grid_auto_columns": null,
            "grid_auto_flow": null,
            "grid_auto_rows": null,
            "grid_column": null,
            "grid_gap": null,
            "grid_row": null,
            "grid_template_areas": null,
            "grid_template_columns": null,
            "grid_template_rows": null,
            "height": null,
            "justify_content": null,
            "justify_items": null,
            "left": null,
            "margin": null,
            "max_height": null,
            "max_width": null,
            "min_height": null,
            "min_width": null,
            "object_fit": null,
            "object_position": null,
            "order": null,
            "overflow": null,
            "overflow_x": null,
            "overflow_y": null,
            "padding": null,
            "right": null,
            "top": null,
            "visibility": null,
            "width": null
          }
        },
        "bcde95b1ca534239ba59682d5cd510b9": {
          "model_module": "@jupyter-widgets/controls",
          "model_name": "DescriptionStyleModel",
          "model_module_version": "1.5.0",
          "state": {
            "_model_module": "@jupyter-widgets/controls",
            "_model_module_version": "1.5.0",
            "_model_name": "DescriptionStyleModel",
            "_view_count": null,
            "_view_module": "@jupyter-widgets/base",
            "_view_module_version": "1.2.0",
            "_view_name": "StyleView",
            "description_width": ""
          }
        },
        "fd36100c14ce460f9efa88d50ad44cb6": {
          "model_module": "@jupyter-widgets/controls",
          "model_name": "HBoxModel",
          "model_module_version": "1.5.0",
          "state": {
            "_dom_classes": [],
            "_model_module": "@jupyter-widgets/controls",
            "_model_module_version": "1.5.0",
            "_model_name": "HBoxModel",
            "_view_count": null,
            "_view_module": "@jupyter-widgets/controls",
            "_view_module_version": "1.5.0",
            "_view_name": "HBoxView",
            "box_style": "",
            "children": [
              "IPY_MODEL_a8f2b7afe9a14ab5aadd7b8b0789dd51",
              "IPY_MODEL_27fe21ffa39742098cbef9983fc383e8",
              "IPY_MODEL_09cec2bc6e29414ca45824869ef43741"
            ],
            "layout": "IPY_MODEL_67fbd88385524d0cb7ec3e96945e75e0"
          }
        },
        "a8f2b7afe9a14ab5aadd7b8b0789dd51": {
          "model_module": "@jupyter-widgets/controls",
          "model_name": "HTMLModel",
          "model_module_version": "1.5.0",
          "state": {
            "_dom_classes": [],
            "_model_module": "@jupyter-widgets/controls",
            "_model_module_version": "1.5.0",
            "_model_name": "HTMLModel",
            "_view_count": null,
            "_view_module": "@jupyter-widgets/controls",
            "_view_module_version": "1.5.0",
            "_view_name": "HTMLView",
            "description": "",
            "description_tooltip": null,
            "layout": "IPY_MODEL_2ae8873b2b99466092189bfce9311589",
            "placeholder": "​",
            "style": "IPY_MODEL_64f5e4f1da314824a5af29d09c870723",
            "value": "tokenizer_config.json: 100%"
          }
        },
        "27fe21ffa39742098cbef9983fc383e8": {
          "model_module": "@jupyter-widgets/controls",
          "model_name": "FloatProgressModel",
          "model_module_version": "1.5.0",
          "state": {
            "_dom_classes": [],
            "_model_module": "@jupyter-widgets/controls",
            "_model_module_version": "1.5.0",
            "_model_name": "FloatProgressModel",
            "_view_count": null,
            "_view_module": "@jupyter-widgets/controls",
            "_view_module_version": "1.5.0",
            "_view_name": "ProgressView",
            "bar_style": "success",
            "description": "",
            "description_tooltip": null,
            "layout": "IPY_MODEL_392f9bdfcb2643c5a502d2d4ada0cdc3",
            "max": 366,
            "min": 0,
            "orientation": "horizontal",
            "style": "IPY_MODEL_0bbe497a0b80439581b1a3361282fea4",
            "value": 366
          }
        },
        "09cec2bc6e29414ca45824869ef43741": {
          "model_module": "@jupyter-widgets/controls",
          "model_name": "HTMLModel",
          "model_module_version": "1.5.0",
          "state": {
            "_dom_classes": [],
            "_model_module": "@jupyter-widgets/controls",
            "_model_module_version": "1.5.0",
            "_model_name": "HTMLModel",
            "_view_count": null,
            "_view_module": "@jupyter-widgets/controls",
            "_view_module_version": "1.5.0",
            "_view_name": "HTMLView",
            "description": "",
            "description_tooltip": null,
            "layout": "IPY_MODEL_53ed77ba48c343f181c09c445aab6d15",
            "placeholder": "​",
            "style": "IPY_MODEL_e6f76c5966854ec0aa5f5e01a8810d08",
            "value": " 366/366 [00:00&lt;00:00, 17.1kB/s]"
          }
        },
        "67fbd88385524d0cb7ec3e96945e75e0": {
          "model_module": "@jupyter-widgets/base",
          "model_name": "LayoutModel",
          "model_module_version": "1.2.0",
          "state": {
            "_model_module": "@jupyter-widgets/base",
            "_model_module_version": "1.2.0",
            "_model_name": "LayoutModel",
            "_view_count": null,
            "_view_module": "@jupyter-widgets/base",
            "_view_module_version": "1.2.0",
            "_view_name": "LayoutView",
            "align_content": null,
            "align_items": null,
            "align_self": null,
            "border": null,
            "bottom": null,
            "display": null,
            "flex": null,
            "flex_flow": null,
            "grid_area": null,
            "grid_auto_columns": null,
            "grid_auto_flow": null,
            "grid_auto_rows": null,
            "grid_column": null,
            "grid_gap": null,
            "grid_row": null,
            "grid_template_areas": null,
            "grid_template_columns": null,
            "grid_template_rows": null,
            "height": null,
            "justify_content": null,
            "justify_items": null,
            "left": null,
            "margin": null,
            "max_height": null,
            "max_width": null,
            "min_height": null,
            "min_width": null,
            "object_fit": null,
            "object_position": null,
            "order": null,
            "overflow": null,
            "overflow_x": null,
            "overflow_y": null,
            "padding": null,
            "right": null,
            "top": null,
            "visibility": null,
            "width": null
          }
        },
        "2ae8873b2b99466092189bfce9311589": {
          "model_module": "@jupyter-widgets/base",
          "model_name": "LayoutModel",
          "model_module_version": "1.2.0",
          "state": {
            "_model_module": "@jupyter-widgets/base",
            "_model_module_version": "1.2.0",
            "_model_name": "LayoutModel",
            "_view_count": null,
            "_view_module": "@jupyter-widgets/base",
            "_view_module_version": "1.2.0",
            "_view_name": "LayoutView",
            "align_content": null,
            "align_items": null,
            "align_self": null,
            "border": null,
            "bottom": null,
            "display": null,
            "flex": null,
            "flex_flow": null,
            "grid_area": null,
            "grid_auto_columns": null,
            "grid_auto_flow": null,
            "grid_auto_rows": null,
            "grid_column": null,
            "grid_gap": null,
            "grid_row": null,
            "grid_template_areas": null,
            "grid_template_columns": null,
            "grid_template_rows": null,
            "height": null,
            "justify_content": null,
            "justify_items": null,
            "left": null,
            "margin": null,
            "max_height": null,
            "max_width": null,
            "min_height": null,
            "min_width": null,
            "object_fit": null,
            "object_position": null,
            "order": null,
            "overflow": null,
            "overflow_x": null,
            "overflow_y": null,
            "padding": null,
            "right": null,
            "top": null,
            "visibility": null,
            "width": null
          }
        },
        "64f5e4f1da314824a5af29d09c870723": {
          "model_module": "@jupyter-widgets/controls",
          "model_name": "DescriptionStyleModel",
          "model_module_version": "1.5.0",
          "state": {
            "_model_module": "@jupyter-widgets/controls",
            "_model_module_version": "1.5.0",
            "_model_name": "DescriptionStyleModel",
            "_view_count": null,
            "_view_module": "@jupyter-widgets/base",
            "_view_module_version": "1.2.0",
            "_view_name": "StyleView",
            "description_width": ""
          }
        },
        "392f9bdfcb2643c5a502d2d4ada0cdc3": {
          "model_module": "@jupyter-widgets/base",
          "model_name": "LayoutModel",
          "model_module_version": "1.2.0",
          "state": {
            "_model_module": "@jupyter-widgets/base",
            "_model_module_version": "1.2.0",
            "_model_name": "LayoutModel",
            "_view_count": null,
            "_view_module": "@jupyter-widgets/base",
            "_view_module_version": "1.2.0",
            "_view_name": "LayoutView",
            "align_content": null,
            "align_items": null,
            "align_self": null,
            "border": null,
            "bottom": null,
            "display": null,
            "flex": null,
            "flex_flow": null,
            "grid_area": null,
            "grid_auto_columns": null,
            "grid_auto_flow": null,
            "grid_auto_rows": null,
            "grid_column": null,
            "grid_gap": null,
            "grid_row": null,
            "grid_template_areas": null,
            "grid_template_columns": null,
            "grid_template_rows": null,
            "height": null,
            "justify_content": null,
            "justify_items": null,
            "left": null,
            "margin": null,
            "max_height": null,
            "max_width": null,
            "min_height": null,
            "min_width": null,
            "object_fit": null,
            "object_position": null,
            "order": null,
            "overflow": null,
            "overflow_x": null,
            "overflow_y": null,
            "padding": null,
            "right": null,
            "top": null,
            "visibility": null,
            "width": null
          }
        },
        "0bbe497a0b80439581b1a3361282fea4": {
          "model_module": "@jupyter-widgets/controls",
          "model_name": "ProgressStyleModel",
          "model_module_version": "1.5.0",
          "state": {
            "_model_module": "@jupyter-widgets/controls",
            "_model_module_version": "1.5.0",
            "_model_name": "ProgressStyleModel",
            "_view_count": null,
            "_view_module": "@jupyter-widgets/base",
            "_view_module_version": "1.2.0",
            "_view_name": "StyleView",
            "bar_color": null,
            "description_width": ""
          }
        },
        "53ed77ba48c343f181c09c445aab6d15": {
          "model_module": "@jupyter-widgets/base",
          "model_name": "LayoutModel",
          "model_module_version": "1.2.0",
          "state": {
            "_model_module": "@jupyter-widgets/base",
            "_model_module_version": "1.2.0",
            "_model_name": "LayoutModel",
            "_view_count": null,
            "_view_module": "@jupyter-widgets/base",
            "_view_module_version": "1.2.0",
            "_view_name": "LayoutView",
            "align_content": null,
            "align_items": null,
            "align_self": null,
            "border": null,
            "bottom": null,
            "display": null,
            "flex": null,
            "flex_flow": null,
            "grid_area": null,
            "grid_auto_columns": null,
            "grid_auto_flow": null,
            "grid_auto_rows": null,
            "grid_column": null,
            "grid_gap": null,
            "grid_row": null,
            "grid_template_areas": null,
            "grid_template_columns": null,
            "grid_template_rows": null,
            "height": null,
            "justify_content": null,
            "justify_items": null,
            "left": null,
            "margin": null,
            "max_height": null,
            "max_width": null,
            "min_height": null,
            "min_width": null,
            "object_fit": null,
            "object_position": null,
            "order": null,
            "overflow": null,
            "overflow_x": null,
            "overflow_y": null,
            "padding": null,
            "right": null,
            "top": null,
            "visibility": null,
            "width": null
          }
        },
        "e6f76c5966854ec0aa5f5e01a8810d08": {
          "model_module": "@jupyter-widgets/controls",
          "model_name": "DescriptionStyleModel",
          "model_module_version": "1.5.0",
          "state": {
            "_model_module": "@jupyter-widgets/controls",
            "_model_module_version": "1.5.0",
            "_model_name": "DescriptionStyleModel",
            "_view_count": null,
            "_view_module": "@jupyter-widgets/base",
            "_view_module_version": "1.2.0",
            "_view_name": "StyleView",
            "description_width": ""
          }
        },
        "90e572046d7b4a1aaa0320db7e20dc59": {
          "model_module": "@jupyter-widgets/controls",
          "model_name": "HBoxModel",
          "model_module_version": "1.5.0",
          "state": {
            "_dom_classes": [],
            "_model_module": "@jupyter-widgets/controls",
            "_model_module_version": "1.5.0",
            "_model_name": "HBoxModel",
            "_view_count": null,
            "_view_module": "@jupyter-widgets/controls",
            "_view_module_version": "1.5.0",
            "_view_name": "HBoxView",
            "box_style": "",
            "children": [
              "IPY_MODEL_174af9bdb61648f4b0f1d6da74322937",
              "IPY_MODEL_656e3c33b8b24235b61b7a33b3196d4d",
              "IPY_MODEL_37a37af3f7d94ea0993b750f02e1075e"
            ],
            "layout": "IPY_MODEL_0f1b0e8857a44862913f05f11477e501"
          }
        },
        "174af9bdb61648f4b0f1d6da74322937": {
          "model_module": "@jupyter-widgets/controls",
          "model_name": "HTMLModel",
          "model_module_version": "1.5.0",
          "state": {
            "_dom_classes": [],
            "_model_module": "@jupyter-widgets/controls",
            "_model_module_version": "1.5.0",
            "_model_name": "HTMLModel",
            "_view_count": null,
            "_view_module": "@jupyter-widgets/controls",
            "_view_module_version": "1.5.0",
            "_view_name": "HTMLView",
            "description": "",
            "description_tooltip": null,
            "layout": "IPY_MODEL_9d7e40fb478244eab1c99dcecf3be5ab",
            "placeholder": "​",
            "style": "IPY_MODEL_60abb80f6e3943c8aab4bcd60f1492f1",
            "value": "vocab.txt: 100%"
          }
        },
        "656e3c33b8b24235b61b7a33b3196d4d": {
          "model_module": "@jupyter-widgets/controls",
          "model_name": "FloatProgressModel",
          "model_module_version": "1.5.0",
          "state": {
            "_dom_classes": [],
            "_model_module": "@jupyter-widgets/controls",
            "_model_module_version": "1.5.0",
            "_model_name": "FloatProgressModel",
            "_view_count": null,
            "_view_module": "@jupyter-widgets/controls",
            "_view_module_version": "1.5.0",
            "_view_name": "ProgressView",
            "bar_style": "success",
            "description": "",
            "description_tooltip": null,
            "layout": "IPY_MODEL_25bc7864e2a34c11b829611933906610",
            "max": 231508,
            "min": 0,
            "orientation": "horizontal",
            "style": "IPY_MODEL_0b1f002f42a4497eaf9f9fc8093b3564",
            "value": 231508
          }
        },
        "37a37af3f7d94ea0993b750f02e1075e": {
          "model_module": "@jupyter-widgets/controls",
          "model_name": "HTMLModel",
          "model_module_version": "1.5.0",
          "state": {
            "_dom_classes": [],
            "_model_module": "@jupyter-widgets/controls",
            "_model_module_version": "1.5.0",
            "_model_name": "HTMLModel",
            "_view_count": null,
            "_view_module": "@jupyter-widgets/controls",
            "_view_module_version": "1.5.0",
            "_view_name": "HTMLView",
            "description": "",
            "description_tooltip": null,
            "layout": "IPY_MODEL_45e2b12e76cc4bb6a99a6dbc75bd23cc",
            "placeholder": "​",
            "style": "IPY_MODEL_1de257d753eb4703bc112b4a977c8ded",
            "value": " 232k/232k [00:00&lt;00:00, 10.7MB/s]"
          }
        },
        "0f1b0e8857a44862913f05f11477e501": {
          "model_module": "@jupyter-widgets/base",
          "model_name": "LayoutModel",
          "model_module_version": "1.2.0",
          "state": {
            "_model_module": "@jupyter-widgets/base",
            "_model_module_version": "1.2.0",
            "_model_name": "LayoutModel",
            "_view_count": null,
            "_view_module": "@jupyter-widgets/base",
            "_view_module_version": "1.2.0",
            "_view_name": "LayoutView",
            "align_content": null,
            "align_items": null,
            "align_self": null,
            "border": null,
            "bottom": null,
            "display": null,
            "flex": null,
            "flex_flow": null,
            "grid_area": null,
            "grid_auto_columns": null,
            "grid_auto_flow": null,
            "grid_auto_rows": null,
            "grid_column": null,
            "grid_gap": null,
            "grid_row": null,
            "grid_template_areas": null,
            "grid_template_columns": null,
            "grid_template_rows": null,
            "height": null,
            "justify_content": null,
            "justify_items": null,
            "left": null,
            "margin": null,
            "max_height": null,
            "max_width": null,
            "min_height": null,
            "min_width": null,
            "object_fit": null,
            "object_position": null,
            "order": null,
            "overflow": null,
            "overflow_x": null,
            "overflow_y": null,
            "padding": null,
            "right": null,
            "top": null,
            "visibility": null,
            "width": null
          }
        },
        "9d7e40fb478244eab1c99dcecf3be5ab": {
          "model_module": "@jupyter-widgets/base",
          "model_name": "LayoutModel",
          "model_module_version": "1.2.0",
          "state": {
            "_model_module": "@jupyter-widgets/base",
            "_model_module_version": "1.2.0",
            "_model_name": "LayoutModel",
            "_view_count": null,
            "_view_module": "@jupyter-widgets/base",
            "_view_module_version": "1.2.0",
            "_view_name": "LayoutView",
            "align_content": null,
            "align_items": null,
            "align_self": null,
            "border": null,
            "bottom": null,
            "display": null,
            "flex": null,
            "flex_flow": null,
            "grid_area": null,
            "grid_auto_columns": null,
            "grid_auto_flow": null,
            "grid_auto_rows": null,
            "grid_column": null,
            "grid_gap": null,
            "grid_row": null,
            "grid_template_areas": null,
            "grid_template_columns": null,
            "grid_template_rows": null,
            "height": null,
            "justify_content": null,
            "justify_items": null,
            "left": null,
            "margin": null,
            "max_height": null,
            "max_width": null,
            "min_height": null,
            "min_width": null,
            "object_fit": null,
            "object_position": null,
            "order": null,
            "overflow": null,
            "overflow_x": null,
            "overflow_y": null,
            "padding": null,
            "right": null,
            "top": null,
            "visibility": null,
            "width": null
          }
        },
        "60abb80f6e3943c8aab4bcd60f1492f1": {
          "model_module": "@jupyter-widgets/controls",
          "model_name": "DescriptionStyleModel",
          "model_module_version": "1.5.0",
          "state": {
            "_model_module": "@jupyter-widgets/controls",
            "_model_module_version": "1.5.0",
            "_model_name": "DescriptionStyleModel",
            "_view_count": null,
            "_view_module": "@jupyter-widgets/base",
            "_view_module_version": "1.2.0",
            "_view_name": "StyleView",
            "description_width": ""
          }
        },
        "25bc7864e2a34c11b829611933906610": {
          "model_module": "@jupyter-widgets/base",
          "model_name": "LayoutModel",
          "model_module_version": "1.2.0",
          "state": {
            "_model_module": "@jupyter-widgets/base",
            "_model_module_version": "1.2.0",
            "_model_name": "LayoutModel",
            "_view_count": null,
            "_view_module": "@jupyter-widgets/base",
            "_view_module_version": "1.2.0",
            "_view_name": "LayoutView",
            "align_content": null,
            "align_items": null,
            "align_self": null,
            "border": null,
            "bottom": null,
            "display": null,
            "flex": null,
            "flex_flow": null,
            "grid_area": null,
            "grid_auto_columns": null,
            "grid_auto_flow": null,
            "grid_auto_rows": null,
            "grid_column": null,
            "grid_gap": null,
            "grid_row": null,
            "grid_template_areas": null,
            "grid_template_columns": null,
            "grid_template_rows": null,
            "height": null,
            "justify_content": null,
            "justify_items": null,
            "left": null,
            "margin": null,
            "max_height": null,
            "max_width": null,
            "min_height": null,
            "min_width": null,
            "object_fit": null,
            "object_position": null,
            "order": null,
            "overflow": null,
            "overflow_x": null,
            "overflow_y": null,
            "padding": null,
            "right": null,
            "top": null,
            "visibility": null,
            "width": null
          }
        },
        "0b1f002f42a4497eaf9f9fc8093b3564": {
          "model_module": "@jupyter-widgets/controls",
          "model_name": "ProgressStyleModel",
          "model_module_version": "1.5.0",
          "state": {
            "_model_module": "@jupyter-widgets/controls",
            "_model_module_version": "1.5.0",
            "_model_name": "ProgressStyleModel",
            "_view_count": null,
            "_view_module": "@jupyter-widgets/base",
            "_view_module_version": "1.2.0",
            "_view_name": "StyleView",
            "bar_color": null,
            "description_width": ""
          }
        },
        "45e2b12e76cc4bb6a99a6dbc75bd23cc": {
          "model_module": "@jupyter-widgets/base",
          "model_name": "LayoutModel",
          "model_module_version": "1.2.0",
          "state": {
            "_model_module": "@jupyter-widgets/base",
            "_model_module_version": "1.2.0",
            "_model_name": "LayoutModel",
            "_view_count": null,
            "_view_module": "@jupyter-widgets/base",
            "_view_module_version": "1.2.0",
            "_view_name": "LayoutView",
            "align_content": null,
            "align_items": null,
            "align_self": null,
            "border": null,
            "bottom": null,
            "display": null,
            "flex": null,
            "flex_flow": null,
            "grid_area": null,
            "grid_auto_columns": null,
            "grid_auto_flow": null,
            "grid_auto_rows": null,
            "grid_column": null,
            "grid_gap": null,
            "grid_row": null,
            "grid_template_areas": null,
            "grid_template_columns": null,
            "grid_template_rows": null,
            "height": null,
            "justify_content": null,
            "justify_items": null,
            "left": null,
            "margin": null,
            "max_height": null,
            "max_width": null,
            "min_height": null,
            "min_width": null,
            "object_fit": null,
            "object_position": null,
            "order": null,
            "overflow": null,
            "overflow_x": null,
            "overflow_y": null,
            "padding": null,
            "right": null,
            "top": null,
            "visibility": null,
            "width": null
          }
        },
        "1de257d753eb4703bc112b4a977c8ded": {
          "model_module": "@jupyter-widgets/controls",
          "model_name": "DescriptionStyleModel",
          "model_module_version": "1.5.0",
          "state": {
            "_model_module": "@jupyter-widgets/controls",
            "_model_module_version": "1.5.0",
            "_model_name": "DescriptionStyleModel",
            "_view_count": null,
            "_view_module": "@jupyter-widgets/base",
            "_view_module_version": "1.2.0",
            "_view_name": "StyleView",
            "description_width": ""
          }
        },
        "f1345cab563e4f39a1da6fb8a37f6e82": {
          "model_module": "@jupyter-widgets/controls",
          "model_name": "HBoxModel",
          "model_module_version": "1.5.0",
          "state": {
            "_dom_classes": [],
            "_model_module": "@jupyter-widgets/controls",
            "_model_module_version": "1.5.0",
            "_model_name": "HBoxModel",
            "_view_count": null,
            "_view_module": "@jupyter-widgets/controls",
            "_view_module_version": "1.5.0",
            "_view_name": "HBoxView",
            "box_style": "",
            "children": [
              "IPY_MODEL_11886c28df544b87b7ca88a99b5fbe4a",
              "IPY_MODEL_76eb6a7d99cf4b2292625313150c8d44",
              "IPY_MODEL_2c193649e4ba470ba0d6f42b2c5830cf"
            ],
            "layout": "IPY_MODEL_87da5b131deb496e982ddaef7c02ad8f"
          }
        },
        "11886c28df544b87b7ca88a99b5fbe4a": {
          "model_module": "@jupyter-widgets/controls",
          "model_name": "HTMLModel",
          "model_module_version": "1.5.0",
          "state": {
            "_dom_classes": [],
            "_model_module": "@jupyter-widgets/controls",
            "_model_module_version": "1.5.0",
            "_model_name": "HTMLModel",
            "_view_count": null,
            "_view_module": "@jupyter-widgets/controls",
            "_view_module_version": "1.5.0",
            "_view_name": "HTMLView",
            "description": "",
            "description_tooltip": null,
            "layout": "IPY_MODEL_4b7cb62bb49c4bc08201d98e4b525faf",
            "placeholder": "​",
            "style": "IPY_MODEL_d9094a711ad242a8b7e0a57ec727511f",
            "value": "tokenizer.json: 100%"
          }
        },
        "76eb6a7d99cf4b2292625313150c8d44": {
          "model_module": "@jupyter-widgets/controls",
          "model_name": "FloatProgressModel",
          "model_module_version": "1.5.0",
          "state": {
            "_dom_classes": [],
            "_model_module": "@jupyter-widgets/controls",
            "_model_module_version": "1.5.0",
            "_model_name": "FloatProgressModel",
            "_view_count": null,
            "_view_module": "@jupyter-widgets/controls",
            "_view_module_version": "1.5.0",
            "_view_name": "ProgressView",
            "bar_style": "success",
            "description": "",
            "description_tooltip": null,
            "layout": "IPY_MODEL_949b3a19023e4c81be9de64b790a7020",
            "max": 711396,
            "min": 0,
            "orientation": "horizontal",
            "style": "IPY_MODEL_fb8fbaefb36d470e95c73064d51e2cd0",
            "value": 711396
          }
        },
        "2c193649e4ba470ba0d6f42b2c5830cf": {
          "model_module": "@jupyter-widgets/controls",
          "model_name": "HTMLModel",
          "model_module_version": "1.5.0",
          "state": {
            "_dom_classes": [],
            "_model_module": "@jupyter-widgets/controls",
            "_model_module_version": "1.5.0",
            "_model_name": "HTMLModel",
            "_view_count": null,
            "_view_module": "@jupyter-widgets/controls",
            "_view_module_version": "1.5.0",
            "_view_name": "HTMLView",
            "description": "",
            "description_tooltip": null,
            "layout": "IPY_MODEL_b4d853dbcd9d4992ae8acf3b4b1bba49",
            "placeholder": "​",
            "style": "IPY_MODEL_e810d8a51df94d17b20f0b87bd14459a",
            "value": " 711k/711k [00:00&lt;00:00, 4.18MB/s]"
          }
        },
        "87da5b131deb496e982ddaef7c02ad8f": {
          "model_module": "@jupyter-widgets/base",
          "model_name": "LayoutModel",
          "model_module_version": "1.2.0",
          "state": {
            "_model_module": "@jupyter-widgets/base",
            "_model_module_version": "1.2.0",
            "_model_name": "LayoutModel",
            "_view_count": null,
            "_view_module": "@jupyter-widgets/base",
            "_view_module_version": "1.2.0",
            "_view_name": "LayoutView",
            "align_content": null,
            "align_items": null,
            "align_self": null,
            "border": null,
            "bottom": null,
            "display": null,
            "flex": null,
            "flex_flow": null,
            "grid_area": null,
            "grid_auto_columns": null,
            "grid_auto_flow": null,
            "grid_auto_rows": null,
            "grid_column": null,
            "grid_gap": null,
            "grid_row": null,
            "grid_template_areas": null,
            "grid_template_columns": null,
            "grid_template_rows": null,
            "height": null,
            "justify_content": null,
            "justify_items": null,
            "left": null,
            "margin": null,
            "max_height": null,
            "max_width": null,
            "min_height": null,
            "min_width": null,
            "object_fit": null,
            "object_position": null,
            "order": null,
            "overflow": null,
            "overflow_x": null,
            "overflow_y": null,
            "padding": null,
            "right": null,
            "top": null,
            "visibility": null,
            "width": null
          }
        },
        "4b7cb62bb49c4bc08201d98e4b525faf": {
          "model_module": "@jupyter-widgets/base",
          "model_name": "LayoutModel",
          "model_module_version": "1.2.0",
          "state": {
            "_model_module": "@jupyter-widgets/base",
            "_model_module_version": "1.2.0",
            "_model_name": "LayoutModel",
            "_view_count": null,
            "_view_module": "@jupyter-widgets/base",
            "_view_module_version": "1.2.0",
            "_view_name": "LayoutView",
            "align_content": null,
            "align_items": null,
            "align_self": null,
            "border": null,
            "bottom": null,
            "display": null,
            "flex": null,
            "flex_flow": null,
            "grid_area": null,
            "grid_auto_columns": null,
            "grid_auto_flow": null,
            "grid_auto_rows": null,
            "grid_column": null,
            "grid_gap": null,
            "grid_row": null,
            "grid_template_areas": null,
            "grid_template_columns": null,
            "grid_template_rows": null,
            "height": null,
            "justify_content": null,
            "justify_items": null,
            "left": null,
            "margin": null,
            "max_height": null,
            "max_width": null,
            "min_height": null,
            "min_width": null,
            "object_fit": null,
            "object_position": null,
            "order": null,
            "overflow": null,
            "overflow_x": null,
            "overflow_y": null,
            "padding": null,
            "right": null,
            "top": null,
            "visibility": null,
            "width": null
          }
        },
        "d9094a711ad242a8b7e0a57ec727511f": {
          "model_module": "@jupyter-widgets/controls",
          "model_name": "DescriptionStyleModel",
          "model_module_version": "1.5.0",
          "state": {
            "_model_module": "@jupyter-widgets/controls",
            "_model_module_version": "1.5.0",
            "_model_name": "DescriptionStyleModel",
            "_view_count": null,
            "_view_module": "@jupyter-widgets/base",
            "_view_module_version": "1.2.0",
            "_view_name": "StyleView",
            "description_width": ""
          }
        },
        "949b3a19023e4c81be9de64b790a7020": {
          "model_module": "@jupyter-widgets/base",
          "model_name": "LayoutModel",
          "model_module_version": "1.2.0",
          "state": {
            "_model_module": "@jupyter-widgets/base",
            "_model_module_version": "1.2.0",
            "_model_name": "LayoutModel",
            "_view_count": null,
            "_view_module": "@jupyter-widgets/base",
            "_view_module_version": "1.2.0",
            "_view_name": "LayoutView",
            "align_content": null,
            "align_items": null,
            "align_self": null,
            "border": null,
            "bottom": null,
            "display": null,
            "flex": null,
            "flex_flow": null,
            "grid_area": null,
            "grid_auto_columns": null,
            "grid_auto_flow": null,
            "grid_auto_rows": null,
            "grid_column": null,
            "grid_gap": null,
            "grid_row": null,
            "grid_template_areas": null,
            "grid_template_columns": null,
            "grid_template_rows": null,
            "height": null,
            "justify_content": null,
            "justify_items": null,
            "left": null,
            "margin": null,
            "max_height": null,
            "max_width": null,
            "min_height": null,
            "min_width": null,
            "object_fit": null,
            "object_position": null,
            "order": null,
            "overflow": null,
            "overflow_x": null,
            "overflow_y": null,
            "padding": null,
            "right": null,
            "top": null,
            "visibility": null,
            "width": null
          }
        },
        "fb8fbaefb36d470e95c73064d51e2cd0": {
          "model_module": "@jupyter-widgets/controls",
          "model_name": "ProgressStyleModel",
          "model_module_version": "1.5.0",
          "state": {
            "_model_module": "@jupyter-widgets/controls",
            "_model_module_version": "1.5.0",
            "_model_name": "ProgressStyleModel",
            "_view_count": null,
            "_view_module": "@jupyter-widgets/base",
            "_view_module_version": "1.2.0",
            "_view_name": "StyleView",
            "bar_color": null,
            "description_width": ""
          }
        },
        "b4d853dbcd9d4992ae8acf3b4b1bba49": {
          "model_module": "@jupyter-widgets/base",
          "model_name": "LayoutModel",
          "model_module_version": "1.2.0",
          "state": {
            "_model_module": "@jupyter-widgets/base",
            "_model_module_version": "1.2.0",
            "_model_name": "LayoutModel",
            "_view_count": null,
            "_view_module": "@jupyter-widgets/base",
            "_view_module_version": "1.2.0",
            "_view_name": "LayoutView",
            "align_content": null,
            "align_items": null,
            "align_self": null,
            "border": null,
            "bottom": null,
            "display": null,
            "flex": null,
            "flex_flow": null,
            "grid_area": null,
            "grid_auto_columns": null,
            "grid_auto_flow": null,
            "grid_auto_rows": null,
            "grid_column": null,
            "grid_gap": null,
            "grid_row": null,
            "grid_template_areas": null,
            "grid_template_columns": null,
            "grid_template_rows": null,
            "height": null,
            "justify_content": null,
            "justify_items": null,
            "left": null,
            "margin": null,
            "max_height": null,
            "max_width": null,
            "min_height": null,
            "min_width": null,
            "object_fit": null,
            "object_position": null,
            "order": null,
            "overflow": null,
            "overflow_x": null,
            "overflow_y": null,
            "padding": null,
            "right": null,
            "top": null,
            "visibility": null,
            "width": null
          }
        },
        "e810d8a51df94d17b20f0b87bd14459a": {
          "model_module": "@jupyter-widgets/controls",
          "model_name": "DescriptionStyleModel",
          "model_module_version": "1.5.0",
          "state": {
            "_model_module": "@jupyter-widgets/controls",
            "_model_module_version": "1.5.0",
            "_model_name": "DescriptionStyleModel",
            "_view_count": null,
            "_view_module": "@jupyter-widgets/base",
            "_view_module_version": "1.2.0",
            "_view_name": "StyleView",
            "description_width": ""
          }
        },
        "6d461c280e1746fdbb70fb4aa58e392c": {
          "model_module": "@jupyter-widgets/controls",
          "model_name": "HBoxModel",
          "model_module_version": "1.5.0",
          "state": {
            "_dom_classes": [],
            "_model_module": "@jupyter-widgets/controls",
            "_model_module_version": "1.5.0",
            "_model_name": "HBoxModel",
            "_view_count": null,
            "_view_module": "@jupyter-widgets/controls",
            "_view_module_version": "1.5.0",
            "_view_name": "HBoxView",
            "box_style": "",
            "children": [
              "IPY_MODEL_6db681adb0414ab3a9631d31ee9d9bfe",
              "IPY_MODEL_7c2bb1b5da0d4fef8b317196de8dbfa9",
              "IPY_MODEL_acbc8bd3039945359fc6277a7b83830d"
            ],
            "layout": "IPY_MODEL_b2597cf88c4b4dc2983c4c893ad69f83"
          }
        },
        "6db681adb0414ab3a9631d31ee9d9bfe": {
          "model_module": "@jupyter-widgets/controls",
          "model_name": "HTMLModel",
          "model_module_version": "1.5.0",
          "state": {
            "_dom_classes": [],
            "_model_module": "@jupyter-widgets/controls",
            "_model_module_version": "1.5.0",
            "_model_name": "HTMLModel",
            "_view_count": null,
            "_view_module": "@jupyter-widgets/controls",
            "_view_module_version": "1.5.0",
            "_view_name": "HTMLView",
            "description": "",
            "description_tooltip": null,
            "layout": "IPY_MODEL_ab94e8528f8c4202ab306d3076a6e42a",
            "placeholder": "​",
            "style": "IPY_MODEL_fc5080e915c84e53ba2019507ed3a086",
            "value": "special_tokens_map.json: 100%"
          }
        },
        "7c2bb1b5da0d4fef8b317196de8dbfa9": {
          "model_module": "@jupyter-widgets/controls",
          "model_name": "FloatProgressModel",
          "model_module_version": "1.5.0",
          "state": {
            "_dom_classes": [],
            "_model_module": "@jupyter-widgets/controls",
            "_model_module_version": "1.5.0",
            "_model_name": "FloatProgressModel",
            "_view_count": null,
            "_view_module": "@jupyter-widgets/controls",
            "_view_module_version": "1.5.0",
            "_view_name": "ProgressView",
            "bar_style": "success",
            "description": "",
            "description_tooltip": null,
            "layout": "IPY_MODEL_1ea44e01117849e0b5ee1a3953f03aee",
            "max": 125,
            "min": 0,
            "orientation": "horizontal",
            "style": "IPY_MODEL_aa0c6196bdaa4922b022d9eaaef6b5f3",
            "value": 125
          }
        },
        "acbc8bd3039945359fc6277a7b83830d": {
          "model_module": "@jupyter-widgets/controls",
          "model_name": "HTMLModel",
          "model_module_version": "1.5.0",
          "state": {
            "_dom_classes": [],
            "_model_module": "@jupyter-widgets/controls",
            "_model_module_version": "1.5.0",
            "_model_name": "HTMLModel",
            "_view_count": null,
            "_view_module": "@jupyter-widgets/controls",
            "_view_module_version": "1.5.0",
            "_view_name": "HTMLView",
            "description": "",
            "description_tooltip": null,
            "layout": "IPY_MODEL_4296b9f23a9e45fdb7b3e648771bdb51",
            "placeholder": "​",
            "style": "IPY_MODEL_2ff76bf895e64728bac146641dcac656",
            "value": " 125/125 [00:00&lt;00:00, 7.00kB/s]"
          }
        },
        "b2597cf88c4b4dc2983c4c893ad69f83": {
          "model_module": "@jupyter-widgets/base",
          "model_name": "LayoutModel",
          "model_module_version": "1.2.0",
          "state": {
            "_model_module": "@jupyter-widgets/base",
            "_model_module_version": "1.2.0",
            "_model_name": "LayoutModel",
            "_view_count": null,
            "_view_module": "@jupyter-widgets/base",
            "_view_module_version": "1.2.0",
            "_view_name": "LayoutView",
            "align_content": null,
            "align_items": null,
            "align_self": null,
            "border": null,
            "bottom": null,
            "display": null,
            "flex": null,
            "flex_flow": null,
            "grid_area": null,
            "grid_auto_columns": null,
            "grid_auto_flow": null,
            "grid_auto_rows": null,
            "grid_column": null,
            "grid_gap": null,
            "grid_row": null,
            "grid_template_areas": null,
            "grid_template_columns": null,
            "grid_template_rows": null,
            "height": null,
            "justify_content": null,
            "justify_items": null,
            "left": null,
            "margin": null,
            "max_height": null,
            "max_width": null,
            "min_height": null,
            "min_width": null,
            "object_fit": null,
            "object_position": null,
            "order": null,
            "overflow": null,
            "overflow_x": null,
            "overflow_y": null,
            "padding": null,
            "right": null,
            "top": null,
            "visibility": null,
            "width": null
          }
        },
        "ab94e8528f8c4202ab306d3076a6e42a": {
          "model_module": "@jupyter-widgets/base",
          "model_name": "LayoutModel",
          "model_module_version": "1.2.0",
          "state": {
            "_model_module": "@jupyter-widgets/base",
            "_model_module_version": "1.2.0",
            "_model_name": "LayoutModel",
            "_view_count": null,
            "_view_module": "@jupyter-widgets/base",
            "_view_module_version": "1.2.0",
            "_view_name": "LayoutView",
            "align_content": null,
            "align_items": null,
            "align_self": null,
            "border": null,
            "bottom": null,
            "display": null,
            "flex": null,
            "flex_flow": null,
            "grid_area": null,
            "grid_auto_columns": null,
            "grid_auto_flow": null,
            "grid_auto_rows": null,
            "grid_column": null,
            "grid_gap": null,
            "grid_row": null,
            "grid_template_areas": null,
            "grid_template_columns": null,
            "grid_template_rows": null,
            "height": null,
            "justify_content": null,
            "justify_items": null,
            "left": null,
            "margin": null,
            "max_height": null,
            "max_width": null,
            "min_height": null,
            "min_width": null,
            "object_fit": null,
            "object_position": null,
            "order": null,
            "overflow": null,
            "overflow_x": null,
            "overflow_y": null,
            "padding": null,
            "right": null,
            "top": null,
            "visibility": null,
            "width": null
          }
        },
        "fc5080e915c84e53ba2019507ed3a086": {
          "model_module": "@jupyter-widgets/controls",
          "model_name": "DescriptionStyleModel",
          "model_module_version": "1.5.0",
          "state": {
            "_model_module": "@jupyter-widgets/controls",
            "_model_module_version": "1.5.0",
            "_model_name": "DescriptionStyleModel",
            "_view_count": null,
            "_view_module": "@jupyter-widgets/base",
            "_view_module_version": "1.2.0",
            "_view_name": "StyleView",
            "description_width": ""
          }
        },
        "1ea44e01117849e0b5ee1a3953f03aee": {
          "model_module": "@jupyter-widgets/base",
          "model_name": "LayoutModel",
          "model_module_version": "1.2.0",
          "state": {
            "_model_module": "@jupyter-widgets/base",
            "_model_module_version": "1.2.0",
            "_model_name": "LayoutModel",
            "_view_count": null,
            "_view_module": "@jupyter-widgets/base",
            "_view_module_version": "1.2.0",
            "_view_name": "LayoutView",
            "align_content": null,
            "align_items": null,
            "align_self": null,
            "border": null,
            "bottom": null,
            "display": null,
            "flex": null,
            "flex_flow": null,
            "grid_area": null,
            "grid_auto_columns": null,
            "grid_auto_flow": null,
            "grid_auto_rows": null,
            "grid_column": null,
            "grid_gap": null,
            "grid_row": null,
            "grid_template_areas": null,
            "grid_template_columns": null,
            "grid_template_rows": null,
            "height": null,
            "justify_content": null,
            "justify_items": null,
            "left": null,
            "margin": null,
            "max_height": null,
            "max_width": null,
            "min_height": null,
            "min_width": null,
            "object_fit": null,
            "object_position": null,
            "order": null,
            "overflow": null,
            "overflow_x": null,
            "overflow_y": null,
            "padding": null,
            "right": null,
            "top": null,
            "visibility": null,
            "width": null
          }
        },
        "aa0c6196bdaa4922b022d9eaaef6b5f3": {
          "model_module": "@jupyter-widgets/controls",
          "model_name": "ProgressStyleModel",
          "model_module_version": "1.5.0",
          "state": {
            "_model_module": "@jupyter-widgets/controls",
            "_model_module_version": "1.5.0",
            "_model_name": "ProgressStyleModel",
            "_view_count": null,
            "_view_module": "@jupyter-widgets/base",
            "_view_module_version": "1.2.0",
            "_view_name": "StyleView",
            "bar_color": null,
            "description_width": ""
          }
        },
        "4296b9f23a9e45fdb7b3e648771bdb51": {
          "model_module": "@jupyter-widgets/base",
          "model_name": "LayoutModel",
          "model_module_version": "1.2.0",
          "state": {
            "_model_module": "@jupyter-widgets/base",
            "_model_module_version": "1.2.0",
            "_model_name": "LayoutModel",
            "_view_count": null,
            "_view_module": "@jupyter-widgets/base",
            "_view_module_version": "1.2.0",
            "_view_name": "LayoutView",
            "align_content": null,
            "align_items": null,
            "align_self": null,
            "border": null,
            "bottom": null,
            "display": null,
            "flex": null,
            "flex_flow": null,
            "grid_area": null,
            "grid_auto_columns": null,
            "grid_auto_flow": null,
            "grid_auto_rows": null,
            "grid_column": null,
            "grid_gap": null,
            "grid_row": null,
            "grid_template_areas": null,
            "grid_template_columns": null,
            "grid_template_rows": null,
            "height": null,
            "justify_content": null,
            "justify_items": null,
            "left": null,
            "margin": null,
            "max_height": null,
            "max_width": null,
            "min_height": null,
            "min_width": null,
            "object_fit": null,
            "object_position": null,
            "order": null,
            "overflow": null,
            "overflow_x": null,
            "overflow_y": null,
            "padding": null,
            "right": null,
            "top": null,
            "visibility": null,
            "width": null
          }
        },
        "2ff76bf895e64728bac146641dcac656": {
          "model_module": "@jupyter-widgets/controls",
          "model_name": "DescriptionStyleModel",
          "model_module_version": "1.5.0",
          "state": {
            "_model_module": "@jupyter-widgets/controls",
            "_model_module_version": "1.5.0",
            "_model_name": "DescriptionStyleModel",
            "_view_count": null,
            "_view_module": "@jupyter-widgets/base",
            "_view_module_version": "1.2.0",
            "_view_name": "StyleView",
            "description_width": ""
          }
        },
        "2f4482310d7942e8a944144c6f9c4d4f": {
          "model_module": "@jupyter-widgets/controls",
          "model_name": "HBoxModel",
          "model_module_version": "1.5.0",
          "state": {
            "_dom_classes": [],
            "_model_module": "@jupyter-widgets/controls",
            "_model_module_version": "1.5.0",
            "_model_name": "HBoxModel",
            "_view_count": null,
            "_view_module": "@jupyter-widgets/controls",
            "_view_module_version": "1.5.0",
            "_view_name": "HBoxView",
            "box_style": "",
            "children": [
              "IPY_MODEL_a4ccdf7c7605451b9cad44c8584b44bb",
              "IPY_MODEL_ffd997ca31f64144b8c5bb71ce6a8d99",
              "IPY_MODEL_abc75f3c31b7432a9dbf5e0d8f6cafcb"
            ],
            "layout": "IPY_MODEL_b89d3ca091e247469721503b478371e6"
          }
        },
        "a4ccdf7c7605451b9cad44c8584b44bb": {
          "model_module": "@jupyter-widgets/controls",
          "model_name": "HTMLModel",
          "model_module_version": "1.5.0",
          "state": {
            "_dom_classes": [],
            "_model_module": "@jupyter-widgets/controls",
            "_model_module_version": "1.5.0",
            "_model_name": "HTMLModel",
            "_view_count": null,
            "_view_module": "@jupyter-widgets/controls",
            "_view_module_version": "1.5.0",
            "_view_name": "HTMLView",
            "description": "",
            "description_tooltip": null,
            "layout": "IPY_MODEL_5e3385bd607a4a588258bed482c82b91",
            "placeholder": "​",
            "style": "IPY_MODEL_f9564ed7b89f4e3eb1fd774b6ac37804",
            "value": "1_Pooling/config.json: 100%"
          }
        },
        "ffd997ca31f64144b8c5bb71ce6a8d99": {
          "model_module": "@jupyter-widgets/controls",
          "model_name": "FloatProgressModel",
          "model_module_version": "1.5.0",
          "state": {
            "_dom_classes": [],
            "_model_module": "@jupyter-widgets/controls",
            "_model_module_version": "1.5.0",
            "_model_name": "FloatProgressModel",
            "_view_count": null,
            "_view_module": "@jupyter-widgets/controls",
            "_view_module_version": "1.5.0",
            "_view_name": "ProgressView",
            "bar_style": "success",
            "description": "",
            "description_tooltip": null,
            "layout": "IPY_MODEL_f88ce040df974dbbb19f198c42ed7b7f",
            "max": 190,
            "min": 0,
            "orientation": "horizontal",
            "style": "IPY_MODEL_8680f60e8e3b44028a21ad4aed6da690",
            "value": 190
          }
        },
        "abc75f3c31b7432a9dbf5e0d8f6cafcb": {
          "model_module": "@jupyter-widgets/controls",
          "model_name": "HTMLModel",
          "model_module_version": "1.5.0",
          "state": {
            "_dom_classes": [],
            "_model_module": "@jupyter-widgets/controls",
            "_model_module_version": "1.5.0",
            "_model_name": "HTMLModel",
            "_view_count": null,
            "_view_module": "@jupyter-widgets/controls",
            "_view_module_version": "1.5.0",
            "_view_name": "HTMLView",
            "description": "",
            "description_tooltip": null,
            "layout": "IPY_MODEL_829179bc0bb844a8ae5f88eae48230a7",
            "placeholder": "​",
            "style": "IPY_MODEL_1291bd2dc5eb48ec9c4ac194c5fd506c",
            "value": " 190/190 [00:00&lt;00:00, 6.08kB/s]"
          }
        },
        "b89d3ca091e247469721503b478371e6": {
          "model_module": "@jupyter-widgets/base",
          "model_name": "LayoutModel",
          "model_module_version": "1.2.0",
          "state": {
            "_model_module": "@jupyter-widgets/base",
            "_model_module_version": "1.2.0",
            "_model_name": "LayoutModel",
            "_view_count": null,
            "_view_module": "@jupyter-widgets/base",
            "_view_module_version": "1.2.0",
            "_view_name": "LayoutView",
            "align_content": null,
            "align_items": null,
            "align_self": null,
            "border": null,
            "bottom": null,
            "display": null,
            "flex": null,
            "flex_flow": null,
            "grid_area": null,
            "grid_auto_columns": null,
            "grid_auto_flow": null,
            "grid_auto_rows": null,
            "grid_column": null,
            "grid_gap": null,
            "grid_row": null,
            "grid_template_areas": null,
            "grid_template_columns": null,
            "grid_template_rows": null,
            "height": null,
            "justify_content": null,
            "justify_items": null,
            "left": null,
            "margin": null,
            "max_height": null,
            "max_width": null,
            "min_height": null,
            "min_width": null,
            "object_fit": null,
            "object_position": null,
            "order": null,
            "overflow": null,
            "overflow_x": null,
            "overflow_y": null,
            "padding": null,
            "right": null,
            "top": null,
            "visibility": null,
            "width": null
          }
        },
        "5e3385bd607a4a588258bed482c82b91": {
          "model_module": "@jupyter-widgets/base",
          "model_name": "LayoutModel",
          "model_module_version": "1.2.0",
          "state": {
            "_model_module": "@jupyter-widgets/base",
            "_model_module_version": "1.2.0",
            "_model_name": "LayoutModel",
            "_view_count": null,
            "_view_module": "@jupyter-widgets/base",
            "_view_module_version": "1.2.0",
            "_view_name": "LayoutView",
            "align_content": null,
            "align_items": null,
            "align_self": null,
            "border": null,
            "bottom": null,
            "display": null,
            "flex": null,
            "flex_flow": null,
            "grid_area": null,
            "grid_auto_columns": null,
            "grid_auto_flow": null,
            "grid_auto_rows": null,
            "grid_column": null,
            "grid_gap": null,
            "grid_row": null,
            "grid_template_areas": null,
            "grid_template_columns": null,
            "grid_template_rows": null,
            "height": null,
            "justify_content": null,
            "justify_items": null,
            "left": null,
            "margin": null,
            "max_height": null,
            "max_width": null,
            "min_height": null,
            "min_width": null,
            "object_fit": null,
            "object_position": null,
            "order": null,
            "overflow": null,
            "overflow_x": null,
            "overflow_y": null,
            "padding": null,
            "right": null,
            "top": null,
            "visibility": null,
            "width": null
          }
        },
        "f9564ed7b89f4e3eb1fd774b6ac37804": {
          "model_module": "@jupyter-widgets/controls",
          "model_name": "DescriptionStyleModel",
          "model_module_version": "1.5.0",
          "state": {
            "_model_module": "@jupyter-widgets/controls",
            "_model_module_version": "1.5.0",
            "_model_name": "DescriptionStyleModel",
            "_view_count": null,
            "_view_module": "@jupyter-widgets/base",
            "_view_module_version": "1.2.0",
            "_view_name": "StyleView",
            "description_width": ""
          }
        },
        "f88ce040df974dbbb19f198c42ed7b7f": {
          "model_module": "@jupyter-widgets/base",
          "model_name": "LayoutModel",
          "model_module_version": "1.2.0",
          "state": {
            "_model_module": "@jupyter-widgets/base",
            "_model_module_version": "1.2.0",
            "_model_name": "LayoutModel",
            "_view_count": null,
            "_view_module": "@jupyter-widgets/base",
            "_view_module_version": "1.2.0",
            "_view_name": "LayoutView",
            "align_content": null,
            "align_items": null,
            "align_self": null,
            "border": null,
            "bottom": null,
            "display": null,
            "flex": null,
            "flex_flow": null,
            "grid_area": null,
            "grid_auto_columns": null,
            "grid_auto_flow": null,
            "grid_auto_rows": null,
            "grid_column": null,
            "grid_gap": null,
            "grid_row": null,
            "grid_template_areas": null,
            "grid_template_columns": null,
            "grid_template_rows": null,
            "height": null,
            "justify_content": null,
            "justify_items": null,
            "left": null,
            "margin": null,
            "max_height": null,
            "max_width": null,
            "min_height": null,
            "min_width": null,
            "object_fit": null,
            "object_position": null,
            "order": null,
            "overflow": null,
            "overflow_x": null,
            "overflow_y": null,
            "padding": null,
            "right": null,
            "top": null,
            "visibility": null,
            "width": null
          }
        },
        "8680f60e8e3b44028a21ad4aed6da690": {
          "model_module": "@jupyter-widgets/controls",
          "model_name": "ProgressStyleModel",
          "model_module_version": "1.5.0",
          "state": {
            "_model_module": "@jupyter-widgets/controls",
            "_model_module_version": "1.5.0",
            "_model_name": "ProgressStyleModel",
            "_view_count": null,
            "_view_module": "@jupyter-widgets/base",
            "_view_module_version": "1.2.0",
            "_view_name": "StyleView",
            "bar_color": null,
            "description_width": ""
          }
        },
        "829179bc0bb844a8ae5f88eae48230a7": {
          "model_module": "@jupyter-widgets/base",
          "model_name": "LayoutModel",
          "model_module_version": "1.2.0",
          "state": {
            "_model_module": "@jupyter-widgets/base",
            "_model_module_version": "1.2.0",
            "_model_name": "LayoutModel",
            "_view_count": null,
            "_view_module": "@jupyter-widgets/base",
            "_view_module_version": "1.2.0",
            "_view_name": "LayoutView",
            "align_content": null,
            "align_items": null,
            "align_self": null,
            "border": null,
            "bottom": null,
            "display": null,
            "flex": null,
            "flex_flow": null,
            "grid_area": null,
            "grid_auto_columns": null,
            "grid_auto_flow": null,
            "grid_auto_rows": null,
            "grid_column": null,
            "grid_gap": null,
            "grid_row": null,
            "grid_template_areas": null,
            "grid_template_columns": null,
            "grid_template_rows": null,
            "height": null,
            "justify_content": null,
            "justify_items": null,
            "left": null,
            "margin": null,
            "max_height": null,
            "max_width": null,
            "min_height": null,
            "min_width": null,
            "object_fit": null,
            "object_position": null,
            "order": null,
            "overflow": null,
            "overflow_x": null,
            "overflow_y": null,
            "padding": null,
            "right": null,
            "top": null,
            "visibility": null,
            "width": null
          }
        },
        "1291bd2dc5eb48ec9c4ac194c5fd506c": {
          "model_module": "@jupyter-widgets/controls",
          "model_name": "DescriptionStyleModel",
          "model_module_version": "1.5.0",
          "state": {
            "_model_module": "@jupyter-widgets/controls",
            "_model_module_version": "1.5.0",
            "_model_name": "DescriptionStyleModel",
            "_view_count": null,
            "_view_module": "@jupyter-widgets/base",
            "_view_module_version": "1.2.0",
            "_view_name": "StyleView",
            "description_width": ""
          }
        }
      }
    }
  },
  "cells": [
    {
      "cell_type": "markdown",
      "metadata": {
        "id": "view-in-github",
        "colab_type": "text"
      },
      "source": [
        "<a href=\"https://colab.research.google.com/github/Sajeeb07/CricketBot/blob/main/CricketBot.ipynb\" target=\"_parent\"><img src=\"https://colab.research.google.com/assets/colab-badge.svg\" alt=\"Open In Colab\"/></a>"
      ]
    },
    {
      "cell_type": "markdown",
      "source": [
        "**Installation**"
      ],
      "metadata": {
        "id": "DChsCKbR7g0B"
      }
    },
    {
      "cell_type": "code",
      "execution_count": 1,
      "metadata": {
        "colab": {
          "base_uri": "https://localhost:8080/"
        },
        "id": "ujk6TGB4MYbB",
        "outputId": "2818fcc2-5d23-4eb2-90c4-1d678d1f85fc"
      },
      "outputs": [
        {
          "output_type": "stream",
          "name": "stdout",
          "text": [
            "Collecting langchain\n",
            "  Downloading langchain-0.1.11-py3-none-any.whl (807 kB)\n",
            "\u001b[2K     \u001b[90m━━━━━━━━━━━━━━━━━━━━━━━━━━━━━━━━━━━━━━━━\u001b[0m \u001b[32m807.5/807.5 kB\u001b[0m \u001b[31m10.1 MB/s\u001b[0m eta \u001b[36m0:00:00\u001b[0m\n",
            "\u001b[?25hCollecting sentence-transformers\n",
            "  Downloading sentence_transformers-2.5.1-py3-none-any.whl (156 kB)\n",
            "\u001b[2K     \u001b[90m━━━━━━━━━━━━━━━━━━━━━━━━━━━━━━━━━━━━━━━━\u001b[0m \u001b[32m156.5/156.5 kB\u001b[0m \u001b[31m11.3 MB/s\u001b[0m eta \u001b[36m0:00:00\u001b[0m\n",
            "\u001b[?25hCollecting chromadb\n",
            "  Downloading chromadb-0.4.24-py3-none-any.whl (525 kB)\n",
            "\u001b[2K     \u001b[90m━━━━━━━━━━━━━━━━━━━━━━━━━━━━━━━━━━━━━━━━\u001b[0m \u001b[32m525.5/525.5 kB\u001b[0m \u001b[31m14.6 MB/s\u001b[0m eta \u001b[36m0:00:00\u001b[0m\n",
            "\u001b[?25hCollecting llama-cpp-python\n",
            "  Downloading llama_cpp_python-0.2.55.tar.gz (36.8 MB)\n",
            "\u001b[2K     \u001b[90m━━━━━━━━━━━━━━━━━━━━━━━━━━━━━━━━━━━━━━━━\u001b[0m \u001b[32m36.8/36.8 MB\u001b[0m \u001b[31m39.5 MB/s\u001b[0m eta \u001b[36m0:00:00\u001b[0m\n",
            "\u001b[?25h  Installing build dependencies ... \u001b[?25l\u001b[?25hdone\n",
            "  Getting requirements to build wheel ... \u001b[?25l\u001b[?25hdone\n",
            "  Installing backend dependencies ... \u001b[?25l\u001b[?25hdone\n",
            "  Preparing metadata (pyproject.toml) ... \u001b[?25l\u001b[?25hdone\n",
            "Collecting langchain_community\n",
            "  Downloading langchain_community-0.0.25-py3-none-any.whl (1.8 MB)\n",
            "\u001b[2K     \u001b[90m━━━━━━━━━━━━━━━━━━━━━━━━━━━━━━━━━━━━━━━━\u001b[0m \u001b[32m1.8/1.8 MB\u001b[0m \u001b[31m72.3 MB/s\u001b[0m eta \u001b[36m0:00:00\u001b[0m\n",
            "\u001b[?25hCollecting pypdf\n",
            "  Downloading pypdf-4.1.0-py3-none-any.whl (286 kB)\n",
            "\u001b[2K     \u001b[90m━━━━━━━━━━━━━━━━━━━━━━━━━━━━━━━━━━━━━━━━\u001b[0m \u001b[32m286.1/286.1 kB\u001b[0m \u001b[31m31.8 MB/s\u001b[0m eta \u001b[36m0:00:00\u001b[0m\n",
            "\u001b[?25hRequirement already satisfied: PyYAML>=5.3 in /usr/local/lib/python3.10/dist-packages (from langchain) (6.0.1)\n",
            "Requirement already satisfied: SQLAlchemy<3,>=1.4 in /usr/local/lib/python3.10/dist-packages (from langchain) (2.0.27)\n",
            "Requirement already satisfied: aiohttp<4.0.0,>=3.8.3 in /usr/local/lib/python3.10/dist-packages (from langchain) (3.9.3)\n",
            "Requirement already satisfied: async-timeout<5.0.0,>=4.0.0 in /usr/local/lib/python3.10/dist-packages (from langchain) (4.0.3)\n",
            "Collecting dataclasses-json<0.7,>=0.5.7 (from langchain)\n",
            "  Downloading dataclasses_json-0.6.4-py3-none-any.whl (28 kB)\n",
            "Collecting jsonpatch<2.0,>=1.33 (from langchain)\n",
            "  Downloading jsonpatch-1.33-py2.py3-none-any.whl (12 kB)\n",
            "Collecting langchain-core<0.2,>=0.1.29 (from langchain)\n",
            "  Downloading langchain_core-0.1.29-py3-none-any.whl (252 kB)\n",
            "\u001b[2K     \u001b[90m━━━━━━━━━━━━━━━━━━━━━━━━━━━━━━━━━━━━━━━━\u001b[0m \u001b[32m252.6/252.6 kB\u001b[0m \u001b[31m33.1 MB/s\u001b[0m eta \u001b[36m0:00:00\u001b[0m\n",
            "\u001b[?25hCollecting langchain-text-splitters<0.1,>=0.0.1 (from langchain)\n",
            "  Downloading langchain_text_splitters-0.0.1-py3-none-any.whl (21 kB)\n",
            "Collecting langsmith<0.2.0,>=0.1.17 (from langchain)\n",
            "  Downloading langsmith-0.1.22-py3-none-any.whl (66 kB)\n",
            "\u001b[2K     \u001b[90m━━━━━━━━━━━━━━━━━━━━━━━━━━━━━━━━━━━━━━━━\u001b[0m \u001b[32m66.6/66.6 kB\u001b[0m \u001b[31m8.7 MB/s\u001b[0m eta \u001b[36m0:00:00\u001b[0m\n",
            "\u001b[?25hRequirement already satisfied: numpy<2,>=1 in /usr/local/lib/python3.10/dist-packages (from langchain) (1.25.2)\n",
            "Requirement already satisfied: pydantic<3,>=1 in /usr/local/lib/python3.10/dist-packages (from langchain) (2.6.3)\n",
            "Requirement already satisfied: requests<3,>=2 in /usr/local/lib/python3.10/dist-packages (from langchain) (2.31.0)\n",
            "Requirement already satisfied: tenacity<9.0.0,>=8.1.0 in /usr/local/lib/python3.10/dist-packages (from langchain) (8.2.3)\n",
            "Requirement already satisfied: transformers<5.0.0,>=4.32.0 in /usr/local/lib/python3.10/dist-packages (from sentence-transformers) (4.38.1)\n",
            "Requirement already satisfied: tqdm in /usr/local/lib/python3.10/dist-packages (from sentence-transformers) (4.66.2)\n",
            "Requirement already satisfied: torch>=1.11.0 in /usr/local/lib/python3.10/dist-packages (from sentence-transformers) (2.1.0+cu121)\n",
            "Requirement already satisfied: scikit-learn in /usr/local/lib/python3.10/dist-packages (from sentence-transformers) (1.2.2)\n",
            "Requirement already satisfied: scipy in /usr/local/lib/python3.10/dist-packages (from sentence-transformers) (1.11.4)\n",
            "Requirement already satisfied: huggingface-hub>=0.15.1 in /usr/local/lib/python3.10/dist-packages (from sentence-transformers) (0.20.3)\n",
            "Requirement already satisfied: Pillow in /usr/local/lib/python3.10/dist-packages (from sentence-transformers) (9.4.0)\n",
            "Requirement already satisfied: build>=1.0.3 in /usr/local/lib/python3.10/dist-packages (from chromadb) (1.1.1)\n",
            "Collecting chroma-hnswlib==0.7.3 (from chromadb)\n",
            "  Downloading chroma_hnswlib-0.7.3-cp310-cp310-manylinux_2_17_x86_64.manylinux2014_x86_64.whl (2.4 MB)\n",
            "\u001b[2K     \u001b[90m━━━━━━━━━━━━━━━━━━━━━━━━━━━━━━━━━━━━━━━━\u001b[0m \u001b[32m2.4/2.4 MB\u001b[0m \u001b[31m82.0 MB/s\u001b[0m eta \u001b[36m0:00:00\u001b[0m\n",
            "\u001b[?25hCollecting fastapi>=0.95.2 (from chromadb)\n",
            "  Downloading fastapi-0.110.0-py3-none-any.whl (92 kB)\n",
            "\u001b[2K     \u001b[90m━━━━━━━━━━━━━━━━━━━━━━━━━━━━━━━━━━━━━━━━\u001b[0m \u001b[32m92.1/92.1 kB\u001b[0m \u001b[31m13.5 MB/s\u001b[0m eta \u001b[36m0:00:00\u001b[0m\n",
            "\u001b[?25hCollecting uvicorn[standard]>=0.18.3 (from chromadb)\n",
            "  Downloading uvicorn-0.27.1-py3-none-any.whl (60 kB)\n",
            "\u001b[2K     \u001b[90m━━━━━━━━━━━━━━━━━━━━━━━━━━━━━━━━━━━━━━━━\u001b[0m \u001b[32m60.8/60.8 kB\u001b[0m \u001b[31m2.5 MB/s\u001b[0m eta \u001b[36m0:00:00\u001b[0m\n",
            "\u001b[?25hCollecting posthog>=2.4.0 (from chromadb)\n",
            "  Downloading posthog-3.5.0-py2.py3-none-any.whl (41 kB)\n",
            "\u001b[2K     \u001b[90m━━━━━━━━━━━━━━━━━━━━━━━━━━━━━━━━━━━━━━━━\u001b[0m \u001b[32m41.3/41.3 kB\u001b[0m \u001b[31m5.6 MB/s\u001b[0m eta \u001b[36m0:00:00\u001b[0m\n",
            "\u001b[?25hRequirement already satisfied: typing-extensions>=4.5.0 in /usr/local/lib/python3.10/dist-packages (from chromadb) (4.10.0)\n",
            "Collecting pulsar-client>=3.1.0 (from chromadb)\n",
            "  Downloading pulsar_client-3.4.0-cp310-cp310-manylinux_2_17_x86_64.manylinux2014_x86_64.whl (5.4 MB)\n",
            "\u001b[2K     \u001b[90m━━━━━━━━━━━━━━━━━━━━━━━━━━━━━━━━━━━━━━━━\u001b[0m \u001b[32m5.4/5.4 MB\u001b[0m \u001b[31m88.4 MB/s\u001b[0m eta \u001b[36m0:00:00\u001b[0m\n",
            "\u001b[?25hCollecting onnxruntime>=1.14.1 (from chromadb)\n",
            "  Downloading onnxruntime-1.17.1-cp310-cp310-manylinux_2_27_x86_64.manylinux_2_28_x86_64.whl (6.8 MB)\n",
            "\u001b[2K     \u001b[90m━━━━━━━━━━━━━━━━━━━━━━━━━━━━━━━━━━━━━━━━\u001b[0m \u001b[32m6.8/6.8 MB\u001b[0m \u001b[31m88.9 MB/s\u001b[0m eta \u001b[36m0:00:00\u001b[0m\n",
            "\u001b[?25hCollecting opentelemetry-api>=1.2.0 (from chromadb)\n",
            "  Downloading opentelemetry_api-1.23.0-py3-none-any.whl (58 kB)\n",
            "\u001b[2K     \u001b[90m━━━━━━━━━━━━━━━━━━━━━━━━━━━━━━━━━━━━━━━━\u001b[0m \u001b[32m58.4/58.4 kB\u001b[0m \u001b[31m9.2 MB/s\u001b[0m eta \u001b[36m0:00:00\u001b[0m\n",
            "\u001b[?25hCollecting opentelemetry-exporter-otlp-proto-grpc>=1.2.0 (from chromadb)\n",
            "  Downloading opentelemetry_exporter_otlp_proto_grpc-1.23.0-py3-none-any.whl (18 kB)\n",
            "Collecting opentelemetry-instrumentation-fastapi>=0.41b0 (from chromadb)\n",
            "  Downloading opentelemetry_instrumentation_fastapi-0.44b0-py3-none-any.whl (11 kB)\n",
            "Collecting opentelemetry-sdk>=1.2.0 (from chromadb)\n",
            "  Downloading opentelemetry_sdk-1.23.0-py3-none-any.whl (105 kB)\n",
            "\u001b[2K     \u001b[90m━━━━━━━━━━━━━━━━━━━━━━━━━━━━━━━━━━━━━━━━\u001b[0m \u001b[32m105.7/105.7 kB\u001b[0m \u001b[31m15.7 MB/s\u001b[0m eta \u001b[36m0:00:00\u001b[0m\n",
            "\u001b[?25hRequirement already satisfied: tokenizers>=0.13.2 in /usr/local/lib/python3.10/dist-packages (from chromadb) (0.15.2)\n",
            "Collecting pypika>=0.48.9 (from chromadb)\n",
            "  Downloading PyPika-0.48.9.tar.gz (67 kB)\n",
            "\u001b[2K     \u001b[90m━━━━━━━━━━━━━━━━━━━━━━━━━━━━━━━━━━━━━━━━\u001b[0m \u001b[32m67.3/67.3 kB\u001b[0m \u001b[31m10.4 MB/s\u001b[0m eta \u001b[36m0:00:00\u001b[0m\n",
            "\u001b[?25h  Installing build dependencies ... \u001b[?25l\u001b[?25hdone\n",
            "  Getting requirements to build wheel ... \u001b[?25l\u001b[?25hdone\n",
            "  Preparing metadata (pyproject.toml) ... \u001b[?25l\u001b[?25hdone\n",
            "Collecting overrides>=7.3.1 (from chromadb)\n",
            "  Downloading overrides-7.7.0-py3-none-any.whl (17 kB)\n",
            "Requirement already satisfied: importlib-resources in /usr/local/lib/python3.10/dist-packages (from chromadb) (6.1.2)\n",
            "Requirement already satisfied: grpcio>=1.58.0 in /usr/local/lib/python3.10/dist-packages (from chromadb) (1.62.0)\n",
            "Collecting bcrypt>=4.0.1 (from chromadb)\n",
            "  Downloading bcrypt-4.1.2-cp39-abi3-manylinux_2_28_x86_64.whl (698 kB)\n",
            "\u001b[2K     \u001b[90m━━━━━━━━━━━━━━━━━━━━━━━━━━━━━━━━━━━━━━━━\u001b[0m \u001b[32m698.9/698.9 kB\u001b[0m \u001b[31m50.3 MB/s\u001b[0m eta \u001b[36m0:00:00\u001b[0m\n",
            "\u001b[?25hRequirement already satisfied: typer>=0.9.0 in /usr/local/lib/python3.10/dist-packages (from chromadb) (0.9.0)\n",
            "Collecting kubernetes>=28.1.0 (from chromadb)\n",
            "  Downloading kubernetes-29.0.0-py2.py3-none-any.whl (1.6 MB)\n",
            "\u001b[2K     \u001b[90m━━━━━━━━━━━━━━━━━━━━━━━━━━━━━━━━━━━━━━━━\u001b[0m \u001b[32m1.6/1.6 MB\u001b[0m \u001b[31m59.2 MB/s\u001b[0m eta \u001b[36m0:00:00\u001b[0m\n",
            "\u001b[?25hCollecting mmh3>=4.0.1 (from chromadb)\n",
            "  Downloading mmh3-4.1.0-cp310-cp310-manylinux_2_5_x86_64.manylinux1_x86_64.manylinux_2_17_x86_64.manylinux2014_x86_64.whl (67 kB)\n",
            "\u001b[2K     \u001b[90m━━━━━━━━━━━━━━━━━━━━━━━━━━━━━━━━━━━━━━━━\u001b[0m \u001b[32m67.6/67.6 kB\u001b[0m \u001b[31m9.0 MB/s\u001b[0m eta \u001b[36m0:00:00\u001b[0m\n",
            "\u001b[?25hCollecting orjson>=3.9.12 (from chromadb)\n",
            "  Downloading orjson-3.9.15-cp310-cp310-manylinux_2_17_x86_64.manylinux2014_x86_64.whl (138 kB)\n",
            "\u001b[2K     \u001b[90m━━━━━━━━━━━━━━━━━━━━━━━━━━━━━━━━━━━━━━━━\u001b[0m \u001b[32m138.5/138.5 kB\u001b[0m \u001b[31m16.2 MB/s\u001b[0m eta \u001b[36m0:00:00\u001b[0m\n",
            "\u001b[?25hCollecting diskcache>=5.6.1 (from llama-cpp-python)\n",
            "  Downloading diskcache-5.6.3-py3-none-any.whl (45 kB)\n",
            "\u001b[2K     \u001b[90m━━━━━━━━━━━━━━━━━━━━━━━━━━━━━━━━━━━━━━━━\u001b[0m \u001b[32m45.5/45.5 kB\u001b[0m \u001b[31m6.3 MB/s\u001b[0m eta \u001b[36m0:00:00\u001b[0m\n",
            "\u001b[?25hRequirement already satisfied: jinja2>=2.11.3 in /usr/local/lib/python3.10/dist-packages (from llama-cpp-python) (3.1.3)\n",
            "Requirement already satisfied: aiosignal>=1.1.2 in /usr/local/lib/python3.10/dist-packages (from aiohttp<4.0.0,>=3.8.3->langchain) (1.3.1)\n",
            "Requirement already satisfied: attrs>=17.3.0 in /usr/local/lib/python3.10/dist-packages (from aiohttp<4.0.0,>=3.8.3->langchain) (23.2.0)\n",
            "Requirement already satisfied: frozenlist>=1.1.1 in /usr/local/lib/python3.10/dist-packages (from aiohttp<4.0.0,>=3.8.3->langchain) (1.4.1)\n",
            "Requirement already satisfied: multidict<7.0,>=4.5 in /usr/local/lib/python3.10/dist-packages (from aiohttp<4.0.0,>=3.8.3->langchain) (6.0.5)\n",
            "Requirement already satisfied: yarl<2.0,>=1.0 in /usr/local/lib/python3.10/dist-packages (from aiohttp<4.0.0,>=3.8.3->langchain) (1.9.4)\n",
            "Requirement already satisfied: packaging>=19.0 in /usr/local/lib/python3.10/dist-packages (from build>=1.0.3->chromadb) (23.2)\n",
            "Requirement already satisfied: pyproject_hooks in /usr/local/lib/python3.10/dist-packages (from build>=1.0.3->chromadb) (1.0.0)\n",
            "Requirement already satisfied: tomli>=1.1.0 in /usr/local/lib/python3.10/dist-packages (from build>=1.0.3->chromadb) (2.0.1)\n",
            "Collecting marshmallow<4.0.0,>=3.18.0 (from dataclasses-json<0.7,>=0.5.7->langchain)\n",
            "  Downloading marshmallow-3.21.1-py3-none-any.whl (49 kB)\n",
            "\u001b[2K     \u001b[90m━━━━━━━━━━━━━━━━━━━━━━━━━━━━━━━━━━━━━━━━\u001b[0m \u001b[32m49.4/49.4 kB\u001b[0m \u001b[31m7.7 MB/s\u001b[0m eta \u001b[36m0:00:00\u001b[0m\n",
            "\u001b[?25hCollecting typing-inspect<1,>=0.4.0 (from dataclasses-json<0.7,>=0.5.7->langchain)\n",
            "  Downloading typing_inspect-0.9.0-py3-none-any.whl (8.8 kB)\n",
            "Collecting starlette<0.37.0,>=0.36.3 (from fastapi>=0.95.2->chromadb)\n",
            "  Downloading starlette-0.36.3-py3-none-any.whl (71 kB)\n",
            "\u001b[2K     \u001b[90m━━━━━━━━━━━━━━━━━━━━━━━━━━━━━━━━━━━━━━━━\u001b[0m \u001b[32m71.5/71.5 kB\u001b[0m \u001b[31m11.0 MB/s\u001b[0m eta \u001b[36m0:00:00\u001b[0m\n",
            "\u001b[?25hRequirement already satisfied: filelock in /usr/local/lib/python3.10/dist-packages (from huggingface-hub>=0.15.1->sentence-transformers) (3.13.1)\n",
            "Requirement already satisfied: fsspec>=2023.5.0 in /usr/local/lib/python3.10/dist-packages (from huggingface-hub>=0.15.1->sentence-transformers) (2023.6.0)\n",
            "Requirement already satisfied: MarkupSafe>=2.0 in /usr/local/lib/python3.10/dist-packages (from jinja2>=2.11.3->llama-cpp-python) (2.1.5)\n",
            "Collecting jsonpointer>=1.9 (from jsonpatch<2.0,>=1.33->langchain)\n",
            "  Downloading jsonpointer-2.4-py2.py3-none-any.whl (7.8 kB)\n",
            "Requirement already satisfied: certifi>=14.05.14 in /usr/local/lib/python3.10/dist-packages (from kubernetes>=28.1.0->chromadb) (2024.2.2)\n",
            "Requirement already satisfied: six>=1.9.0 in /usr/local/lib/python3.10/dist-packages (from kubernetes>=28.1.0->chromadb) (1.16.0)\n",
            "Requirement already satisfied: python-dateutil>=2.5.3 in /usr/local/lib/python3.10/dist-packages (from kubernetes>=28.1.0->chromadb) (2.8.2)\n",
            "Requirement already satisfied: google-auth>=1.0.1 in /usr/local/lib/python3.10/dist-packages (from kubernetes>=28.1.0->chromadb) (2.27.0)\n",
            "Requirement already satisfied: websocket-client!=0.40.0,!=0.41.*,!=0.42.*,>=0.32.0 in /usr/local/lib/python3.10/dist-packages (from kubernetes>=28.1.0->chromadb) (1.7.0)\n",
            "Requirement already satisfied: requests-oauthlib in /usr/local/lib/python3.10/dist-packages (from kubernetes>=28.1.0->chromadb) (1.3.1)\n",
            "Requirement already satisfied: oauthlib>=3.2.2 in /usr/local/lib/python3.10/dist-packages (from kubernetes>=28.1.0->chromadb) (3.2.2)\n",
            "Requirement already satisfied: urllib3>=1.24.2 in /usr/local/lib/python3.10/dist-packages (from kubernetes>=28.1.0->chromadb) (2.0.7)\n",
            "Requirement already satisfied: anyio<5,>=3 in /usr/local/lib/python3.10/dist-packages (from langchain-core<0.2,>=0.1.29->langchain) (3.7.1)\n",
            "Collecting coloredlogs (from onnxruntime>=1.14.1->chromadb)\n",
            "  Downloading coloredlogs-15.0.1-py2.py3-none-any.whl (46 kB)\n",
            "\u001b[2K     \u001b[90m━━━━━━━━━━━━━━━━━━━━━━━━━━━━━━━━━━━━━━━━\u001b[0m \u001b[32m46.0/46.0 kB\u001b[0m \u001b[31m7.0 MB/s\u001b[0m eta \u001b[36m0:00:00\u001b[0m\n",
            "\u001b[?25hRequirement already satisfied: flatbuffers in /usr/local/lib/python3.10/dist-packages (from onnxruntime>=1.14.1->chromadb) (23.5.26)\n",
            "Requirement already satisfied: protobuf in /usr/local/lib/python3.10/dist-packages (from onnxruntime>=1.14.1->chromadb) (3.20.3)\n",
            "Requirement already satisfied: sympy in /usr/local/lib/python3.10/dist-packages (from onnxruntime>=1.14.1->chromadb) (1.12)\n",
            "Collecting deprecated>=1.2.6 (from opentelemetry-api>=1.2.0->chromadb)\n",
            "  Downloading Deprecated-1.2.14-py2.py3-none-any.whl (9.6 kB)\n",
            "Collecting importlib-metadata<7.0,>=6.0 (from opentelemetry-api>=1.2.0->chromadb)\n",
            "  Downloading importlib_metadata-6.11.0-py3-none-any.whl (23 kB)\n",
            "Requirement already satisfied: googleapis-common-protos~=1.52 in /usr/local/lib/python3.10/dist-packages (from opentelemetry-exporter-otlp-proto-grpc>=1.2.0->chromadb) (1.62.0)\n",
            "Collecting opentelemetry-exporter-otlp-proto-common==1.23.0 (from opentelemetry-exporter-otlp-proto-grpc>=1.2.0->chromadb)\n",
            "  Downloading opentelemetry_exporter_otlp_proto_common-1.23.0-py3-none-any.whl (17 kB)\n",
            "Collecting opentelemetry-proto==1.23.0 (from opentelemetry-exporter-otlp-proto-grpc>=1.2.0->chromadb)\n",
            "  Downloading opentelemetry_proto-1.23.0-py3-none-any.whl (50 kB)\n",
            "\u001b[2K     \u001b[90m━━━━━━━━━━━━━━━━━━━━━━━━━━━━━━━━━━━━━━━━\u001b[0m \u001b[32m50.8/50.8 kB\u001b[0m \u001b[31m8.1 MB/s\u001b[0m eta \u001b[36m0:00:00\u001b[0m\n",
            "\u001b[?25hCollecting opentelemetry-instrumentation-asgi==0.44b0 (from opentelemetry-instrumentation-fastapi>=0.41b0->chromadb)\n",
            "  Downloading opentelemetry_instrumentation_asgi-0.44b0-py3-none-any.whl (14 kB)\n",
            "Collecting opentelemetry-instrumentation==0.44b0 (from opentelemetry-instrumentation-fastapi>=0.41b0->chromadb)\n",
            "  Downloading opentelemetry_instrumentation-0.44b0-py3-none-any.whl (28 kB)\n",
            "Collecting opentelemetry-semantic-conventions==0.44b0 (from opentelemetry-instrumentation-fastapi>=0.41b0->chromadb)\n",
            "  Downloading opentelemetry_semantic_conventions-0.44b0-py3-none-any.whl (36 kB)\n",
            "Collecting opentelemetry-util-http==0.44b0 (from opentelemetry-instrumentation-fastapi>=0.41b0->chromadb)\n",
            "  Downloading opentelemetry_util_http-0.44b0-py3-none-any.whl (6.9 kB)\n",
            "Requirement already satisfied: setuptools>=16.0 in /usr/local/lib/python3.10/dist-packages (from opentelemetry-instrumentation==0.44b0->opentelemetry-instrumentation-fastapi>=0.41b0->chromadb) (67.7.2)\n",
            "Requirement already satisfied: wrapt<2.0.0,>=1.0.0 in /usr/local/lib/python3.10/dist-packages (from opentelemetry-instrumentation==0.44b0->opentelemetry-instrumentation-fastapi>=0.41b0->chromadb) (1.14.1)\n",
            "Collecting asgiref~=3.0 (from opentelemetry-instrumentation-asgi==0.44b0->opentelemetry-instrumentation-fastapi>=0.41b0->chromadb)\n",
            "  Downloading asgiref-3.7.2-py3-none-any.whl (24 kB)\n",
            "Collecting monotonic>=1.5 (from posthog>=2.4.0->chromadb)\n",
            "  Downloading monotonic-1.6-py2.py3-none-any.whl (8.2 kB)\n",
            "Collecting backoff>=1.10.0 (from posthog>=2.4.0->chromadb)\n",
            "  Downloading backoff-2.2.1-py3-none-any.whl (15 kB)\n",
            "Requirement already satisfied: annotated-types>=0.4.0 in /usr/local/lib/python3.10/dist-packages (from pydantic<3,>=1->langchain) (0.6.0)\n",
            "Requirement already satisfied: pydantic-core==2.16.3 in /usr/local/lib/python3.10/dist-packages (from pydantic<3,>=1->langchain) (2.16.3)\n",
            "Requirement already satisfied: charset-normalizer<4,>=2 in /usr/local/lib/python3.10/dist-packages (from requests<3,>=2->langchain) (3.3.2)\n",
            "Requirement already satisfied: idna<4,>=2.5 in /usr/local/lib/python3.10/dist-packages (from requests<3,>=2->langchain) (3.6)\n",
            "Requirement already satisfied: greenlet!=0.4.17 in /usr/local/lib/python3.10/dist-packages (from SQLAlchemy<3,>=1.4->langchain) (3.0.3)\n",
            "Requirement already satisfied: networkx in /usr/local/lib/python3.10/dist-packages (from torch>=1.11.0->sentence-transformers) (3.2.1)\n",
            "Requirement already satisfied: triton==2.1.0 in /usr/local/lib/python3.10/dist-packages (from torch>=1.11.0->sentence-transformers) (2.1.0)\n",
            "Requirement already satisfied: regex!=2019.12.17 in /usr/local/lib/python3.10/dist-packages (from transformers<5.0.0,>=4.32.0->sentence-transformers) (2023.12.25)\n",
            "Requirement already satisfied: safetensors>=0.4.1 in /usr/local/lib/python3.10/dist-packages (from transformers<5.0.0,>=4.32.0->sentence-transformers) (0.4.2)\n",
            "Requirement already satisfied: click<9.0.0,>=7.1.1 in /usr/local/lib/python3.10/dist-packages (from typer>=0.9.0->chromadb) (8.1.7)\n",
            "Collecting h11>=0.8 (from uvicorn[standard]>=0.18.3->chromadb)\n",
            "  Downloading h11-0.14.0-py3-none-any.whl (58 kB)\n",
            "\u001b[2K     \u001b[90m━━━━━━━━━━━━━━━━━━━━━━━━━━━━━━━━━━━━━━━━\u001b[0m \u001b[32m58.3/58.3 kB\u001b[0m \u001b[31m8.9 MB/s\u001b[0m eta \u001b[36m0:00:00\u001b[0m\n",
            "\u001b[?25hCollecting httptools>=0.5.0 (from uvicorn[standard]>=0.18.3->chromadb)\n",
            "  Downloading httptools-0.6.1-cp310-cp310-manylinux_2_5_x86_64.manylinux1_x86_64.manylinux_2_17_x86_64.manylinux2014_x86_64.whl (341 kB)\n",
            "\u001b[2K     \u001b[90m━━━━━━━━━━━━━━━━━━━━━━━━━━━━━━━━━━━━━━━━\u001b[0m \u001b[32m341.4/341.4 kB\u001b[0m \u001b[31m41.1 MB/s\u001b[0m eta \u001b[36m0:00:00\u001b[0m\n",
            "\u001b[?25hCollecting python-dotenv>=0.13 (from uvicorn[standard]>=0.18.3->chromadb)\n",
            "  Downloading python_dotenv-1.0.1-py3-none-any.whl (19 kB)\n",
            "Collecting uvloop!=0.15.0,!=0.15.1,>=0.14.0 (from uvicorn[standard]>=0.18.3->chromadb)\n",
            "  Downloading uvloop-0.19.0-cp310-cp310-manylinux_2_17_x86_64.manylinux2014_x86_64.whl (3.4 MB)\n",
            "\u001b[2K     \u001b[90m━━━━━━━━━━━━━━━━━━━━━━━━━━━━━━━━━━━━━━━━\u001b[0m \u001b[32m3.4/3.4 MB\u001b[0m \u001b[31m89.0 MB/s\u001b[0m eta \u001b[36m0:00:00\u001b[0m\n",
            "\u001b[?25hCollecting watchfiles>=0.13 (from uvicorn[standard]>=0.18.3->chromadb)\n",
            "  Downloading watchfiles-0.21.0-cp310-cp310-manylinux_2_17_x86_64.manylinux2014_x86_64.whl (1.3 MB)\n",
            "\u001b[2K     \u001b[90m━━━━━━━━━━━━━━━━━━━━━━━━━━━━━━━━━━━━━━━━\u001b[0m \u001b[32m1.3/1.3 MB\u001b[0m \u001b[31m70.4 MB/s\u001b[0m eta \u001b[36m0:00:00\u001b[0m\n",
            "\u001b[?25hCollecting websockets>=10.4 (from uvicorn[standard]>=0.18.3->chromadb)\n",
            "  Downloading websockets-12.0-cp310-cp310-manylinux_2_5_x86_64.manylinux1_x86_64.manylinux_2_17_x86_64.manylinux2014_x86_64.whl (130 kB)\n",
            "\u001b[2K     \u001b[90m━━━━━━━━━━━━━━━━━━━━━━━━━━━━━━━━━━━━━━━━\u001b[0m \u001b[32m130.2/130.2 kB\u001b[0m \u001b[31m20.2 MB/s\u001b[0m eta \u001b[36m0:00:00\u001b[0m\n",
            "\u001b[?25hRequirement already satisfied: joblib>=1.1.1 in /usr/local/lib/python3.10/dist-packages (from scikit-learn->sentence-transformers) (1.3.2)\n",
            "Requirement already satisfied: threadpoolctl>=2.0.0 in /usr/local/lib/python3.10/dist-packages (from scikit-learn->sentence-transformers) (3.3.0)\n",
            "Requirement already satisfied: sniffio>=1.1 in /usr/local/lib/python3.10/dist-packages (from anyio<5,>=3->langchain-core<0.2,>=0.1.29->langchain) (1.3.1)\n",
            "Requirement already satisfied: exceptiongroup in /usr/local/lib/python3.10/dist-packages (from anyio<5,>=3->langchain-core<0.2,>=0.1.29->langchain) (1.2.0)\n",
            "Requirement already satisfied: cachetools<6.0,>=2.0.0 in /usr/local/lib/python3.10/dist-packages (from google-auth>=1.0.1->kubernetes>=28.1.0->chromadb) (5.3.3)\n",
            "Requirement already satisfied: pyasn1-modules>=0.2.1 in /usr/local/lib/python3.10/dist-packages (from google-auth>=1.0.1->kubernetes>=28.1.0->chromadb) (0.3.0)\n",
            "Requirement already satisfied: rsa<5,>=3.1.4 in /usr/local/lib/python3.10/dist-packages (from google-auth>=1.0.1->kubernetes>=28.1.0->chromadb) (4.9)\n",
            "Requirement already satisfied: zipp>=0.5 in /usr/local/lib/python3.10/dist-packages (from importlib-metadata<7.0,>=6.0->opentelemetry-api>=1.2.0->chromadb) (3.17.0)\n",
            "Collecting mypy-extensions>=0.3.0 (from typing-inspect<1,>=0.4.0->dataclasses-json<0.7,>=0.5.7->langchain)\n",
            "  Downloading mypy_extensions-1.0.0-py3-none-any.whl (4.7 kB)\n",
            "Collecting humanfriendly>=9.1 (from coloredlogs->onnxruntime>=1.14.1->chromadb)\n",
            "  Downloading humanfriendly-10.0-py2.py3-none-any.whl (86 kB)\n",
            "\u001b[2K     \u001b[90m━━━━━━━━━━━━━━━━━━━━━━━━━━━━━━━━━━━━━━━━\u001b[0m \u001b[32m86.8/86.8 kB\u001b[0m \u001b[31m13.0 MB/s\u001b[0m eta \u001b[36m0:00:00\u001b[0m\n",
            "\u001b[?25hRequirement already satisfied: mpmath>=0.19 in /usr/local/lib/python3.10/dist-packages (from sympy->onnxruntime>=1.14.1->chromadb) (1.3.0)\n",
            "Requirement already satisfied: pyasn1<0.6.0,>=0.4.6 in /usr/local/lib/python3.10/dist-packages (from pyasn1-modules>=0.2.1->google-auth>=1.0.1->kubernetes>=28.1.0->chromadb) (0.5.1)\n",
            "Building wheels for collected packages: llama-cpp-python, pypika\n",
            "  Building wheel for llama-cpp-python (pyproject.toml) ... \u001b[?25l\u001b[?25hdone\n",
            "  Created wheel for llama-cpp-python: filename=llama_cpp_python-0.2.55-cp310-cp310-manylinux_2_35_x86_64.whl size=2783063 sha256=c8b1e3077df5a28876aa9c9580448d6c0989cdb5cb01cdc541c90b2d6e659d6c\n",
            "  Stored in directory: /root/.cache/pip/wheels/35/c9/bb/019dbfeef119ab5c29f76574b76070afa7b7755ccfbb3ee226\n",
            "  Building wheel for pypika (pyproject.toml) ... \u001b[?25l\u001b[?25hdone\n",
            "  Created wheel for pypika: filename=PyPika-0.48.9-py2.py3-none-any.whl size=53723 sha256=41bf98d6d4883f6cbd52c8002d0732f594e320686349f6a5e7e51ebc22456dcc\n",
            "  Stored in directory: /root/.cache/pip/wheels/e1/26/51/d0bffb3d2fd82256676d7ad3003faea3bd6dddc9577af665f4\n",
            "Successfully built llama-cpp-python pypika\n",
            "Installing collected packages: pypika, monotonic, mmh3, websockets, uvloop, python-dotenv, pypdf, pulsar-client, overrides, orjson, opentelemetry-util-http, opentelemetry-semantic-conventions, opentelemetry-proto, mypy-extensions, marshmallow, jsonpointer, importlib-metadata, humanfriendly, httptools, h11, diskcache, deprecated, chroma-hnswlib, bcrypt, backoff, asgiref, watchfiles, uvicorn, typing-inspect, starlette, posthog, opentelemetry-exporter-otlp-proto-common, opentelemetry-api, llama-cpp-python, jsonpatch, coloredlogs, opentelemetry-sdk, opentelemetry-instrumentation, onnxruntime, langsmith, kubernetes, fastapi, dataclasses-json, opentelemetry-instrumentation-asgi, opentelemetry-exporter-otlp-proto-grpc, langchain-core, sentence-transformers, opentelemetry-instrumentation-fastapi, langchain-text-splitters, langchain_community, langchain, chromadb\n",
            "  Attempting uninstall: importlib-metadata\n",
            "    Found existing installation: importlib-metadata 7.0.1\n",
            "    Uninstalling importlib-metadata-7.0.1:\n",
            "      Successfully uninstalled importlib-metadata-7.0.1\n",
            "Successfully installed asgiref-3.7.2 backoff-2.2.1 bcrypt-4.1.2 chroma-hnswlib-0.7.3 chromadb-0.4.24 coloredlogs-15.0.1 dataclasses-json-0.6.4 deprecated-1.2.14 diskcache-5.6.3 fastapi-0.110.0 h11-0.14.0 httptools-0.6.1 humanfriendly-10.0 importlib-metadata-6.11.0 jsonpatch-1.33 jsonpointer-2.4 kubernetes-29.0.0 langchain-0.1.11 langchain-core-0.1.29 langchain-text-splitters-0.0.1 langchain_community-0.0.25 langsmith-0.1.22 llama-cpp-python-0.2.55 marshmallow-3.21.1 mmh3-4.1.0 monotonic-1.6 mypy-extensions-1.0.0 onnxruntime-1.17.1 opentelemetry-api-1.23.0 opentelemetry-exporter-otlp-proto-common-1.23.0 opentelemetry-exporter-otlp-proto-grpc-1.23.0 opentelemetry-instrumentation-0.44b0 opentelemetry-instrumentation-asgi-0.44b0 opentelemetry-instrumentation-fastapi-0.44b0 opentelemetry-proto-1.23.0 opentelemetry-sdk-1.23.0 opentelemetry-semantic-conventions-0.44b0 opentelemetry-util-http-0.44b0 orjson-3.9.15 overrides-7.7.0 posthog-3.5.0 pulsar-client-3.4.0 pypdf-4.1.0 pypika-0.48.9 python-dotenv-1.0.1 sentence-transformers-2.5.1 starlette-0.36.3 typing-inspect-0.9.0 uvicorn-0.27.1 uvloop-0.19.0 watchfiles-0.21.0 websockets-12.0\n"
          ]
        }
      ],
      "source": [
        "!pip install langchain sentence-transformers chromadb llama-cpp-python langchain_community pypdf"
      ]
    },
    {
      "cell_type": "markdown",
      "source": [
        "**Import Libraries**\n",
        "\n",
        "\n"
      ],
      "metadata": {
        "id": "m4lpiCFQ7npy"
      }
    },
    {
      "cell_type": "code",
      "source": [
        "from langchain_community.document_loaders import PyPDFDirectoryLoader\n",
        "from langchain.text_splitter import CharacterTextSplitter,RecursiveCharacterTextSplitter\n",
        "from langchain_community.embeddings import HuggingFaceEmbeddings\n",
        "from langchain.vectorstores import FAISS, Chroma\n",
        "from langchain_community.llms import LlamaCpp\n",
        "from langchain.chains import RetrievalQA, LLMChain"
      ],
      "metadata": {
        "id": "vAjytesHMeyS"
      },
      "execution_count": 2,
      "outputs": []
    },
    {
      "cell_type": "code",
      "source": [
        "import pathlib\n",
        "import textwrap\n",
        "from IPython.display import display\n",
        "from IPython.display import Markdown\n",
        "\n",
        "\n",
        "\n",
        "def to_markdown(text):\n",
        "  text = text.replace('•', '  *')\n",
        "  return Markdown(textwrap.indent(text, '> ', predicate=lambda _: True))"
      ],
      "metadata": {
        "id": "jb_450OxNN80"
      },
      "execution_count": 3,
      "outputs": []
    },
    {
      "cell_type": "code",
      "source": [
        "# Used to securely store your API key\n",
        "from google.colab import userdata"
      ],
      "metadata": {
        "id": "U1j_WfUTNSl3"
      },
      "execution_count": 4,
      "outputs": []
    },
    {
      "cell_type": "code",
      "source": [
        "import os\n",
        "from getpass import getpass\n",
        "\n",
        "HUGGINGFACEHUB_API_TOKEN = userdata.get(\"HUGGINGFACEHUB_API_TOKEN\")\n",
        "os.environ[\"HUGGINGFACEHUB_API_TOKEN\"] = \"HUGGINGFACEHUB_API_TOKEN\""
      ],
      "metadata": {
        "id": "yeXffBWAOwS0"
      },
      "execution_count": 5,
      "outputs": []
    },
    {
      "cell_type": "markdown",
      "source": [
        "**Import Document**"
      ],
      "metadata": {
        "id": "7K-BRRGu8A_i"
      }
    },
    {
      "cell_type": "code",
      "source": [
        "loader = PyPDFDirectoryLoader(\"/content/sample_data/Data\")\n",
        "docs = loader.load()"
      ],
      "metadata": {
        "id": "0VeN8aepO4W3"
      },
      "execution_count": 6,
      "outputs": []
    },
    {
      "cell_type": "code",
      "source": [
        "docs"
      ],
      "metadata": {
        "colab": {
          "base_uri": "https://localhost:8080/"
        },
        "id": "Xo91aglCRSdl",
        "outputId": "5a1a3571-bd8f-4eff-a677-2221c011ea16"
      },
      "execution_count": 7,
      "outputs": [
        {
          "output_type": "execute_result",
          "data": {
            "text/plain": [
              "[Document(page_content=' \\n \\n \\n \\n \\n \\n \\n \\n \\n \\n \\n \\n \\n \\n \\n \\nTHE ROYAL  MARINES  \\n \\n \\n \\nCricket  \\n', metadata={'source': '/content/sample_data/Data/cricketdata.pdf', 'page': 0}),\n",
              " Document(page_content=' \\n  \\n \\n \\n \\n \\n \\n \\n \\n \\n \\n \\n \\nCONTENTS  \\n \\nStudent  Notes  Teacher  Notes  \\n \\n \\nPrepared  for The Royal  Navy  in Association  with The National  Cricket  \\nAssociation  and produced  by Education  & Youth  Ltd, London.  \\nIf there is any support you feel The Royal Navy can give regarding this  \\nproject  please  contact  0870  333 0423.  \\n \\n \\nAcknowledgements  \\nThese  notes  have been  compiled  by Bob Carter  – National  Coach,  \\n(Coach  Education)  The National  Cricket  Association  \\nTechnical  Editor:  P Edwards  M.A. MESSAGE  FROM  THE NATIONAL  CRICKET  ASSOCIATION  3 \\nINTRODUCTION  TO THE MODULE  3 \\nSKILLS  DEVELOPMENT  SHEET  4 \\nUNIT  1 INTRODUCTION  TO CRICKET  MODULE  5 \\nUNIT  2 TECHNIQUES  AND SKILLS  6 \\n 1 FIELDING  6 \\n 2 BOWLING  9 \\n 3 BATTING  14 \\n 4 WICKET  KEEPING  22 \\nUNIT  3 TACTICS  AND FIELD  PLACEMENT  25 \\nUNIT  4 UMPIRING  28 \\nUNIT  5 PHYSICAL  CONDITIONING  FOR CRICKET  30 \\nUNIT  6 HISTORY  OF CRICKET  34 \\nUNIT  7 THE COMPETITIVE  STRUCTURE  OF THE SPORT.  35 \\nUNIT  8 USEFUL  INFORMATION  36 \\n ', metadata={'source': '/content/sample_data/Data/cricketdata.pdf', 'page': 1}),\n",
              " Document(page_content=' \\n  \\n \\n \\n \\n \\n \\n \\n \\n \\n \\n \\n \\n \\n \\n \\n \\n \\n \\n \\n \\n \\n \\n \\n \\n \\n \\nModule  Objectives:  Message  from The National  Cricket  Association  \\nThe National Cricket Association, founded in 1968 has several  \\nobjectives,  two of which  are especially  relevant  with reference  to this \\npublication.  \\nThey  are as follows:  \\n- to encourage  the playing  of cricket  in accordance  with the Laws  of \\nCricket  and in the best traditions  of Sportsmanship;  \\n- to administer a coaching  scheme on a national  basis on behalf of  \\nthe Cricket  Council.  \\nThe National Coaching Scheme is highly regarded by all cricketing  \\nnations as being in the vanguard of educational and coaching methods  \\nat all levels.  Additionally,  two separate  Proficiency Award  tests are run \\nand administered  by the NCA for primary  and secondary  school  \\nchildren.  \\nThis instruction  booklet  is intended  as a basic  guide  to students  in \\nsecondary schools wishing to follow the basic GCSE  or equivalent  \\ncourse  as set out in the syllabi  by the various  examining  boards.  \\nHowever,  anyone  wishing  to delve  deeper  into this subject  should  \\nconsult  the list of books  for recommended  reading,  or if over the age \\nof 18, consider  enrolling  on a locally  run Coaching  Award  Course.  \\nFurther information on the latest educational and coaching ideas are  \\npublished  in ‘Cricket  Coach’,  the journal  of the Association  of Cricket  \\nCoaches,  or in ‘Cricket  World’,  an independent  publication  which  \\nprovides  a forum  for NCA official  policy  and news.  \\n \\nIntroduction  to the Module  \\nMethod:  \\nAfter completing  the Module  students  should  be able: \\n- to understand  the basic  principles  of the skills of the game,  \\ntactics,  field placement  and umpiring  signals  \\n- to apply  this knowledge  to improve  their performance  and \\nenjoyment  in both practice  and the game  \\n- to discuss  the development  of the game  in recent  times.  Teachers  should  provide:  \\n- encouragement,  support  and motivation  to students  studying  this \\nmodule  \\n- access  to facilities  for practice  and also suitable  for the game  \\nbearing  in mind  the ability  of the players  \\n- the opportunity  for students  to discuss  and study  any topics  not \\nfully covered in the module due to lack of space, e.g. advanced  \\ntechniques,  the Laws  etc. ', metadata={'source': '/content/sample_data/Data/cricketdata.pdf', 'page': 2}),\n",
              " Document(page_content=' \\n Skills  Development  Sheet  \\n \\nThe beginning stage of learning cricket is the exploratory phase, where  \\nthe player  is attempting  to learn  the correct  sequence  of movements  \\nof all the basic skills e.g. Batting, bowling, fielding. A number of  \\nerrors  may be made  and players  will require  feedback  to recognise  \\nand correct  these  errors.  \\nDuring  the intermediate  stage  a player  will perform  more  consistently.  \\nTiming  and anticipation  will improve,  although  skills may break  down  \\nunder  the pressure  of a game  situation.  \\nAt the advanced stage all the basic skills are automatic and a player  \\nwill concentrate on more detailed aspects of the skill and the tactics  \\nrequired  in the game  eg. Position  of fielders.  \\n \\n \\n \\n \\nName  of Module  Cricket  \\nBasic Skills  Fielding,  bowling,  batting,  wicket  keeping  (pages  6-24) \\nGame -play Skills Good  basic  skills,  techniques.  A good  understanding  of the basic  principles  \\nand tactics.  Ability  to vary strokes  and bowling  techniques.  Demonstrates  \\ngood  concentration  and alertness  in the field (pages  6-24) \\nTactical Skills  Bowling:  Encouraging  dangerous  strokes.  Varying  pace,  flight,  length,  \\nspin and width  of crease.  \\nBatsmen:  Judgement  and decision  making;  looking  for gaps in the \\nfield; noting  ability  of fielders  and exploiting  weaknesses.  \\nFielders:  Placing  to \\n1) Catch  batters  \\n2) Stop runs.  Adjusting  field according  to batter  (pages  25-27) \\nTraining  Skills Aerobic  endurance, anaerobic endurance,  flexibility (pages 30 -33) \\nRules  “The Laws  of Cricket”  can be obtained  from the MCC.  Address  page  36. ', metadata={'source': '/content/sample_data/Data/cricketdata.pdf', 'page': 3}),\n",
              " Document(page_content=' \\n UNIT  1 \\nIntroduction  to Cricket Module  \\nCricket  is a game  steeped  in tradition,  in which  it is often  how you play \\nthe game  that is as important  as winning.  The expression  “That’s  not \\ncricket”  embodied  the ideal of “fair play” and good  sportsmanship  \\nwhich  teachers  and coaches  should endeavour  to foster at  all levels.  \\nThere are may different levels of the game ranging from the Five Day  \\nTest Match,  the afternoon  club match,  the indoor  six a side adults,  \\nKwik Cricket, Cricket Pairs game played by 10 year olds to the  \\nsimplest single wicket game of one bowler and one batsman. Each  \\nrequire  different  degrees  of ability,  fitness,  skills  and commitment.  \\nEarly exposure  to the  skills required  is a great help  in the  making of  a \\nsuccessful player, though some players have turned to the game at a  \\nlater age and achieved  a good  standard.  \\nLearning  the skills can be a very enjoyable  experience  with a great  deal \\nof physical  activity  involved.  It is also possible  to structure  the skill \\nlearning  so that simple  competitions  and small  sided  games  prevent  \\nthe practices  from becoming  boring.  They  also provide  opportunities  \\nof introducing  to beginners,  in stages,  small  sections  of the 42 Laws  \\ngoverning  the playing  of the adult  game.  \\nThe material  covered  in this book does not relate  to any specific  \\nExamination  Board’s  syllabus,  but is intended  to provide  a basic  \\nresource which should be supported and supplemented by reference  \\nto the texts listed  in Recommended  Reading.  ', metadata={'source': '/content/sample_data/Data/cricketdata.pdf', 'page': 4}),\n",
              " Document(page_content=' \\n UNIT  2 \\nTechniques  and Skills  \\nIn order  to play cricket  to examination  level,  students  should  have a \\ngood  practical  and theoretical  grasp  of the 4 major  activities  of the \\ngame:  \\n• Fielding  \\n• Bowling  \\n• Batting  \\n• Wicket  keeping  \\n \\n1 Fielding  \\nEssentially  this involves  catching  and throwing  in a variety  of \\ncircumstances  both static  or on the move.  \\nCATCHING  \\nThe High Catch  \\nObjective:  To catch  a ball which  is dropping  quickly.  \\nMethod:  Sight  the ball. \\nMove  quickly  to where  it will come  down.  \\nStand still with hands up above eye level and palms facing  \\nball, fingers  spread  out, little fingers  touching.  \\nHands “give” as ball is caught.  \\nFinish  close  to chest  (see Figure  1). \\n \\nThe Skim  Catch  \\nObjective:  Primarily  to catch  a flat trajectory  ball arriving  about  head  \\nhigh.  \\nMethod:  Sight  the ball, palms  facing  ball, fingers  pointing  upwards,  \\nthumbs  touching.  \\nHands  give as ball is caught.  \\nIf ball is caught  directly  in front of head,  move  head  to side \\nas hands  give (see Figure  2).  \\n \\nFigure  1 \\n \\nFigure  2 \\n', metadata={'source': '/content/sample_data/Data/cricketdata.pdf', 'page': 5}),\n",
              " Document(page_content=' \\n The Close  Catch  \\nObjective:  Primarily  to deal with catches  close  to the wicket.  \\nMethod:  Eyes level. \\nHead still.  \\nPalms  facing  anticipated  line of ball. \\nFingers  pointing  down,  elbows  clear of body.  \\nWeight  on balls of feet. \\nHands  give as ball is caught  (see Figure  3). \\n \\n \\n \\n \\n \\n \\n \\n \\n \\n \\n \\nFigure  3 \\n \\nINTERCEPTING  AND RETURNING  \\nThe Long  Barrier  and Throw  \\nObjective:  The long barrier is used to ensure  \\nthe ball is stopped.  \\nMethod:  Head  on line of ball.  \\nLeft knee on ground,  overlapping  \\nright heel.  \\nPalms  facing  ball, fingers  pointing  \\ndown.  \\nHolding  ball in right hand,  stand  up taking  a \\npace  towards  target  with left foot. \\nAim with left arm. \\nWeight  on back foot which  is at right angles  to \\nline of throw.  \\nThrow  ball; follow -through  over left leg with \\nright arm and right leg (see Figure  4). \\nFigure  4 \\n', metadata={'source': '/content/sample_data/Data/cricketdata.pdf', 'page': 6}),\n",
              " Document(page_content=' \\nCHASING  AND RETRIEVING  \\nThe Short  Throw  \\nObjective:  Run inside  line of ball to enable  right foot to land beside  it. \\nMethod:  Weight  well back.  Head  over right knee,  left foot trailing.  \\nPick ball up. \\nTurn to left into throwing  position.  \\nAim and throw  without  further  steps  (see Figure  5). \\n(If the ball is moving  quickly  it may be necessary  to take \\nseveral  braking  strides  before  turning  and throwing.)  \\n \\n \\n \\n \\n \\n \\n \\n \\n \\n \\n \\nThe Long  Throw  \\nObjective:  To retrieve  a ball after picking  up near \\nthe boundary.  \\nMethod:  Ensure  left foot is forward  alongside  \\nball. \\nBend  down  keeping  seat well back.  \\nPick ball up. \\nPush  hard on left foot. \\nTurn to left, fling left arm into aiming  \\nposition  and throw  (see Figure  6). \\n \\n \\n \\n \\n \\n \\n \\n \\n \\nThrowing  on the Turn \\nNB This is an advanced  technique,  used to prevent  \\nruns,  or to secure  a run out. \\nMethod:  Run inside  line of ball. \\nPick up ball alongside  right foot. \\nStep onto left foot. \\nJump, turning in the air.  \\nAim at target  with left arm. \\nThrow  while  still in the air (see Figure  7).  \\n \\n \\nFigure  5 \\n \\n \\n \\n \\n \\n \\n \\n \\n \\n \\n \\n \\n \\n \\n \\n \\n \\n \\n \\n \\n \\nFigure  6 \\n \\n \\n \\n \\nFigure  7 \\n', metadata={'source': '/content/sample_data/Data/cricketdata.pdf', 'page': 7}),\n",
              " Document(page_content=' \\n \\n \\n2 Bowling  \\nThe first  essential  of effective  \\nbowling is that the student  \\nadopts  the correct  grip (see \\nFigure  8). \\nTHE BASIC  GRIP \\nMethod:  Seam  vertical.  \\nThumb on  edge  of \\nseam; first two  \\nfingers  slightly  apart;  \\nthird finger  bent and \\nsupporting  ball (see \\nFigure  8). \\nHaving achieved this, the whole  \\nskill should  be introduced  in a \\nsimplified form, using the  \\nfollowing  steps.  \\n \\nFigure  8 \\n \\nStep 1 \\nBowling  from the Coil Position  \\nObjective:  To introduce  the bowling  action  to beginners.  \\nMethod:  Raise  front arm. Look over shoulder.  Bowling  hand  across  \\nchest.  \\nLean  back.  Lift front knee.  Arch back slightly.  Look down  \\nintended  line of delivery.  \\nSwing  bowling  arm downwards  and then backwards.  \\nSwing front arm forwards. Stamp down with front foot.  \\nContinue  rotation  of arms.  Keep  front arm close  to body.  \\nStraighten  front leg. Keep  head  upright.  Release  ball as arm \\npasses  head.  Keep  hand  behind  ball. \\nSwing  front arm high behind  body.  Follow -through  with \\nbowling  arm across  body.  Bring  back leg through,  bent and \\nclose  to other  leg. Bowling  shoulder  points  to target.  \\nFollow -through  by taking  steps  forward  (see Figure  9). \\n \\nFigure  9  \\nGeneral  points  for fielders  \\nExpect  every  ball to come  to you but do not anticipate  its line, If not fielding  the ball, back up at either  end to reduce  \\nheight or  speed.  the chance  of over-throws.  \\nAll fielders  except  close  catchers  should  be moving  in towards  If you are close  to the bowler’s  wicket  and he cannot  get \\nthe striker  as the bowler  delivers  the ball. back  to it, move  to it to take the return.  \\nSlips,  leg slip and wicketkeeper  can watch  the ball from the Concentrate  all the time, keeping  an eye on your captain  \\nbowler’s  hand;  others  watch  the bat. who may wish to move  you. \\nSight  the ball before  moving  off in a particular  direction;  then If there is a possibility of two fielders colliding when  \\nmove  quickly.  going  for the same  ball the nearest  should  call ‘mine’  or \\nWhenever  possible use two  hands and get  some part of  the body  the captain  should  shout  the name  of the player  who is \\nbehind  the ball unless  this action  would  prevent  a run out. to field the ball. \\nHaving  fielded  a ball, throw  it immediately  to the wicketkeeper  or, On cold days keep your muscles and hands warm to  \\nif there  is a chance  of a run out, at the stumps.  prevent  injury  and to be ready  for instant  action.  ', metadata={'source': '/content/sample_data/Data/cricketdata.pdf', 'page': 8}),\n",
              " Document(page_content=' \\n \\nnd \\nFigure  10 \\ne \\nFigure  11 \\nStep 2 \\nRun Up and Bound  \\nMethod:  Concentrate on  line of delivery.  \\nSmooth rhythmical approach.  \\nAccelerate  gradually.  Control  speed.  \\nBound  (spring)  off left foot. Raise  both arms.  Turn 90\\uf0b0 in \\nair. \\nLand  in coil position  leaning  back from batsman.  \\nRepeat  bowling  action.  \\nPractise  bowling  with a smooth  and economical  run-up a \\neasy rhythmical  well balanced  delivery,  finishing  with a \\ndeliberate  and fluent  follow -through  (see Figure  10). \\nOnce  players  have mastered  these  steps  they should  be ready  to \\nprogress  to more  complex  skills  using  swing  and spin. \\n \\n \\nTHE OUTSWING  OR AWAY  SWING  \\nNB To do this it is essential  that the ball used has a good  seam.  \\n \\nThe Grip \\nMethod:  Seam  vertical  but pointing  at slips. \\nSide of thumb  on centre  seam.  First two fingers  either  sid \\nof seam.  \\nPolished  side of ball to leg side  (see Figure 11).  \\n \\n \\n \\n \\n \\n \\n \\n \\n \\n \\nThe Action  \\nMethod:  Bowl from close  to stumps.  \\nLook over front shoulder  behind  \\nfront arm. \\nBack  foot parallel  with crease.  \\nFront  foot lands  to leg side of \\nback  foot. \\nHigh delivery,  hand behind  ball. \\nEmphasise  good  follow -through  \\nof bowling arm and shoulder  \\n(see Figure  12). \\n \\n \\n \\n \\n \\n \\nFigure  12 ', metadata={'source': '/content/sample_data/Data/cricketdata.pdf', 'page': 9}),\n",
              " Document(page_content=' \\n \\nTHE IN-SWING  \\nThe Grip \\nMethod : Hold the ball with the polished  side \\non the off side. \\nSeam  vertical  but pointing  to leg \\nside. \\nBall of thumb  against  seam.  \\nFirst two fingers  close  together  on \\nseam  (see Figure  13). \\n \\nThe Action  \\nMethod:  Bowl from wider  position  on crease.  \\nOpen  coil - more  chest  on. \\nLook inside arm. Back foot points  \\ndown  pitch.  \\nFront foot in line with or outside  \\nback foot. High bowling arm on  \\nrelease.  \\nFeel as though pushing ball to  \\nlegside.  \\nBowling arm does not follow - \\nthrough across body (see Figure  \\n14). \\n \\nFigure  13 \\n \\n \\n \\nFigure  14 ', metadata={'source': '/content/sample_data/Data/cricketdata.pdf', 'page': 10}),\n",
              " Document(page_content=' \\n \\nOFF SPIN  AND LEFT  ARM ORTHODOX  \\nSPIN  (FINGER  SPIN)  \\nNB An off break spins the ball from off to  \\nleg, rotating  clockwise  from the bowler.  The \\nleft arm spinner  moves  the ball from leg to \\noff. \\nThe Grip \\nMethod:  Hold ball in between  first and \\nsecond  fingers.  \\nSeam at right angles to the  \\nfingers.  \\nTop joints  across  seam.  \\nKnuckles  of first finger  and \\nsecond  finger  grip seam.  \\nDo not use thumb  to hold ball \\n(see Figure  15). \\n \\n \\n \\n \\n \\n \\n \\n \\n \\nFigure  15 \\n \\n \\n \\n \\n \\n \\n \\n \\nFigure  16 The Action  \\nMethod:  Shortish  run up. \\nGood  coil position;  look behind  \\narm. Short  delivery  stride.  \\nFront  foot slightly  across  to leg \\nside. \\nHigh delivery,  head  up. \\nPivot  on ball of front foot. \\nTwist  hand  clockwise.  \\nFlick ball with first finger.  \\nPull bowling  arm across  the \\nbody.  \\nSpin ball clockwise  by turning  \\nhand  upwards.  \\nFinish  with palm upwards  (see \\nFigure  16). \\n', metadata={'source': '/content/sample_data/Data/cricketdata.pdf', 'page': 11}),\n",
              " Document(page_content=' \\n \\nLEG SPIN  OR CHINAMAN  \\nNB A legbreak  spins  from leg to off, rotating  anti-clockwise  from \\nbowler.  A left arm wrist spinner  rotates  the ball clockwise  and is said \\nto bowl ‘Chinamen’.  \\nThe Grip \\nMethod:  Seam  at right angles  to fingers.  \\nFirst two fingers  spread;  first joints  on seam.  \\nThird  finger  bent along  seam (see  Figure  17). \\n \\n \\n \\n \\n \\n \\nFigure  17 \\n \\nThe Action  \\nMethod:  Shortish  run up. \\nGood  coil position.  \\nLook over shoulder.  \\nWrist  bent in towards  forearm.  \\nPlace  front foot to leg side of back \\nfoot. \\nKeep head up.  \\nHigh delivery.  \\nHold wrist back.  \\nPivot  around  front foot. \\nFlick wrist forward.  \\nPull down  with first finger.  \\nStraighten  third finger.  \\nFlick third finger  straight  as ball is \\nreleased.  \\nContinue across body, palm  \\ndownwards  (see Figure 18).  \\n \\n \\n \\n \\n \\n \\n \\n \\n \\n \\n \\nFigure  18 \\nCUTTERS  – FLOATER  – GOOGLY  \\nWithin a work of this size, it is impossible to cover the  \\nadvanced stages  of bowling,  although it  is acknowledged  \\nthat some GCSE or equivalent syllabi demand that these  \\nare included.  Further  information  regarding  these  skills is \\nto be found by reference to the texts listed in  \\nRecommended  Reading.  ', metadata={'source': '/content/sample_data/Data/cricketdata.pdf', 'page': 12}),\n",
              " Document(page_content=' \\n \\n3 Batting  \\nPlease  note,  throughout  the module  “batsman”  also refers  to \\n“batswoman”.  \\nBatting in cricket is probably the most popular of all skills. Firstly, it  \\nallows  the player to score,  and secondly  he has the full attention  of not \\nonly both teams,  but also the spectators.  \\nWhen teaching  batting it  is essential that  staff exercise  great  care in  \\nselecting  the surface  on which  the skill is performed.  At school  level \\nthis is often  a factor  over which  neither  staff nor students  have any \\ncontrol.  Nevertheless,  staff should  remain  on the side of caution  and \\non bad pitches  certain  strokes  should  not be taught.  It is accepted  that \\nat least  one Examining  Board  includes  the hook within  the syllabus.  \\nThe National Cricket Association (NCA) does not recommend that this  \\nstroke  be taught  to inexperienced  players,  particularly  if the pitch is \\nsuspect.  For this reason  the hook and other  advanced  skills (lofted  \\nshots,  the sweep  and the late cut) are omitted  from this text. \\n \\n \\n \\nBATTING  SKILLS  – THE BASIC  ELEMENTS  \\nThe Grip \\nMethod:  Hands  close  together  towards  top of handle.  \\nTop hand  gripping  very firmly.  \\nFingers and  thumbs of  both hands  around handle.  \\nV’s formed by thumb and forefinger are in line  \\napproximately half way between splice and outside edge of  \\nbat (see Figure  19). \\nThe Stance  \\nMethod:  Feet slightly  apart.  \\nKnees  slightly  flexed,  weight  evenly  distributed  on balls of \\nfeet – not heels.  \\nEyes  level and square  to line of delivery.  \\nToe of bat on ground  (see Figure 20).  \\n \\n \\n \\nTHE BACKLIFT  \\nMethod:  Front  shoulder  and elbow  pointing  to bowler.  \\nBat raised  but pushed  back over middle -stump.  \\nHead  still. \\nOpen  face of bat to point.  \\nTop forearm  roughly  parallel  with ground.  \\nBack  elbow  away  from body.  \\nNo movement  of body backwards  or forwards  until \\nselection  of stroke  to be played  is made  (see Figure  21).  \\n \\n \\nFigure  19 \\n \\n \\n \\n \\n \\n \\n \\n \\n \\n \\n \\n \\n \\n \\n \\n \\n \\n \\n \\n \\n \\nFigure  20 \\n \\n \\n \\n \\n \\n \\n \\n \\n \\n \\n \\n \\n \\n \\n \\n \\n \\nFigure  21 \\n', metadata={'source': '/content/sample_data/Data/cricketdata.pdf', 'page': 13}),\n",
              " Document(page_content=' \\n THE BASIC  SHOTS  \\nThe Pull \\nThis stroke  is played  to a short  pitched  ball bouncing  between  knee \\nand chest height as it arrives at  the batsman. This is known as a  long \\nhop. \\nWhen  learning  strokes,  a firm level surface  is required  in order  to \\nachieve an even predictable bounce from a tennis ball. Extreme care  \\nmust be taken  to ensure  that no batsman  will hit a ball into an area \\nwhere  others  are working.  Sufficient  space  must be allowed  so that \\nindividual  batsmen  do not strike  any person  from another  group  with \\nthe bat. No fielder is allowed nearer than 10 paces from the batsman.  \\nIf practising  inside,  the batsman  can strike  the ball towards  a wall and \\nthe fielders  can intercept  the ball on the rebound  from the wall at a \\nposition  nearer  the striker but on the opposite  side from the direction  \\nin which  the ball was struck.  \\n \\nMethod:  Start with high back \\nlift. \\nStep back and  \\nacross,  with both feet \\nsquare  to the wicket.  \\nFix eyes on ball and \\nkeep head still and  \\nforward  of body.  \\nHit ball at arm’s  \\nlength  in line with \\nbody.  \\nAim to hit ball in front \\nof square -leg and  \\ndownwards.  \\nTransfer weight from  \\nback to front leg (see  \\nFigure  22). \\n \\n \\n \\n \\nHitting  a Full Toss  to Leg \\nObjective:  To play a ball which  \\ndoes not bounce before  \\narriving  at the batsman.  \\nMethod:  High backlift.  \\nLean  forward,  head  and \\nfront shoulder  leading  \\non to line of ball. \\nFix eyes on ball. \\nHit ball downwards at  \\narm’s  length.  \\nAim in front of square - \\nleg. \\nWeight  on front leg. \\nKeep looking at place  \\nwhere contact  was \\nmade in order to keep  \\nhead  still and maintain  \\nbalance (see Figure  \\n23). \\nFigure  22 \\nFigure  23 ', metadata={'source': '/content/sample_data/Data/cricketdata.pdf', 'page': 14}),\n",
              " Document(page_content=' \\n \\nBack  Defensive  Stroke  \\nObjective:  This stroke  is played  to a ball pitching  short  and \\nbouncing  knee  high or above.  \\nMethod:  High back lift. \\nStep back and across  towards  off side if ball is on off \\nstump.  \\nBack  foot parallel  with crease.  \\nBack  of front shoulder  turned  slightly.  \\nHead  on line of delivery.  \\nWeight on back foot.  \\nBalance of  body forward.  \\nFront  foot brought  back naturally.  \\nRelax  bottom  hand  to finger  and thumb  grip. \\nTop hand  in control.  \\nBall is played  under  head.  \\nBat vertical  but angled  downwards  so that ball is not \\nplayed  upwards  (see Figure  24).  \\n \\n \\n \\n \\n \\n \\nFigure  24 \\n \\n \\n \\n \\n \\nThe Forward  Defence  Stroke  \\nObjective:  To prevent  a good  length  ball from hitting  the wicket.  \\nThe ball should  not bounce  as high as the knee.  \\nMethod:  From  a good  straight  backlift  lead with head  and front \\nshoulder  onto the line of the ball. \\nTop hand  in control.  \\nRelax  bottom  hand  to thumb  and finger  grip. \\nFront  leg close  to line of ball and bent at knee.  \\nEase back foot onto inside of foot; keep back leg  \\nstraight.  \\nDo not follow -through.  \\nMaintain  a good  balance  by keeping  head  close  to \\nfront shoulder  and over the bat (see Figure  25). \\n \\n \\n \\n \\n \\n \\n \\n \\n \\n \\n \\nFigure  25 \\n', metadata={'source': '/content/sample_data/Data/cricketdata.pdf', 'page': 15}),\n",
              " Document(page_content=' \\n \\nThe Off Drive  \\nObjective:  To play to a half -volley, a ball which pitches  \\nclose to the batsman and does not bounce  \\nvery high.  It will be just on or outside  the off \\nstump.  \\nMethod:  From  a good  high backlift,  lead with head  \\nand front shoulder  onto line of ball. \\nTop hand  in control.  \\nPlay ball under  head close  to bent  front leg.  \\nDo not lift head  after contact.  \\nArms  follow -through  along  line ball was \\nstruck;  top hand  and elbow  high. \\nBack  leg straight;  weight  on front foot. \\nThe wrist can now ‘break’  allowing  the bat \\nto go over the shoulder,  handle  pointing  \\nroughly  in direction  of ball (see Figure  26). \\nThe Straight  Drive  \\nObjective:  To play to a half-volley  which  pitches  \\napproximately  on the line of the middle - \\nstump.  \\nMethod:  In all ways  similar  to off drive but the lead \\nof head  and front shoulder  is straight  down  \\nthe pitch.  \\n \\n \\n \\n \\n \\nFigure  26 \\n \\n \\n \\n \\n \\n \\n \\n \\n \\n \\n \\n \\nThe On Drive  \\nObjective:  This stroke  is played  to a half-volley,  pitching  \\non or just outside  the leg stump.  \\nMethod:  Very similar  to other  drives.  \\nLead  with head  and front shoulder  onto line \\nof ball. \\nDip front shoulder  while  taking  a shorter  \\nstride  than for other  drives.  \\nThrow  hands  and arms  out along  line ball is \\nintended  to be struck.  \\nKeep  head  close  to shoulder.  Top hand  in \\ncontrol  all the time (see Figure  27). \\n \\nFigure  27 ', metadata={'source': '/content/sample_data/Data/cricketdata.pdf', 'page': 16}),\n",
              " Document(page_content=' \\n The Forcing Stroke Off the Back Foot  \\nObjective:  This stroke is played to a ball short of a  \\nlength  outside  the off stump  which  does \\nnot bounce more than about knee height.  \\nMethod:  Essential  to have  a good high  back lift.  \\nStep back and slightly  across  to offside  \\njust inside  the line of ball. \\nBack  foot parallel  to crease.  \\nFront  shoulder  turned  slightly  to off side. \\nWeight  on back foot. \\nHead  down.  \\nControl  downswing  of bat with top hand.  \\nAllow  front leg to move  close  to back leg. \\nJust before  contact  with ball punch  \\nthrough  with bottom  hand.  \\nStop (check)  swing  of bat as shown,  \\nkeeping  a high front elbow.  \\nKeep looking at spot contact was made to  \\nmaintain  balance  and forward  poise  of \\nbody  (see Figure  28). \\n \\n \\n \\n \\n \\n \\nThe Square  Cut \\nObjective:  This stroke  is played  to a short  pitched  \\nball which  passes  wide of the off stump,  \\nideally  about  waist  high.  \\nMethod:  High backlift.  \\nTurn back of front shoulder  to bowler.  \\nStep back and across  to off side with \\nback  foot. \\nHit down  on the ball at arm’s  length.  \\nWatch  ball carefully,  making  contact  as it \\nis level with body.  \\nKeep  head well over back knee as bat \\nfollows  through.  \\nWeight  is on back foot (see  Figure  29). \\nFigure  29 \\nFigure  28 ', metadata={'source': '/content/sample_data/Data/cricketdata.pdf', 'page': 17}),\n",
              " Document(page_content=' \\n The Forward  Leg Glance  \\nObjective:  This stroke is played to a good length or  \\nslightly  over pitched  ball on or outside  \\nthe leg stump.  \\nMethod:  Lead  with head  and front shoulder  onto \\nline of ball. \\nFront  foot lands  in line with ball; top \\nhand  in control.  \\nAngle  face of bat slightly  to leg side. \\nKeep handle further forward than blade  \\nto play ball down.  \\nMaintain a good balance by keeping  \\nhead  over front knee as ball is played  \\nand afterwards.  \\nAllow  wrists  to continue  to turn as bat \\nfollows  through  (see Figure  30). \\n \\n \\n \\n \\nFigure  30 \\n \\n \\nThe Backward  Leg Glance  \\nObjective:  This stroke  is played  to a ball just short  \\nof a length which is missing the leg  \\nstump.  \\nMethod:  Step back,  allowing  back foot to point to \\ncover.  \\nHead  on line of ball.  \\nFront foot  taken back  naturally.  \\nAllow  ball to come  close.  \\nPlay ball down with angled bat, face  \\npointing  to leg side. \\nControl  stroke  with top hand.  \\nWrists  continue  to turn as bat follows  \\nthrough  (see Figure  31). \\n \\n \\n \\n \\n \\n \\n \\n \\n \\n \\nFigure  31 \\n \\nFor details and descriptions of more advanced  \\nstrokes reference should be made to  \\nRecommended  Reading.  \\n', metadata={'source': '/content/sample_data/Data/cricketdata.pdf', 'page': 18}),\n",
              " Document(page_content=' \\n Running  Between  the Wickets  \\nIn order to score in cricket it is  \\nnecessary  for the batsman  to \\nrun between  the wickets.  While  \\nthis may appear blatantly  \\nobvious, there is nevertheless a  \\ndegree of judgement as well as  \\nphysical  skill involved,  and staff \\nare recommended to spend  \\nsome time on this topic within  \\nthe time allotted  to teaching  and \\npractising  batting.  \\nRunning between the wickets  \\ninvolves  5 factors:  \\n(1) Calling  \\n(2) Deciding  who makes  the call \\n(3) Backing  up \\n(4) Making  one’s  ground  \\n(5) Multiple  runs \\nCalling  \\nThere  are three  calls: \\nYes – when there  is definitely a  \\nrun \\nNo – when  there  is no chance  \\nof a run \\nWait – if unsure whether the  \\nfielder can collect the  \\nball \\nWait is always  followed  quickly  \\nby either  yes or no. \\nWhose  Call \\nThis depends on where the ball  \\nhas been  struck.  Generally  if the \\nstriker can see the ball  easily it  \\nis his call. If it has gone  behind  \\nthe striker it would be the non  \\nstriker’s  call (see Figure  32). Either batsman may refuse to  \\nrun if he thinks  he cannot  make  \\nthe run, provided  he does so \\nimmediately.  \\nBacking Up  \\nThe non -striker holds his bat  \\nwith the hand nearest the  \\nbowler. As the bowler  \\ncommences  his delivery,  the non \\nstriker is moving towards his  \\npartner, placing his bat just  \\ninside the popping crease. He  \\nwatches  the bowler  deliver  the ball before leaving the crease  \\nand moving  down  the pitch.  If \\nthe bowler  does not deliver  the \\nball, he is able to remain  within  \\nhis ground because  the bat is  \\ngrounded  behind  the crease.  \\nThe non striker’s duty is to run  \\nclear of the striker so that he  \\ndoes not impede him if the  \\nstriker,  due to the stroke  he has \\nplayed, has to run on the same  \\nside of  the pitch (see Figure  33).  \\n \\n \\n \\n \\n \\n \\n \\n \\n \\n \\n \\n \\n \\n \\n \\n \\n \\n \\n \\n \\n \\n \\n \\n \\n \\n \\n \\n \\n \\n \\n \\n \\n \\n \\n \\nFigure  33 \\n \\n \\n \\n \\n \\n \\n \\n \\n \\n \\n \\n \\n \\n \\n \\n \\n \\n \\n \\nFigure  32 \\n \\n \\n \\n \\n \\n \\n \\n \\n \\nNon striker’s  call \\n', metadata={'source': '/content/sample_data/Data/cricketdata.pdf', 'page': 19}),\n",
              " Document(page_content=' \\n Making  One’s  Ground  \\nAlways  run the first run as fast as \\npossible. Aim to run the bat in  \\nshort  of the popping  crease  so \\nthat it is grounded  as it crosses  \\nthe crease  (see Figure  34). \\nMultiple  Runs  \\nWhen there is a possibility of  \\nmore  than one run, the call is yes, \\nbut as the batsmen pass each  \\nother  they should  quietly  suggest  \\nthe possibility: “Look for two”,  \\n“Could  be three”.  \\nGround the bat in either left or  \\nright hand  so that the turn can be \\nmade facing the direction in  \\nwhich  the ball is being  fielded.  \\nTurn \\nLook – at the fielder to see  \\nwhether there  is another  \\nrun. \\nLook – at the other batsman to  \\nensure  he can run again.  \\nCall – run if yes, stay in ground  \\nif no (see Figure  35).  \\n \\n \\n \\n \\n \\n \\n \\n \\n \\n \\n \\n \\n \\n \\n \\n \\n \\n \\n \\n \\n \\n \\n \\n \\n \\n \\n \\n \\n \\n \\n \\n \\n \\n \\n \\n \\n \\n \\n \\nFigure  35  \\n \\n \\n \\n \\n \\n \\n \\n \\n \\n \\n \\n \\n \\n \\n \\n \\n \\n \\nFigure  34 \\n \\nGeneral  Points  \\nIf both batsmen  start to run it is better  to try and get to the other  end \\nthan to stop and return  to the starting  point.  \\nEnsure the  bat is run in on its  edge  and grounded  behind  the popping  \\ncrease  before  turning  for the next run. \\nBefore  running  for a misfield,  ensure  that the ball has travelled  a \\nsufficient  distance  from the fielder  to allow  a safe run. Having  \\naccepted  a run, do not watch  the ball when  running.  \\n', metadata={'source': '/content/sample_data/Data/cricketdata.pdf', 'page': 20}),\n",
              " Document(page_content=' \\n 4 Wicket  Keeping  \\nThere  are 2 positions  from which  to keep wicket.  \\n• Standing  back from the wicket.  \\n• Standing  up to the wicket.  \\nStanding Back  \\nMethod:  Position where ball can be taken as it drops between waist  \\nand knee  height  after bouncing.  \\nCrouch  to off side of stumps  to get a clear view of ball. \\nRise with bounce  of ball. \\nPalms  facing  ball, little fingers  touching.  \\nHands forward  to give as  ball is taken.  \\nEyes  level;  head  as still as possible  (see Figure  36). \\n \\n \\n \\n \\n \\n \\nFigure  36 \\n \\nStanding  up to the Wicket  – The Stance  \\nMethod:  Squat  down  just wide enough  to obtain  a good  view of ball. \\nSafe distance behind stumps so that no part of keeper or  \\nhis/her equipment breaks back edge of bowling crease as  \\nball is taken.  \\nEyes  level,  weight  on balls of feet. \\nBacks  of fingers  resting  on ground,  palms  facing  \\nbowler(see  Figure  37). \\n \\n \\n \\n \\n \\n \\n \\n \\n \\n \\n \\n \\nFigure  37 \\n', metadata={'source': '/content/sample_data/Data/cricketdata.pdf', 'page': 21}),\n",
              " Document(page_content=' \\n  \\n \\nFigure  38 Standing  Up to the Wicket  – Taking  a Straight  Ball \\nMethod:  Head  and body behind  line of ball. \\nRise with bounce  of ball. \\nFingers  pointing  down.  \\nHands  give and elbows  clear of body as ball is taken.  \\nTransfer  weight  to foot nearest  stumps  to commence  \\nbringing ball towards wicket in case of stumping  \\nopportunity  (see Figure  38). \\n \\n \\n \\n \\n \\n \\n \\n \\n \\n \\n \\nStanding  Up to the Wicket  – Taking  a Wide  Offside  Ball \\nMethod:  Move  quickly  to offside  with outside  foot turned  in. \\nHands on line of ball.  \\nGive with hands.  \\nTransfer  weight  towards  stumps  by pushing  head  towards  \\nthem.  \\nSwing  arms  towards  wicket.  \\nKnock  bails off if batsman  is to be stumped  (see Figure  \\n39). \\n \\n \\n \\n \\nFigure  39 \\n \\n \\n \\n \\n \\n \\n \\nStanding  Up to the Wicket  – Taking  a Legside  Ball \\nMethod:  Sight  and judge  ball from normal  stance.  \\nMove  quickly  to leg side. \\nTransfer  weight  from left foot which  has turned  in slightly,  \\nto right.  \\nTake  ball just outside  line of body.  \\nPush  head  towards  wicket  to assist  swing  of arms  to break  \\nwicket  if necessary  (see Figure  40). \\nFigure  40 \\n', metadata={'source': '/content/sample_data/Data/cricketdata.pdf', 'page': 22}),\n",
              " Document(page_content=' \\n Standing  Up to the Wicket  – Taking  a Rising  Ball \\nMethod:  This applies  to leg and offside.  \\nKeep  gloves  on line of ball. \\nSway  head  and body off the line; allow  gloves  to rise with \\nball. \\nPush  head  towards  stumps  to assist  arm swing  back for \\npossible  stumping  (see Figure  41). \\n \\n \\n \\n \\n \\n \\n \\n \\n \\n \\n \\n \\n \\nFigure  41 \\n \\nTaking  Returns  From  the Field \\nMethod:  Move  quickly  to put the wicket  between  the ball and the \\nwicket  keeper.  \\nWhenever  possible  take the ball on the full toss unless  this \\nwould  mean  missing  the chance  of a run out. \\nAlways try  to take the ball  in the gloves.  Pads are  for \\nprotection  should  the ball be missed;  they are not a front \\nline of defence.  \\nIf a fielder is chasing a ball with his back to the wicket  \\nkeeper it  helps  the fielder  to sight the keeper  as he  turns  if \\na gloved  hand  is held above  the keeper’s  head.  \\nBe prepared  to remove  a glove  in order  to throw  the ball at \\nthe bowler’s  wicket  if a run out is possible  at that end. \\n', metadata={'source': '/content/sample_data/Data/cricketdata.pdf', 'page': 23}),\n",
              " Document(page_content=' \\n UNIT  3 \\nTactics  and Field Placement  \\nIt has not been possible to cover these topics in any detail, and again  \\nteachers  are referred  to more  comprehensive  texts. \\nIn terms of tactics this section has been sub -divided into key points for  \\nconsideration when examining  the tactics  of the game  from the  \\nperspective  of the bowler  and the batsman.  \\nTHE BOWLER  \\nTactics  for Seam  Bowlers  \\nBowl at the wicket  or just outside  off stump.  \\nWhen attempting to swing the ball, aim to pitch the ball close to the  \\nbatsman  to encourage  front foot strokes,  i.e. bowl a full length.  \\nVary length from time to time so that batsman has to think whether to  \\nplay forward  or back.  Bowl the occasional  bouncer.  \\nEncourage dangerous strokes by leaving gaps in  the field and pitching the  \\nball so that it is difficult  to hit the ball into those  gaps.  \\nFrustrate  batsman  by bowling  to avoid  his favourite  strokes,  e.g. keep \\nfront foot players  on the back foot by bowling  shorter  length  balls. \\nDo not bowl too many variations, e.g. outswinger, inswinger, off cutter,  \\nleg cutter. It is difficult to set fields for a great variety of balls. Do vary  \\nyour position  on the crease.  \\nIf one batsman  is poor try to bowl at him most of the time by allowing  the \\nbetter batsman the opportunity of scoring singles early in the over by  \\nsetting  the field deeper.  \\nTowards  the end of an over do not allow  the better  batsman  a single  so \\nthat he faces  the next  over. Bring  the field  in to stop  the single.  \\nTactics  for Spin Bowlers  \\nMuch of the previous section on tactics for seam bowlers applies to spin  \\nbowlers  with the addition  of the following:  \\nIt is essential  to bowl a good or even fuller length.  \\nAlways  try to spin the ball even if the pitch appears  unresponsive.  \\nUse the variations  sparingly,  e.g. floater,  arm ball, etc. \\nVary pace and flight, i.e. release ball earlier to give a high trajectory and  \\nlater to give a low trajectory.  \\nUse width  of crease  and change  from round  the wicket  to over wicket  or \\nvice versa  if necessary.  \\nAdjust  field to attack  defensive  batsman  and set field to cut off runs for an \\nattacking  batsman.  \\nIf not successful  at one end ask to bowl from the other.  \\nTHE BATSMAN  \\nTactics  for Batsmen  \\nBatting in cricket not only involves high levels of physical skill, but also  \\njudgemental and decision making skills. The batsman has to make  \\ndecisions  regarding  his reaction  to the tactics  of the opposition.  The \\nspeed of this decision making will be dictated externally, i.e. externally  \\npaced, or influenced by the speed and accuracy  of the bowler, the field  \\nplacement  of the opposition,  the stage  in the innings,  and the stage  in the \\nmatch. Often players have to make decisions based on anticipated  \\noutcomes. In other words, the speed of the ball will be too fast for the  \\nhuman  visual  system to track,  and therefore  a player  must predict  what \\nwill happen  and base his/her  decision  on this judgement.  At school  level \\nthe task is easier in terms of the speed of bowlers, but difficult in terms of  \\nthe batsman’s  experience.  The following  should  act as basic  guidelines.  ', metadata={'source': '/content/sample_data/Data/cricketdata.pdf', 'page': 24}),\n",
              " Document(page_content=' \\n Stroke  Selection  \\nEarly  on, play well pitched  up and straight  balls between  mid-on and mid- \\noff with straight  bat strokes.  \\nHit bad balls to side that they are swinging  or spinning.  Do not try to hit \\nthem  too hard. \\nIf pitch has variable  bounce,  do not hook and be on your guard  for \\n‘shooters’.  \\nPick bat up early,  particularly  against  faster  bowlers,  so that you have time \\nto come  down  on the ball. \\nOnly play defensive strokes to balls which will hit the wicket or which  \\nwould  otherwise  hit you. \\nAn additional judgement must be made following stroke production, and  \\nthat is how and when  to attempt  to score  runs. \\nScoring  Runs \\nCheck  the field setting  for obvious  gaps or fielders  set too deep to stop \\nsingles.  \\nNote which  fielders  are left handed,  slow movers,  poor throwers.  \\nBe prepared  for quick  singles,  back up when  non-striker  and run first and \\nhard.  \\nRelax hands when playing defensive strokes so that the ball does not roll  \\nfar from the bat. Fielders  may now have to remai n close to wicket to  \\nprevent  singles.  A firm push may now beat the fielder  as he is too close  to \\nreact  to save the single.  \\nIf a fielder  is dropped  back,  do not try to hit the ball over him; aim for the \\ngap he has left or try to hit to another  part of the field. \\nIf you are having difficulty scoring off or playing a particular bowler, get  \\nyour partner  to try to remain  facing  that bowler  as much  as possible.  \\nAgainst spinners, using the feet to get to the pitch or full toss may help to  \\npierce  the field. \\nBe patient – sooner  or later the bowler  will bowl a bad ball. \\nThe tactics of both bowler and batsmen will interact with those of the  \\nfielders. It is therefore important that players know how to set fields to  \\nsupport  the teams’  tactical  objectives.  \\nField  Setting  \\nFielders  are placed  in specific  places  for two reasons:  \\n• To catch an  opponent out  \\n• To stop the batsman scoring runs \\nThere are  three  types  of fielding  positions:  \\n• Close catchers  – slips,  gully,  short leg etc. \\n• Fielders  saving  one run  – cover,  mid on,  square leg  etc. \\n• Boundary  fielders  stopping  boundaries  – deep third man, deep fine \\nleg, long off etc. \\nOccasionally it may be necessary to place fielders halfway to the  \\nboundary, if it is a very long boundary and the well hit ball will not reach  \\nthe normally placed boundary fielder. Alternatively a batsman may be  \\nknown  to hit a  ball regularly to the  place where the field  is sited.  ', metadata={'source': '/content/sample_data/Data/cricketdata.pdf', 'page': 25}),\n",
              " Document(page_content=' \\n Guidelines: The faster the bowler, the faster the pitch, the finer the field is  \\nset. \\nThe slower  the bowler,  the slower  the pitch,  the straighter  and \\nsquarer  the field. \\nSet the field  so that good  balls are played  to the fielders.  \\nIf the bowler bowls a lot of bad balls, change the bowler not  \\nthe field setting.  \\nFielders must also  be told  to move  as in Figur e 42 below.  \\n \\nFigure  42 \\n \\nCloser means move towards the batsman.  \\nDeeper  means move farther away  from the batsman.  \\n• \\nDeep -Mid-Off \\n• \\nDeep -Mid-On • \\nLong-Off \\n• Long-On • \\nDeep -Extra -Cover  Move  Straighter  \\nMove  Squarer  \\nMid-On • • Mid-Off \\n \\n• Bowler  Extra -Cover  \\n• Move  Wider  \\nMid-Wicket  \\n• Cover  • \\nSilly-Mid-Off • \\n• Short -Extra -Cover  \\n• Deep -Mid-Wicket  Silly-Mid-On \\n• • \\nCover  Point \\nForward - \\nShort -Leg • \\n \\nSquare -Leg \\n• \\nBackward - • Silly-Point \\n• \\n• Gully \\n• Deep -Square -Leg Short -Leg • \\nLeg-Slip • Wicket -Keeper  \\n• Third -Slip \\nMove  Backwards  First-Slip • • \\nSecond -Slip • \\nShort -Third - \\nMan Move  Finer \\n• Long -Leg \\nDeep -Third -Man • \\n• Deep -Fine-Leg ', metadata={'source': '/content/sample_data/Data/cricketdata.pdf', 'page': 26}),\n",
              " Document(page_content=' \\n \\nUNIT  4 \\nUmpiring  \\nThe umpires are the sole judges of  all matters concerning the game  \\nonce the  toss for innings  has been made.  They  decide whether  it is fit \\nor unfit to play, make  all decisions  regarding  the laws and officially  \\ncheck  the scores  at the end of the game  to confirm  the result.  \\n \\nPoint  \\n \\n \\n \\n• Ball struck  here \\n \\n \\n \\nMoves  to here for run out Square  Leg Umpire  \\n \\nFigure  43 Figure  44 \\n \\nThe bowling  end umpire  stands  in line with the wickets  (see Figure  43) \\nand makes  decisions  about  the placement  of the bowler’s  feet for the \\nfairness  of delivery,  LBW etc. He may move  up to the wicket  or back if \\nrequested  by the bowler,  but he must be in a position  to carry  out his \\nfunction.  \\nWhen  a run is being  taken,  the bowling  umpire  moves  to the same  \\nside of the pitch as the ball and level with the popping  crease,  to get in \\nthe best position  to give a decision  for a run out as in the diagram.  \\nThe other  umpire  usually  stands  level with the popping  crease  at \\nsquare  leg (see Figure  44). However,  if the sun or fielder  interfere  with \\nhis view he can stand at Point. His principal function is to give  \\ndecisions  on stumpings,  run outs etc. at the strikers  end. \\nThe bowling umpire starts the game by calling “Play ”. After six  \\nlegitimate  balls he calls “Over”;  at the end of play he calls “Time”  and \\nremoves  the bails.  During  the game  he gives  the following  signals  to \\nthe scorers  to inform  them  of what is happening.  There  is no signal  \\nfor one or more runs scored from the bat, unless a boundary is  \\nscored.  No signal  will be given  if a batsman  is not out on appeal  but \\nthe umpire  will say “Not out”. Umpires  communicate  their decisions  to \\nboth players and spectators through  a series of signals (see  Table 1).   \\n \\n \\nBowling  Umpire  ', metadata={'source': '/content/sample_data/Data/cricketdata.pdf', 'page': 27}),\n",
              " Document(page_content=' \\n Table  1: The Umpire  Signals  \\n \\nNo-Ball Wide  Leg-bye \\n \\nBye Six Four.  Arm waved.  \\n \\n \\n \\nDead  Ball also called  Out Short  Run. The number  of runs short to be called.  \\n \\nNB the umpire  will not allow  the game  to continue  until the scorers  \\nhave  acknowledged  his signal.  \\n', metadata={'source': '/content/sample_data/Data/cricketdata.pdf', 'page': 28}),\n",
              " Document(page_content=' \\n UNIT  5 \\nPhysical  Conditioning  for Cricket  \\nThe degree  of fitness  required  to play depends  upon  the level and type \\nof match  played.  Generally  cricket  is played  over longer  periods  of \\ntime than other  games;  therefore  the training  has different  aspects.  To \\nbe successful  it is necessary  to have a high skill level,  so there  must \\nbe a great  deal of time spent  in skill training.  \\nBefore  any vigorous  activity  it is wise to warm  up 2/5 minutes’  gentle  \\njogging,  followed  by simple  stretching  exercises.  \\nGeneral  Fitness  – Aerobic  Endurance  \\nAny sustained  activity,  preferably  running,  which  lasts over 20 \\nminutes.  \\nCross  country  over different  surfaces  – sand,  shingle,  ploughed  fields,  \\nuphill  – very useful.  \\nSwimming  and cycling  may also help. \\nGeneral  Fitness  – Anaerobic  Endurance  \\nShort  bursts  of very high energy  expenditure,  activity  lasting  20-40 \\nseconds.  \\nShuttle  running  \\nFielding  shuttles  \\n \\nExamples  of fielding  shuttles  \\n \\n \\nFielder  F runs levels  with A to catch  thrown  ball and returns  it to \\nkeeper. F  then runs  level with  B who  throws another  ball to  be caught  \\nand thrown  to keeper.  Repeat  6 times.  A throws  ball out. F chases  pick up, throws  to keeper  and returns  to \\nstarting  point.  Repeat  6 times.  10 Paces  \\nF \\n10 Paces  \\nA w/k B \\n15 Paces  \\nw/k F \\nA ', metadata={'source': '/content/sample_data/Data/cricketdata.pdf', 'page': 29}),\n",
              " Document(page_content=' \\n General  Fitness  – Flexibility  or Mobility  \\nAll players need to have a good range of movement in all joints. When  \\nfully warmed  up or at the end of physical  activity,  take each limb and \\njoint to its end position,  press  and hold for several  seconds.  Relax  and \\nrepeat  (see Figures  45 a-c). \\n \\n \\n \\n \\n \\n \\n \\n \\n \\n \\n \\nSpecific  Fitness  \\nAnalyse each  player’s  activity  to discover  what type of training  he/she  \\nneeds.  \\n1. Batsmen  – have to be able to run and turn quickly  wearing  \\nequipment.  \\nSuggested  Activity  : \\nShuttles  of 5 runs,  20 yards  long wearing  full \\nequipment,  carrying  a bat. \\n– need  to have strong  wrists.  \\nSuggested  Activities:  \\nWrist  rolling,  i. e. winding  a weight  on a stick up \\nand down  as quickly  as possible.  \\nSqueezing  grips,  squash  balls etc. \\n2. Wicketkeepers  – have to move  from a squatting  position  very \\nquickly.  \\nSuggested  Activities:  \\nHopping,  bounding,  skipping  etc. \\nShuttle from squatting position to stumps to  \\ncatch a ball and then return to squatting start  \\nposition  before  repeating  6 times.  \\n \\n \\n \\n \\n \\n \\n– have to be able to dive and catch.  \\nSuggested  Activity:  \\nPractice  from squatting  position:  run five paces  to \\nside, dive onto mat turning  shoulder  underneath.  \\nRepeat in opposite direction starting from  \\nsquatting  position  each time (see Figure  46).  \\n \\n \\n \\n \\n \\n \\n \\n \\n \\n \\n \\n \\n \\n \\n \\n \\n \\n \\n \\n \\n \\n \\n \\n \\n \\n \\n \\n \\n \\n \\n \\n \\n \\n \\n \\n \\n \\n \\n \\n \\nFigure  46 \\nFigure  45a \\nFigure  45b \\nFigure  45c ', metadata={'source': '/content/sample_data/Data/cricketdata.pdf', 'page': 30}),\n",
              " Document(page_content=' \\n 3 . Bowlers – need to be fit, flexible, and strong and have a good  \\nrecovery  rate. \\nSpecial attention needs to be paid to warm up and  \\nstretching  to prevent  injury,  particularly  to the groin,  \\nback  and shoulder.  \\nGroin  Exercise  \\nFeet astride,  bend  right knee  with left leg  straight  and \\nweight  pressing  inwards.  \\nChange  legs (see Figure  47). \\n \\n \\n \\n \\nBack  Exercise  \\nLie on stomach, hands behind head.  \\nRaise  chest  off ground  (see Figure  48). \\n \\n \\n \\n \\n \\n \\n \\n \\n \\nHold a partner  in wheelbarrow  position;  lift him/her  in \\nair. Partner helps by pushing up and arching back (see  \\nFigure  49). \\n \\n \\n \\n \\n \\n \\n \\n \\n \\n \\n \\n \\n \\nLie on back;  bring  right knee up, and then swing  to left \\nto touch  ground  with knee  (see Figure  50).  \\n \\n \\n \\n \\n \\n \\n \\n \\n \\n \\n \\n \\n \\n \\n \\n \\n \\n \\n \\n \\n \\n \\n \\n \\n \\nFigure  48 \\n \\n \\n \\n \\n \\n \\n \\n \\n \\n \\n \\n \\n \\n \\nFigure  49 \\n \\n \\n \\n \\n \\n \\n \\n \\n \\nFigure  50 \\nFigure  47 ', metadata={'source': '/content/sample_data/Data/cricketdata.pdf', 'page': 31}),\n",
              " Document(page_content=' \\n Return  to lie on back.  Bring  left knee up and swing  to \\nright to touch  ground.  \\nReturn  to start position  and repeat  (see Figure  51). \\n \\n \\n \\nBowlers  should  also do shuttles,  bounding,  hopping  skipping  etc. to \\nstrengthen  legs. \\n \\nFigure  51 \\nShoulder  Exercise  \\nMobility and strength in the  \\nshoulders is essential for  \\nbowlers.  Arm circles  with one \\narm forwards  and backwards  \\nfollowed  by both arms  together  \\nwill maintain mobility (see  \\nFigure  52). \\n \\n \\n \\n \\n \\n \\n \\n \\n \\nFigure  52 \\n \\nStanding  in pairs,  one in bowling  \\nposition  with arm straight  at 45\\uf0b0 \\nto horizontal,  attempts  to bring  \\nhis/her arm down against  \\nresistance  from partner.  \\nUse left  and right  arms (see  \\nFigure  53). \\n \\n \\n \\n \\n \\n \\n \\n \\n \\n \\n \\n \\nFigure  53 \\n \\nWithin  the curriculum,  physical  conditioning  should  only be included  \\nas part of any lesson,  and while  it is important  that students  are fit to \\nplay, the techniques,  skills  and tactics  of the game  must take the \\nmajority  of time. However,  it is important  that students  understand  the \\ntheory  underpinning  fitness  for cricket,  and can apply  the theory  \\nwithin  examination  and project  work.  \\n', metadata={'source': '/content/sample_data/Data/cricketdata.pdf', 'page': 32}),\n",
              " Document(page_content='UNIT  6 \\n \\n History  of Cricket  \\nThe origins  of cricket  are not clearly  documented.  However,  it is clear \\nthat from earliest  times  people  played  games  which  involved  striking  \\nan object  with a stick.  Some  of the more  interesting  or key dates  are \\nlisted below. Further details  may be obtained  by reference to  texts \\nincluded  in Recommended  Reading.  \\nEarliest  Recordings  \\nDate  Event or  Record  \\n1300  Documented  evidence  that Prince  Edward  played  a \\ngame  called  Creag.  \\n1344  A document  in the Bodleian  Library  illustrates  a \\ncricket -like game  being  played.  \\nThe Saxon  word “cricce”  or “cric”  (a staff or crooked  \\nstick)  may be the origin  of the name.  \\n1500  and 1598  Records  at Guildford  mention  “Creckett”  and refer to \\nplaying  “crecket  and other  plaies” . \\n1611  Chichester  Court  – two men fined for playing  cricket  \\non Sunday.  \\n1624  The first recorded  fatality,  when  Jasper  Vinall  died \\nafter having  been  accidentally  struck  with a cricket  bat. \\n17th century  Some  evidence  that cricket  may have been  played  in \\npublic  schools.  \\nThe Start of the Modern  Game  \\n1744  The Laws of the game first written down and printed.  \\n1787  The formation of the Marylebone Cricket Club (MCC).  \\n1788  The MCC  revised  the laws.  \\n1864  The modern  over arm style  of bowling  was made  legal.  \\nThe game was further developed following improvements to the  \\ngrounds as a result of the use of the “heavy roller”. Additionally,  \\nbetween  1850 -1855  mowing  machines  were  first used.  \\nThe latter half of the 19th century was the era of W. G. Grace who,  \\nduring  his career,  made  54,896  runs and took 2,864  wickets.  He \\nretired  in 1908.  \\nThe History  of County  Cricket   \\n \\n \\n \\n \\n \\n \\nTest Cricket  \\n1736  Sailors  recorded  as playing  cricket  near Lisbon.  \\n1844  First international  between  USA and Canada.  \\n1859  First tour by England  of USA and Canada.  \\n1861 -62 First tour of Australia.  \\n1876 -77 First test matches  played.  \\n1878  Australians  travel  to England.  \\n1880  First test match  played  in England.  \\n1882   England  beaten  by Australia  at the Oval.  The Sporting  \\nTimes reported  “The body will be cremated  and the \\nashes  taken  to Australia”.  \\n1882 -83  England beat Australia in Melbourne. Some ladies  \\nburned  a bail, sealed  the ashes  in an urn and gave it to \\nthe English Captain. On his death the ashes were left  \\nto the MCC, and this is the basis of the Ashes  \\ncompetition.  \\n1909   Imperial Cricket Conference established to administer  \\ncricket  worldwide.  \\n1965   The name  was changed  to the International  Cricket  \\nConference.  \\n1968   The Test and County Cricket Board was established to  \\nrun test cricket,  and the National  Cricket  Association  to \\nfoster  interest  in coaching  and the recreational  game.  \\nThe MCC  administer  the Laws  both at home  and abroad.  \\nAll three  of the above form the Cricket  Council,  the governing  body of \\nthe sport.  There  are also the Minor  Counties  Association,  the Irish \\nCricket Union, the Scottish  Cricket Union and  the Welsh Cricket  \\nAssociation.  \\n 1787  \\n1853  The first “county”  club, Oxfordshire.  \\nThe first county  champions,  Nottinghamshire.  1989  The International  Cricket  Conference  renamed  the \\nInternational  Cricket  Council.  \\nNB: At  this time the  press  decided  who were  the champions.  1992  South  Africa  re-admited  to international  cricket.  \\n1890  County Secretaries officially acknowledged the  \\nchampionships.  ', metadata={'source': '/content/sample_data/Data/cricketdata.pdf', 'page': 33}),\n",
              " Document(page_content='UNIT  7 \\n \\n The Competitive  Structure  of the Sport.  \\nThe First Class  Game  \\nThe professional game in  Great Britain is  run in the  form of a  league.  \\nEighteen counties  play a  mixture of  sixteen  3-day and  six 4-day \\nmatches  regulated  by the Test and County  Cricket  Board.  This league  \\nis known as the Britannic Assurance County Championship, named  \\nafter the present  sponsors.  \\nThe number of counties remained constant since Glamorgan became  \\na member  in 1921  until 1991.  Durham  became  the eighteenth  \\nmember  in 1992.  Unlike  football,  there  is no specific  number  of teams  \\nwhich should be in the league. The reason othe r counties, known as  \\nthe Minor  Counties,  have not become  members  is the cost of setting  \\nup and running  a team.  A small  county  such as Worcestershire  spent  \\nnearly  £900,000  on running  theirs  in 1989.  An additional  expensive  \\nproblem is the provision of a suitable ground together with the  \\nfacilities  required  for spectators.  \\nBecause  gates  declined  in the late fifties,  limited -over cricket  started  \\nin 1963  with the Gillette  Cup competition  of 65 overs  per side. This \\nwas an instant financial success and was followed by the John Player  \\nLeague, 40-over matches which commenced on Sunday afternoons in  \\n1969. This was a league competition, the teams playing each other  \\nonce.  \\nThe next competition  was Benson  and Hedges,  a 55-over game  which  \\nwas played initially as a regional league with the top two teams going  \\nforward  into a knock  out competition.  \\nOver the years  the sponsors  have changed.  The Gillette  Cup is now a \\n60-over competition  for the Nat West  Trophy;  the John Player  \\ncompetition became the Refuge Assurance League and is now  \\nawaiting  a new sponsor.  \\nThe international  scene  has been  affected  in the same  way, with three  \\nOne-Day test matches  played in addition  to five or  six, 5 -day Test  \\nMatches played against touring teams. Texaco sponsor the One -Day \\nmatches  and Cornhill  Insurance  the 5-day matches.  \\nThe Test Matches are staged at Birmingham, Leeds, London,  \\nManchester and Nottingham. There is no national stadium such as  \\nWembley  for football.  The nearest  equivalent  is Lord’s,  owned  by \\nMCC  and the home  ground  of Middlesex.   \\n \\nRecreational  Cricket  \\nRecreational  or non-professional  cricket  is organised  by the National  \\nCricket  Association.  \\nIt has a professional staff at Lord’s and several National Coaches  \\nbased in  the regions  who are responsible  for the development  of play \\nat all levels,  together  with the training  of coaches.  To assist  individual  \\nclubs,  there  are part-time development  officers  who try to stimulate  \\ninterest  in coaching,  youth  development  and NCA projects.  \\nClubs  who join NCA can take part in competitions  indoors  and \\noutdoors.  Individual  members  may be nominated  to play for other  \\ncounty associations in the NCA County Championship sponsored by  \\nNotts Sport  Limited.  Outstanding  players  are invited to  play in the NCA \\nEngland  Amateur  Eleven.  \\nMany  clubs  run youth  teams  which  enter  competitions  for various  age \\ngroups,  such as the U13 eight-a-side competition  for the Nat West  \\nBank  Ken Barrington  Cup. An U15 competition  is for the Sun Life of \\nCanada  Club Cricket  Championship. Texaco  sponsor  the U16 County  \\nChampionship  which  is contested  by the best players  selected  for \\nindividual  county  association.  Schools  cricket  is organised  by the \\nEnglish Schools  Cricket  Association  and there  is a good  liaison  \\nbetween  them  and the NCA.  \\nLeague cricket is organised by each individual league which has its  \\nown rules for membership,  playing  regulations,  discipline  etc. \\nThe Minor  Counties  Cricket  Association  was formed  in 1895  to look \\nafter and promote  their interests.  A minor  county  is one that does not \\nplay in the First Class Championship.  Usually they play 2 -day 2 - \\ninnings  matches  as well as taking  part in the Nat West  Knock -out \\nCompetition.  \\nThe Women’s Cricket Association is organised on either a county or a  \\nregional area basis, depending  on the strength of  the game in  the \\nspecific  area.  ', metadata={'source': '/content/sample_data/Data/cricketdata.pdf', 'page': 34}),\n",
              " Document(page_content=' \\n UNIT  8 \\nUseful  Information  \\nRecommended  reading  \\nThe Handbook  of Cricket,  K. V. Andrew   ISBN 0 7207 1789 I  \\nThe Skills  of Cricket,  K. V. Andrew  ISBN  1 85223 237  4 \\nCricket  – The Techniques  of the Game,  Andrew,  Carter,  Lenham  \\nISBN 0  7158  0574 6  or ISBN 0  7158  0642  4 \\nA History  of Cricket,  B. Green  ISBN  0 7126  2080  X \\nThe MCC  Cricket  Coaching  Book  (Fourth  Edition)  \\nWisden  Cricketers’  Almanack  (Printed  Annually)  \\nTest Cricket  in Clubs  and Schools  (Available  from NCA)  \\nHow to Coach  Cricket,  R. Dellor  \\nISBN 0  00 218 319 6 or ISBN  0 00 218 369 2 \\nGames  for Cricket  Training,  A. Oakman  ISBN 0 7207 1233 8  \\nThe Laws  of Cricket  (1980  Code)  Second  Edition  1992.  \\n(Available  from MCC,  price £1.50)  \\n \\nUseful  addresses  \\nE.C.B  \\nLord’s  Cricket  Ground  \\nLondon  \\nNW8 8QZ \\nTelephone  0207  432 1200 \\n \\nCoach  Education  Office  \\nc/o Warwickshire  County Cricket  Ground  \\nEdgbaston  \\nBirmingham  \\nB5 7QX \\nTelephone  0121  440 1748 ', metadata={'source': '/content/sample_data/Data/cricketdata.pdf', 'page': 35})]"
            ]
          },
          "metadata": {},
          "execution_count": 7
        }
      ]
    },
    {
      "cell_type": "markdown",
      "source": [
        "**Splitting Test and Chunking**"
      ],
      "metadata": {
        "id": "OgcaAP-O8J3g"
      }
    },
    {
      "cell_type": "code",
      "source": [
        "text_splitter = RecursiveCharacterTextSplitter(chunk_size=300, chunk_overlap=50)\n",
        "chunks = text_splitter.split_documents(docs)"
      ],
      "metadata": {
        "id": "KanIHQpwRSaN"
      },
      "execution_count": 8,
      "outputs": []
    },
    {
      "cell_type": "code",
      "source": [
        "len(chunks)"
      ],
      "metadata": {
        "colab": {
          "base_uri": "https://localhost:8080/"
        },
        "id": "gzBMNqKQRSXE",
        "outputId": "dc146a72-8532-4998-88a4-676606fb97b7"
      },
      "execution_count": 9,
      "outputs": [
        {
          "output_type": "execute_result",
          "data": {
            "text/plain": [
              "226"
            ]
          },
          "metadata": {},
          "execution_count": 9
        }
      ]
    },
    {
      "cell_type": "code",
      "source": [
        "chunks[0]"
      ],
      "metadata": {
        "id": "9H389MjHRSSH",
        "colab": {
          "base_uri": "https://localhost:8080/"
        },
        "outputId": "e95a9c00-361d-4a8e-bb21-1962fc242efb"
      },
      "execution_count": 10,
      "outputs": [
        {
          "output_type": "execute_result",
          "data": {
            "text/plain": [
              "Document(page_content='THE ROYAL  MARINES  \\n \\n \\n \\nCricket', metadata={'source': '/content/sample_data/Data/cricketdata.pdf', 'page': 0})"
            ]
          },
          "metadata": {},
          "execution_count": 10
        }
      ]
    },
    {
      "cell_type": "code",
      "source": [
        "chunks[1]"
      ],
      "metadata": {
        "colab": {
          "base_uri": "https://localhost:8080/"
        },
        "id": "4zirQeptO9il",
        "outputId": "542b19f4-f092-4df7-afb4-612316be7e4b"
      },
      "execution_count": 11,
      "outputs": [
        {
          "output_type": "execute_result",
          "data": {
            "text/plain": [
              "Document(page_content='CONTENTS  \\n \\nStudent  Notes  Teacher  Notes  \\n \\n \\nPrepared  for The Royal  Navy  in Association  with The National  Cricket  \\nAssociation  and produced  by Education  & Youth  Ltd, London.  \\nIf there is any support you feel The Royal Navy can give regarding this', metadata={'source': '/content/sample_data/Data/cricketdata.pdf', 'page': 1})"
            ]
          },
          "metadata": {},
          "execution_count": 11
        }
      ]
    },
    {
      "cell_type": "code",
      "source": [
        "chunks[2]"
      ],
      "metadata": {
        "colab": {
          "base_uri": "https://localhost:8080/"
        },
        "id": "SxGqPC08PBGk",
        "outputId": "6f3abc21-ca38-4fb5-c3af-ac7c0fdc597c"
      },
      "execution_count": 12,
      "outputs": [
        {
          "output_type": "execute_result",
          "data": {
            "text/plain": [
              "Document(page_content='project  please  contact  0870  333 0423.  \\n \\n \\nAcknowledgements  \\nThese  notes  have been  compiled  by Bob Carter  – National  Coach,  \\n(Coach  Education)  The National  Cricket  Association  \\nTechnical  Editor:  P Edwards  M.A. MESSAGE  FROM  THE NATIONAL  CRICKET  ASSOCIATION  3', metadata={'source': '/content/sample_data/Data/cricketdata.pdf', 'page': 1})"
            ]
          },
          "metadata": {},
          "execution_count": 12
        }
      ]
    },
    {
      "cell_type": "code",
      "source": [
        "chunks[3]"
      ],
      "metadata": {
        "colab": {
          "base_uri": "https://localhost:8080/"
        },
        "id": "sS6MG4JUPEXJ",
        "outputId": "c45236ee-b6d7-4381-9f6a-974315873c64"
      },
      "execution_count": 13,
      "outputs": [
        {
          "output_type": "execute_result",
          "data": {
            "text/plain": [
              "Document(page_content='INTRODUCTION  TO THE MODULE  3 \\nSKILLS  DEVELOPMENT  SHEET  4 \\nUNIT  1 INTRODUCTION  TO CRICKET  MODULE  5 \\nUNIT  2 TECHNIQUES  AND SKILLS  6 \\n 1 FIELDING  6 \\n 2 BOWLING  9 \\n 3 BATTING  14 \\n 4 WICKET  KEEPING  22 \\nUNIT  3 TACTICS  AND FIELD  PLACEMENT  25 \\nUNIT  4 UMPIRING  28', metadata={'source': '/content/sample_data/Data/cricketdata.pdf', 'page': 1})"
            ]
          },
          "metadata": {},
          "execution_count": 13
        }
      ]
    },
    {
      "cell_type": "code",
      "source": [
        "chunks[4]"
      ],
      "metadata": {
        "colab": {
          "base_uri": "https://localhost:8080/"
        },
        "id": "NIbpVGLZPGvk",
        "outputId": "5632beaa-5b28-4923-bdb5-06fece4081ed"
      },
      "execution_count": 14,
      "outputs": [
        {
          "output_type": "execute_result",
          "data": {
            "text/plain": [
              "Document(page_content='UNIT  4 UMPIRING  28 \\nUNIT  5 PHYSICAL  CONDITIONING  FOR CRICKET  30 \\nUNIT  6 HISTORY  OF CRICKET  34 \\nUNIT  7 THE COMPETITIVE  STRUCTURE  OF THE SPORT.  35 \\nUNIT  8 USEFUL  INFORMATION  36', metadata={'source': '/content/sample_data/Data/cricketdata.pdf', 'page': 1})"
            ]
          },
          "metadata": {},
          "execution_count": 14
        }
      ]
    },
    {
      "cell_type": "markdown",
      "source": [
        "**Embedding**"
      ],
      "metadata": {
        "id": "Sw-puZs58S_2"
      }
    },
    {
      "cell_type": "code",
      "source": [
        "embeddings = HuggingFaceEmbeddings(model_name=\"BAAI/bge-base-en-v1.5\")"
      ],
      "metadata": {
        "colab": {
          "base_uri": "https://localhost:8080/",
          "height": 493,
          "referenced_widgets": [
            "0bc4e3deb714418bb8e387d224e02d45",
            "5b730a724e1a4346a16142d7c197c255",
            "c35027e0a79c41e997ec66db412ab408",
            "164bab3b8a874d33b10aa4b38d11f8f3",
            "5a2a5d9e28a04fe794c3976b87eb96d6",
            "912d0e5eb478442c85bd6effd21f58bf",
            "0073d981b06846fd88f12f4a6982901b",
            "2b0d06bc8b674320a39f514275f4cf6a",
            "52d7e3559db54a479d7d7a8aaa9f4b08",
            "06179a00e608400f9e3f5578de67a031",
            "18a169deb1b14d389d9386662266120d",
            "4e71d55e63c2444f87d6e880ef04f5b5",
            "4b13ff49c9b14d8f8ed6b3604ea9e430",
            "0650b75cb0904c9eb40590d6ab2852f6",
            "6127fe1d0c9b42b38496282207a4e36c",
            "774ca63e83384c56a6eb9c8363670761",
            "06f6a1e34aea4bd59fa3458a7d6bacec",
            "d33b96a69b5146618e34f726cf6052a7",
            "fdb0b6fdf6ca492fab35fec67942515c",
            "27c23df2b52c45c985b975ef6afab0d0",
            "82b05ba337e74ff39a7ee4dcbc6f5d95",
            "c257626c6895438f85ade4df3e699937",
            "98d99ae42eac4487a19d1d326c7faf38",
            "a4cfbb8e1e89437dad7793f92eb6c713",
            "e6d09b57d54d4406b54c2e35a44f567a",
            "8f208651337742b8aeb8e07a836a7f13",
            "7d070c8c9a944848af534b00be2d4d48",
            "1421abdbcc3d4a218d3171e7e196e43c",
            "04ff9af8da1b4153889113f99063e366",
            "ea3257090dc645c68ced61feaa6c1504",
            "59e5e1f55cc74d7991856922e584ee19",
            "97fb60f64132402484124f3889d995f6",
            "59c36c676a07432182203eb719fb08a0",
            "1f2fe29b026347cca4a7bc8032b283b5",
            "afb4ff0c405941bf98e5df6e24953597",
            "eecabbb299fb4713909b581d40e020cc",
            "625f7e9ac2184da8ac0def8d45278cb5",
            "d21071a83cf642cdbf074ae183b488f2",
            "38d56174cb534c5896afd147164a05e8",
            "50e47accd1da45cd8c1b0a6fc20ddf23",
            "3183938570a148b69f5455efc5d68c47",
            "423cfc8be2534e1ebc6256ec34a6e47b",
            "e3825fbce63f40549b69d22f0562d181",
            "c68ce75c126d454790dfd490e2edf16e",
            "5ab001bf1f7542a0a49cacd4fd1aa796",
            "3523201e3ecc4903b656f3876cb20f3b",
            "4ff71de716184cd29733f752e22a2765",
            "8b5a4f3001574c8fb130e90fd69ef849",
            "c80dc36441cb4ecd800b9ee944f7ba35",
            "d967c0dddfdb460087f98753679ad98f",
            "00ea3ea8b5624d1597623ba25cb7be79",
            "9a38d271a54740968674b0ec0a06479e",
            "74df7931185549729ec7687e7702ecc4",
            "623f146490f94b6880f61885de04d96b",
            "7724dd958d13479ea86cbc0d16568192",
            "344ee68f15f34c7c89600ba0c82a1163",
            "5937f9835c264c988afed95d043ad794",
            "7b1861b99d1c46e5be88f1538f7c2e4b",
            "5b49bebc9c7849f6a1e54a74d8c8493a",
            "0c353396bf574dfd9a8f8d5ce5f2c925",
            "789cd274f79b41a69f45c566544edd6d",
            "d11e408ddbab4eb58fc833493031bcad",
            "600d012c210444428964ff25ea131a6c",
            "acdd40a843b344ffa18e4dc4588fe138",
            "164809dfe85d419baf47cb9876fb5f2e",
            "bcde95b1ca534239ba59682d5cd510b9",
            "fd36100c14ce460f9efa88d50ad44cb6",
            "a8f2b7afe9a14ab5aadd7b8b0789dd51",
            "27fe21ffa39742098cbef9983fc383e8",
            "09cec2bc6e29414ca45824869ef43741",
            "67fbd88385524d0cb7ec3e96945e75e0",
            "2ae8873b2b99466092189bfce9311589",
            "64f5e4f1da314824a5af29d09c870723",
            "392f9bdfcb2643c5a502d2d4ada0cdc3",
            "0bbe497a0b80439581b1a3361282fea4",
            "53ed77ba48c343f181c09c445aab6d15",
            "e6f76c5966854ec0aa5f5e01a8810d08",
            "90e572046d7b4a1aaa0320db7e20dc59",
            "174af9bdb61648f4b0f1d6da74322937",
            "656e3c33b8b24235b61b7a33b3196d4d",
            "37a37af3f7d94ea0993b750f02e1075e",
            "0f1b0e8857a44862913f05f11477e501",
            "9d7e40fb478244eab1c99dcecf3be5ab",
            "60abb80f6e3943c8aab4bcd60f1492f1",
            "25bc7864e2a34c11b829611933906610",
            "0b1f002f42a4497eaf9f9fc8093b3564",
            "45e2b12e76cc4bb6a99a6dbc75bd23cc",
            "1de257d753eb4703bc112b4a977c8ded",
            "f1345cab563e4f39a1da6fb8a37f6e82",
            "11886c28df544b87b7ca88a99b5fbe4a",
            "76eb6a7d99cf4b2292625313150c8d44",
            "2c193649e4ba470ba0d6f42b2c5830cf",
            "87da5b131deb496e982ddaef7c02ad8f",
            "4b7cb62bb49c4bc08201d98e4b525faf",
            "d9094a711ad242a8b7e0a57ec727511f",
            "949b3a19023e4c81be9de64b790a7020",
            "fb8fbaefb36d470e95c73064d51e2cd0",
            "b4d853dbcd9d4992ae8acf3b4b1bba49",
            "e810d8a51df94d17b20f0b87bd14459a",
            "6d461c280e1746fdbb70fb4aa58e392c",
            "6db681adb0414ab3a9631d31ee9d9bfe",
            "7c2bb1b5da0d4fef8b317196de8dbfa9",
            "acbc8bd3039945359fc6277a7b83830d",
            "b2597cf88c4b4dc2983c4c893ad69f83",
            "ab94e8528f8c4202ab306d3076a6e42a",
            "fc5080e915c84e53ba2019507ed3a086",
            "1ea44e01117849e0b5ee1a3953f03aee",
            "aa0c6196bdaa4922b022d9eaaef6b5f3",
            "4296b9f23a9e45fdb7b3e648771bdb51",
            "2ff76bf895e64728bac146641dcac656",
            "2f4482310d7942e8a944144c6f9c4d4f",
            "a4ccdf7c7605451b9cad44c8584b44bb",
            "ffd997ca31f64144b8c5bb71ce6a8d99",
            "abc75f3c31b7432a9dbf5e0d8f6cafcb",
            "b89d3ca091e247469721503b478371e6",
            "5e3385bd607a4a588258bed482c82b91",
            "f9564ed7b89f4e3eb1fd774b6ac37804",
            "f88ce040df974dbbb19f198c42ed7b7f",
            "8680f60e8e3b44028a21ad4aed6da690",
            "829179bc0bb844a8ae5f88eae48230a7",
            "1291bd2dc5eb48ec9c4ac194c5fd506c"
          ]
        },
        "id": "gCGVzWy3PJIq",
        "outputId": "ca8b5819-8416-4847-de37-45b6783cdef3"
      },
      "execution_count": 15,
      "outputs": [
        {
          "output_type": "stream",
          "name": "stderr",
          "text": [
            "/usr/local/lib/python3.10/dist-packages/huggingface_hub/utils/_token.py:88: UserWarning: \n",
            "The secret `HF_TOKEN` does not exist in your Colab secrets.\n",
            "To authenticate with the Hugging Face Hub, create a token in your settings tab (https://huggingface.co/settings/tokens), set it as secret in your Google Colab and restart your session.\n",
            "You will be able to reuse this secret in all of your notebooks.\n",
            "Please note that authentication is recommended but still optional to access public models or datasets.\n",
            "  warnings.warn(\n"
          ]
        },
        {
          "output_type": "display_data",
          "data": {
            "text/plain": [
              "modules.json:   0%|          | 0.00/349 [00:00<?, ?B/s]"
            ],
            "application/vnd.jupyter.widget-view+json": {
              "version_major": 2,
              "version_minor": 0,
              "model_id": "0bc4e3deb714418bb8e387d224e02d45"
            }
          },
          "metadata": {}
        },
        {
          "output_type": "display_data",
          "data": {
            "text/plain": [
              "config_sentence_transformers.json:   0%|          | 0.00/124 [00:00<?, ?B/s]"
            ],
            "application/vnd.jupyter.widget-view+json": {
              "version_major": 2,
              "version_minor": 0,
              "model_id": "4e71d55e63c2444f87d6e880ef04f5b5"
            }
          },
          "metadata": {}
        },
        {
          "output_type": "display_data",
          "data": {
            "text/plain": [
              "README.md:   0%|          | 0.00/94.6k [00:00<?, ?B/s]"
            ],
            "application/vnd.jupyter.widget-view+json": {
              "version_major": 2,
              "version_minor": 0,
              "model_id": "98d99ae42eac4487a19d1d326c7faf38"
            }
          },
          "metadata": {}
        },
        {
          "output_type": "display_data",
          "data": {
            "text/plain": [
              "sentence_bert_config.json:   0%|          | 0.00/52.0 [00:00<?, ?B/s]"
            ],
            "application/vnd.jupyter.widget-view+json": {
              "version_major": 2,
              "version_minor": 0,
              "model_id": "1f2fe29b026347cca4a7bc8032b283b5"
            }
          },
          "metadata": {}
        },
        {
          "output_type": "display_data",
          "data": {
            "text/plain": [
              "config.json:   0%|          | 0.00/777 [00:00<?, ?B/s]"
            ],
            "application/vnd.jupyter.widget-view+json": {
              "version_major": 2,
              "version_minor": 0,
              "model_id": "5ab001bf1f7542a0a49cacd4fd1aa796"
            }
          },
          "metadata": {}
        },
        {
          "output_type": "display_data",
          "data": {
            "text/plain": [
              "model.safetensors:   0%|          | 0.00/438M [00:00<?, ?B/s]"
            ],
            "application/vnd.jupyter.widget-view+json": {
              "version_major": 2,
              "version_minor": 0,
              "model_id": "344ee68f15f34c7c89600ba0c82a1163"
            }
          },
          "metadata": {}
        },
        {
          "output_type": "display_data",
          "data": {
            "text/plain": [
              "tokenizer_config.json:   0%|          | 0.00/366 [00:00<?, ?B/s]"
            ],
            "application/vnd.jupyter.widget-view+json": {
              "version_major": 2,
              "version_minor": 0,
              "model_id": "fd36100c14ce460f9efa88d50ad44cb6"
            }
          },
          "metadata": {}
        },
        {
          "output_type": "display_data",
          "data": {
            "text/plain": [
              "vocab.txt:   0%|          | 0.00/232k [00:00<?, ?B/s]"
            ],
            "application/vnd.jupyter.widget-view+json": {
              "version_major": 2,
              "version_minor": 0,
              "model_id": "90e572046d7b4a1aaa0320db7e20dc59"
            }
          },
          "metadata": {}
        },
        {
          "output_type": "display_data",
          "data": {
            "text/plain": [
              "tokenizer.json:   0%|          | 0.00/711k [00:00<?, ?B/s]"
            ],
            "application/vnd.jupyter.widget-view+json": {
              "version_major": 2,
              "version_minor": 0,
              "model_id": "f1345cab563e4f39a1da6fb8a37f6e82"
            }
          },
          "metadata": {}
        },
        {
          "output_type": "display_data",
          "data": {
            "text/plain": [
              "special_tokens_map.json:   0%|          | 0.00/125 [00:00<?, ?B/s]"
            ],
            "application/vnd.jupyter.widget-view+json": {
              "version_major": 2,
              "version_minor": 0,
              "model_id": "6d461c280e1746fdbb70fb4aa58e392c"
            }
          },
          "metadata": {}
        },
        {
          "output_type": "display_data",
          "data": {
            "text/plain": [
              "1_Pooling/config.json:   0%|          | 0.00/190 [00:00<?, ?B/s]"
            ],
            "application/vnd.jupyter.widget-view+json": {
              "version_major": 2,
              "version_minor": 0,
              "model_id": "2f4482310d7942e8a944144c6f9c4d4f"
            }
          },
          "metadata": {}
        }
      ]
    },
    {
      "cell_type": "markdown",
      "source": [
        "**Vector Store**"
      ],
      "metadata": {
        "id": "JieiFWWz8aOl"
      }
    },
    {
      "cell_type": "code",
      "source": [
        "vectorstore = Chroma.from_documents(chunks, embeddings)"
      ],
      "metadata": {
        "id": "qNSONHUePMBU"
      },
      "execution_count": 16,
      "outputs": []
    },
    {
      "cell_type": "code",
      "source": [
        "vectorstore"
      ],
      "metadata": {
        "colab": {
          "base_uri": "https://localhost:8080/"
        },
        "id": "hYuXjzu4PUXe",
        "outputId": "0af47a37-d5db-455a-d1d5-21f115385b4c"
      },
      "execution_count": 17,
      "outputs": [
        {
          "output_type": "execute_result",
          "data": {
            "text/plain": [
              "<langchain_community.vectorstores.chroma.Chroma at 0x7dce1ceef3a0>"
            ]
          },
          "metadata": {},
          "execution_count": 17
        }
      ]
    },
    {
      "cell_type": "code",
      "source": [
        "query = \"there are may different levels of the game ranging from what?\"\n",
        "search = vectorstore.similarity_search(query)"
      ],
      "metadata": {
        "id": "eNij1cmlPXhl"
      },
      "execution_count": 18,
      "outputs": []
    },
    {
      "cell_type": "code",
      "source": [
        "to_markdown(search[0].page_content)"
      ],
      "metadata": {
        "colab": {
          "base_uri": "https://localhost:8080/",
          "height": 114
        },
        "id": "4ET4kVYEP5Q1",
        "outputId": "dc0dedff-7d1d-49d8-9493-b364ac4688c9"
      },
      "execution_count": 19,
      "outputs": [
        {
          "output_type": "execute_result",
          "data": {
            "text/plain": [
              "<IPython.core.display.Markdown object>"
            ],
            "text/markdown": "> which  teachers  and coaches  should endeavour  to foster at  all levels.  \n> There are may different levels of the game ranging from the Five Day  \n> Test Match,  the afternoon  club match,  the indoor  six a side adults,  \n> Kwik Cricket, Cricket Pairs game played by 10 year olds to the"
          },
          "metadata": {},
          "execution_count": 19
        }
      ]
    },
    {
      "cell_type": "markdown",
      "source": [
        "**Retriever**"
      ],
      "metadata": {
        "id": "EayMPiMj8kH5"
      }
    },
    {
      "cell_type": "code",
      "source": [
        "retriever = vectorstore.as_retriever(\n",
        "    search_kwargs={'k': 5}\n",
        ")"
      ],
      "metadata": {
        "id": "QMlK3QzxP9L6"
      },
      "execution_count": 20,
      "outputs": []
    },
    {
      "cell_type": "code",
      "source": [
        "retriever.get_relevant_documents(query)"
      ],
      "metadata": {
        "colab": {
          "base_uri": "https://localhost:8080/"
        },
        "id": "qAJcHItsQEvE",
        "outputId": "824ad1cf-e9c6-4bc4-a066-bc216f1e497a"
      },
      "execution_count": 21,
      "outputs": [
        {
          "output_type": "execute_result",
          "data": {
            "text/plain": [
              "[Document(page_content='which  teachers  and coaches  should endeavour  to foster at  all levels.  \\nThere are may different levels of the game ranging from the Five Day  \\nTest Match,  the afternoon  club match,  the indoor  six a side adults,  \\nKwik Cricket, Cricket Pairs game played by 10 year olds to the', metadata={'page': 4, 'source': '/content/sample_data/Data/cricketdata.pdf'}),\n",
              " Document(page_content='UNIT  5 \\nPhysical  Conditioning  for Cricket  \\nThe degree  of fitness  required  to play depends  upon  the level and type \\nof match  played.  Generally  cricket  is played  over longer  periods  of \\ntime than other  games;  therefore  the training  has different  aspects.  To', metadata={'page': 29, 'source': '/content/sample_data/Data/cricketdata.pdf'}),\n",
              " Document(page_content='UNIT  2 \\nTechniques  and Skills  \\nIn order  to play cricket  to examination  level,  students  should  have a \\ngood  practical  and theoretical  grasp  of the 4 major  activities  of the \\ngame:  \\n• Fielding  \\n• Bowling  \\n• Batting  \\n• Wicket  keeping  \\n \\n1 Fielding', metadata={'page': 5, 'source': '/content/sample_data/Data/cricketdata.pdf'}),\n",
              " Document(page_content='under  the pressure  of a game  situation.  \\nAt the advanced stage all the basic skills are automatic and a player  \\nwill concentrate on more detailed aspects of the skill and the tactics  \\nrequired  in the game  eg. Position  of fielders.  \\n \\n \\n \\n \\nName  of Module  Cricket', metadata={'page': 3, 'source': '/content/sample_data/Data/cricketdata.pdf'}),\n",
              " Document(page_content='UNIT  7 \\n \\n The Competitive  Structure  of the Sport.  \\nThe First Class  Game  \\nThe professional game in  Great Britain is  run in the  form of a  league.  \\nEighteen counties  play a  mixture of  sixteen  3-day and  six 4-day', metadata={'page': 34, 'source': '/content/sample_data/Data/cricketdata.pdf'})]"
            ]
          },
          "metadata": {},
          "execution_count": 21
        }
      ]
    },
    {
      "cell_type": "code",
      "source": [
        "#connect to google drive\n",
        "from google.colab import drive"
      ],
      "metadata": {
        "id": "jl2acRvcQHEw"
      },
      "execution_count": 22,
      "outputs": []
    },
    {
      "cell_type": "code",
      "source": [
        "drive.mount('/content/drive')"
      ],
      "metadata": {
        "colab": {
          "base_uri": "https://localhost:8080/"
        },
        "id": "duLLP2qlQK4W",
        "outputId": "0d7ae231-e0fb-462b-af5d-c41f53e9b8b4"
      },
      "execution_count": 23,
      "outputs": [
        {
          "output_type": "stream",
          "name": "stdout",
          "text": [
            "Mounted at /content/drive\n"
          ]
        }
      ]
    },
    {
      "cell_type": "markdown",
      "source": [
        "**LLM**"
      ],
      "metadata": {
        "id": "WLCchrM88udE"
      }
    },
    {
      "cell_type": "code",
      "source": [
        "llm = LlamaCpp(\n",
        "    model_path= \"/content/drive/MyDrive/Chatbotmodel/BioMistral-7B.Q4_K_M.gguf\",\n",
        "    temperature=0.3,\n",
        "    max_tokens=2048,\n",
        "    top_p=1)"
      ],
      "metadata": {
        "colab": {
          "base_uri": "https://localhost:8080/"
        },
        "id": "R4OGvk8bQNUO",
        "outputId": "1cd456e1-3398-4b63-9067-c72847fcaf36"
      },
      "execution_count": 24,
      "outputs": [
        {
          "output_type": "stream",
          "name": "stderr",
          "text": [
            "llama_model_loader: loaded meta data with 21 key-value pairs and 291 tensors from /content/drive/MyDrive/Chatbotmodel/BioMistral-7B.Q4_K_M.gguf (version GGUF V3 (latest))\n",
            "llama_model_loader: Dumping metadata keys/values. Note: KV overrides do not apply in this output.\n",
            "llama_model_loader: - kv   0:                       general.architecture str              = llama\n",
            "llama_model_loader: - kv   1:                               general.name str              = hub\n",
            "llama_model_loader: - kv   2:                       llama.context_length u32              = 32768\n",
            "llama_model_loader: - kv   3:                     llama.embedding_length u32              = 4096\n",
            "llama_model_loader: - kv   4:                          llama.block_count u32              = 32\n",
            "llama_model_loader: - kv   5:                  llama.feed_forward_length u32              = 14336\n",
            "llama_model_loader: - kv   6:                 llama.rope.dimension_count u32              = 128\n",
            "llama_model_loader: - kv   7:                 llama.attention.head_count u32              = 32\n",
            "llama_model_loader: - kv   8:              llama.attention.head_count_kv u32              = 8\n",
            "llama_model_loader: - kv   9:     llama.attention.layer_norm_rms_epsilon f32              = 0.000010\n",
            "llama_model_loader: - kv  10:                       llama.rope.freq_base f32              = 10000.000000\n",
            "llama_model_loader: - kv  11:                          general.file_type u32              = 15\n",
            "llama_model_loader: - kv  12:                       tokenizer.ggml.model str              = llama\n",
            "llama_model_loader: - kv  13:                      tokenizer.ggml.tokens arr[str,32000]   = [\"<unk>\", \"<s>\", \"</s>\", \"<0x00>\", \"<...\n",
            "llama_model_loader: - kv  14:                      tokenizer.ggml.scores arr[f32,32000]   = [0.000000, 0.000000, 0.000000, 0.0000...\n",
            "llama_model_loader: - kv  15:                  tokenizer.ggml.token_type arr[i32,32000]   = [2, 3, 3, 6, 6, 6, 6, 6, 6, 6, 6, 6, ...\n",
            "llama_model_loader: - kv  16:                tokenizer.ggml.bos_token_id u32              = 1\n",
            "llama_model_loader: - kv  17:                tokenizer.ggml.eos_token_id u32              = 2\n",
            "llama_model_loader: - kv  18:            tokenizer.ggml.unknown_token_id u32              = 0\n",
            "llama_model_loader: - kv  19:                    tokenizer.chat_template str              = {{ bos_token }}{% for message in mess...\n",
            "llama_model_loader: - kv  20:               general.quantization_version u32              = 2\n",
            "llama_model_loader: - type  f32:   65 tensors\n",
            "llama_model_loader: - type q4_K:  193 tensors\n",
            "llama_model_loader: - type q6_K:   33 tensors\n",
            "llm_load_vocab: special tokens definition check successful ( 259/32000 ).\n",
            "llm_load_print_meta: format           = GGUF V3 (latest)\n",
            "llm_load_print_meta: arch             = llama\n",
            "llm_load_print_meta: vocab type       = SPM\n",
            "llm_load_print_meta: n_vocab          = 32000\n",
            "llm_load_print_meta: n_merges         = 0\n",
            "llm_load_print_meta: n_ctx_train      = 32768\n",
            "llm_load_print_meta: n_embd           = 4096\n",
            "llm_load_print_meta: n_head           = 32\n",
            "llm_load_print_meta: n_head_kv        = 8\n",
            "llm_load_print_meta: n_layer          = 32\n",
            "llm_load_print_meta: n_rot            = 128\n",
            "llm_load_print_meta: n_embd_head_k    = 128\n",
            "llm_load_print_meta: n_embd_head_v    = 128\n",
            "llm_load_print_meta: n_gqa            = 4\n",
            "llm_load_print_meta: n_embd_k_gqa     = 1024\n",
            "llm_load_print_meta: n_embd_v_gqa     = 1024\n",
            "llm_load_print_meta: f_norm_eps       = 0.0e+00\n",
            "llm_load_print_meta: f_norm_rms_eps   = 1.0e-05\n",
            "llm_load_print_meta: f_clamp_kqv      = 0.0e+00\n",
            "llm_load_print_meta: f_max_alibi_bias = 0.0e+00\n",
            "llm_load_print_meta: n_ff             = 14336\n",
            "llm_load_print_meta: n_expert         = 0\n",
            "llm_load_print_meta: n_expert_used    = 0\n",
            "llm_load_print_meta: pooling type     = 0\n",
            "llm_load_print_meta: rope type        = 0\n",
            "llm_load_print_meta: rope scaling     = linear\n",
            "llm_load_print_meta: freq_base_train  = 10000.0\n",
            "llm_load_print_meta: freq_scale_train = 1\n",
            "llm_load_print_meta: n_yarn_orig_ctx  = 32768\n",
            "llm_load_print_meta: rope_finetuned   = unknown\n",
            "llm_load_print_meta: model type       = 7B\n",
            "llm_load_print_meta: model ftype      = Q4_K - Medium\n",
            "llm_load_print_meta: model params     = 7.24 B\n",
            "llm_load_print_meta: model size       = 4.07 GiB (4.83 BPW) \n",
            "llm_load_print_meta: general.name     = hub\n",
            "llm_load_print_meta: BOS token        = 1 '<s>'\n",
            "llm_load_print_meta: EOS token        = 2 '</s>'\n",
            "llm_load_print_meta: UNK token        = 0 '<unk>'\n",
            "llm_load_print_meta: LF token         = 13 '<0x0A>'\n",
            "llm_load_tensors: ggml ctx size =    0.11 MiB\n",
            "llm_load_tensors:        CPU buffer size =  4165.37 MiB\n",
            ".................................................................................................\n",
            "llama_new_context_with_model: n_ctx      = 512\n",
            "llama_new_context_with_model: freq_base  = 10000.0\n",
            "llama_new_context_with_model: freq_scale = 1\n",
            "llama_kv_cache_init:        CPU KV buffer size =    64.00 MiB\n",
            "llama_new_context_with_model: KV self size  =   64.00 MiB, K (f16):   32.00 MiB, V (f16):   32.00 MiB\n",
            "llama_new_context_with_model:        CPU input buffer size   =     0.14 MiB\n",
            "llama_new_context_with_model:        CPU compute buffer size =     1.13 MiB\n",
            "llama_new_context_with_model: graph splits (measure): 1\n",
            "AVX = 1 | AVX_VNNI = 0 | AVX2 = 1 | AVX512 = 0 | AVX512_VBMI = 0 | AVX512_VNNI = 0 | FMA = 1 | NEON = 0 | ARM_FMA = 0 | F16C = 1 | FP16_VA = 0 | WASM_SIMD = 0 | BLAS = 0 | SSE3 = 1 | SSSE3 = 1 | VSX = 0 | MATMUL_INT8 = 0 | \n",
            "Model metadata: {'tokenizer.chat_template': \"{{ bos_token }}{% for message in messages %}{% if (message['role'] == 'user') != (loop.index0 % 2 == 0) %}{{ raise_exception('Conversation roles must alternate user/assistant/user/assistant/...') }}{% endif %}{% if message['role'] == 'user' %}{{ '[INST] ' + message['content'] + ' [/INST]' }}{% elif message['role'] == 'assistant' %}{{ message['content'] + eos_token + ' ' }}{% else %}{{ raise_exception('Only user and assistant roles are supported!') }}{% endif %}{% endfor %}\", 'tokenizer.ggml.unknown_token_id': '0', 'tokenizer.ggml.eos_token_id': '2', 'general.architecture': 'llama', 'llama.rope.freq_base': '10000.000000', 'llama.context_length': '32768', 'general.name': 'hub', 'llama.embedding_length': '4096', 'llama.feed_forward_length': '14336', 'llama.attention.layer_norm_rms_epsilon': '0.000010', 'llama.rope.dimension_count': '128', 'tokenizer.ggml.bos_token_id': '1', 'llama.attention.head_count': '32', 'llama.block_count': '32', 'llama.attention.head_count_kv': '8', 'general.quantization_version': '2', 'tokenizer.ggml.model': 'llama', 'general.file_type': '15'}\n",
            "Guessed chat format: mistral-instruct\n"
          ]
        }
      ]
    },
    {
      "cell_type": "markdown",
      "source": [
        "**RAG Chain**"
      ],
      "metadata": {
        "id": "nL6DYWjI80Cn"
      }
    },
    {
      "cell_type": "code",
      "source": [
        "from langchain.schema.runnable import RunnablePassthrough\n",
        "from langchain.schema.output_parser import StrOutputParser\n",
        "from langchain.prompts import ChatPromptTemplate"
      ],
      "metadata": {
        "id": "nbbjf2xX2rXc"
      },
      "execution_count": 25,
      "outputs": []
    },
    {
      "cell_type": "code",
      "source": [
        "template = \"\"\"\n",
        "<|context|>\n",
        "You are an AI assistant that follows instruction extremely well.\n",
        "Please be truthful and give direct answers\n",
        "</s>\n",
        "<|user|>\n",
        "{query}\n",
        "</s>\n",
        " <|assistant|>\n",
        "\"\"\""
      ],
      "metadata": {
        "id": "5LtRvrTK3DgV"
      },
      "execution_count": 26,
      "outputs": []
    },
    {
      "cell_type": "code",
      "source": [
        "prompt = ChatPromptTemplate.from_template(template)"
      ],
      "metadata": {
        "id": "z1HhpS_f3JN-"
      },
      "execution_count": 27,
      "outputs": []
    },
    {
      "cell_type": "code",
      "source": [
        "rag_chain = (\n",
        "    {\"context\": retriever,  \"query\": RunnablePassthrough()}\n",
        "    | prompt\n",
        "    | llm\n",
        "    | StrOutputParser()\n",
        ")"
      ],
      "metadata": {
        "id": "cOlfv1EM3Mpl"
      },
      "execution_count": 28,
      "outputs": []
    },
    {
      "cell_type": "code",
      "source": [
        "response = rag_chain.invoke(\"what is long throw?\")"
      ],
      "metadata": {
        "colab": {
          "base_uri": "https://localhost:8080/"
        },
        "id": "GkIG3AWU3Qah",
        "outputId": "71263c8e-4f81-43f8-f0ae-e7bdc3ecc955"
      },
      "execution_count": 29,
      "outputs": [
        {
          "output_type": "stream",
          "name": "stderr",
          "text": [
            "\n",
            "llama_print_timings:        load time =    4290.21 ms\n",
            "llama_print_timings:      sample time =      52.33 ms /    77 runs   (    0.68 ms per token,  1471.32 tokens per second)\n",
            "llama_print_timings: prompt eval time =   28904.47 ms /    55 tokens (  525.54 ms per token,     1.90 tokens per second)\n",
            "llama_print_timings:        eval time =   51733.35 ms /    76 runs   (  680.70 ms per token,     1.47 tokens per second)\n",
            "llama_print_timings:       total time =   81058.90 ms /   131 tokens\n"
          ]
        }
      ]
    },
    {
      "cell_type": "code",
      "source": [
        "to_markdown(response)"
      ],
      "metadata": {
        "colab": {
          "base_uri": "https://localhost:8080/",
          "height": 97
        },
        "id": "Em0knKu93xsA",
        "outputId": "b45574c0-be48-4909-c695-de0e052d4c1f"
      },
      "execution_count": 30,
      "outputs": [
        {
          "output_type": "execute_result",
          "data": {
            "text/plain": [
              "<IPython.core.display.Markdown object>"
            ],
            "text/markdown": "> Long throw refers to a type of throw in which the ball is thrown as far as possible, usually by an athlete such as a javelin thrower or discus thrower. It requires a combination of strength, technique, and precision to achieve the desired distance. In sports, long throws are often used as a way to score points or gain an advantage over opponents."
          },
          "metadata": {},
          "execution_count": 30
        }
      ]
    },
    {
      "cell_type": "code",
      "source": [
        "import sys\n",
        "\n",
        "while True:\n",
        "  user_input = input(f\"Input Prompt: \")\n",
        "  if user_input == 'exit':\n",
        "    print('Exiting')\n",
        "    sys.exit()\n",
        "  if user_input == '':\n",
        "    continue\n",
        "  result = rag_chain.invoke(user_input)\n",
        "  print(\"Answer: \",result)"
      ],
      "metadata": {
        "colab": {
          "base_uri": "https://localhost:8080/",
          "height": 647
        },
        "id": "LvfwjQLl4Lr6",
        "outputId": "7f52bd0d-6260-4f85-f271-d5bda5768b42"
      },
      "execution_count": 31,
      "outputs": [
        {
          "name": "stdout",
          "output_type": "stream",
          "text": [
            "Input Prompt: how should you position your hands and adjust your head when catching a flat trajectory ball aimed at head height?\n"
          ]
        },
        {
          "output_type": "stream",
          "name": "stderr",
          "text": [
            "Llama.generate: prefix-match hit\n",
            "\n",
            "llama_print_timings:        load time =    4290.21 ms\n",
            "llama_print_timings:      sample time =      32.30 ms /    49 runs   (    0.66 ms per token,  1517.26 tokens per second)\n",
            "llama_print_timings: prompt eval time =   16477.96 ms /    32 tokens (  514.94 ms per token,     1.94 tokens per second)\n",
            "llama_print_timings:        eval time =   32415.87 ms /    48 runs   (  675.33 ms per token,     1.48 tokens per second)\n",
            "llama_print_timings:       total time =   49153.69 ms /    80 tokens\n"
          ]
        },
        {
          "name": "stdout",
          "output_type": "stream",
          "text": [
            "Answer:  The best way to catch a ball is to stand with your feet shoulder width apart and to move your hands in the direction of the ball movement. Adjusting the head is not necessary as it is not directly involved in the catching process.\n",
            "Input Prompt: what are some general points for fielders to keep in mind during a cricket match?\n"
          ]
        },
        {
          "output_type": "stream",
          "name": "stderr",
          "text": [
            "Llama.generate: prefix-match hit\n",
            "\n",
            "llama_print_timings:        load time =    4290.21 ms\n",
            "llama_print_timings:      sample time =     136.21 ms /   200 runs   (    0.68 ms per token,  1468.31 tokens per second)\n",
            "llama_print_timings: prompt eval time =   13789.85 ms /    27 tokens (  510.74 ms per token,     1.96 tokens per second)\n",
            "llama_print_timings:        eval time =  136516.43 ms /   199 runs   (  686.01 ms per token,     1.46 tokens per second)\n",
            "llama_print_timings:       total time =  151402.13 ms /   226 tokens\n"
          ]
        },
        {
          "name": "stdout",
          "output_type": "stream",
          "text": [
            "Answer:   Some general points for fielders to keep in mind during a cricket match are: Always be alert and aware of the ball. Try to anticipate the direction of the ball and the batsman's shot. Communicate with your teammates about the ball direction, the batsman, and your position. Stay focused on the game and avoid getting distracted. Stay alert at all times, even when the ball is not coming towards you. Keep your eyes on the ball as much as possible. Try to anticipate where the ball is going to go and where the batsman is going to hit it. Stay focused on the game and avoid getting distracted. Always be prepared to move quickly and change direction. Try to anticipate where the ball is going to go and where the batsman is going to hit it. Communicate with your teammates about the ball direction, the batsman, and your position. Stay focused on the game and avoid getting distracted.\n",
            "Input Prompt: when were the modern laws of cricket first written down and printed?\n"
          ]
        },
        {
          "output_type": "stream",
          "name": "stderr",
          "text": [
            "Llama.generate: prefix-match hit\n",
            "\n",
            "llama_print_timings:        load time =    4290.21 ms\n",
            "llama_print_timings:      sample time =     103.88 ms /   156 runs   (    0.67 ms per token,  1501.67 tokens per second)\n",
            "llama_print_timings: prompt eval time =   11054.21 ms /    23 tokens (  480.62 ms per token,     2.08 tokens per second)\n",
            "llama_print_timings:        eval time =  107889.23 ms /   155 runs   (  696.06 ms per token,     1.44 tokens per second)\n",
            "llama_print_timings:       total time =  119776.94 ms /   178 tokens\n"
          ]
        },
        {
          "output_type": "stream",
          "name": "stdout",
          "text": [
            "Answer:  The modern Laws of Cricket were first written down in 1844 by the Marylebone Cricket Society (MCC) in England, and it was published in 1845. The Laws have been revised several times since then, most recently in 2014, to reflect changes in the game over time. The Laws are designed to ensure fair play, protect players, and promote the spirit of cricket. They cover areas such as the equipment used, the pitch, the bowler, the batsman, the wicketkeeper, the umpire, and the captain. Any changes to the Laws must be approved by the MCC, which is responsible for overseeing the game of cricket worldwide.\n",
            "Input Prompt: exit\n",
            "Exiting\n"
          ]
        },
        {
          "output_type": "error",
          "ename": "SystemExit",
          "evalue": "",
          "traceback": [
            "An exception has occurred, use %tb to see the full traceback.\n",
            "\u001b[0;31mSystemExit\u001b[0m\n"
          ]
        },
        {
          "output_type": "stream",
          "name": "stderr",
          "text": [
            "/usr/local/lib/python3.10/dist-packages/IPython/core/interactiveshell.py:3561: UserWarning: To exit: use 'exit', 'quit', or Ctrl-D.\n",
            "  warn(\"To exit: use 'exit', 'quit', or Ctrl-D.\", stacklevel=1)\n"
          ]
        }
      ]
    },
    {
      "cell_type": "code",
      "source": [],
      "metadata": {
        "id": "HnS5pmFI4Q_Z"
      },
      "execution_count": null,
      "outputs": []
    }
  ]
}